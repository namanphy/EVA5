{
  "nbformat": 4,
  "nbformat_minor": 0,
  "metadata": {
    "colab": {
      "name": "cifar10-resnet18-main.ipynb",
      "provenance": [],
      "toc_visible": true,
      "authorship_tag": "ABX9TyOmz9fiuMoiRfVyNil/uAgq",
      "include_colab_link": true
    },
    "kernelspec": {
      "name": "python3",
      "display_name": "Python 3"
    },
    "accelerator": "GPU"
  },
  "cells": [
    {
      "cell_type": "markdown",
      "metadata": {
        "id": "view-in-github",
        "colab_type": "text"
      },
      "source": [
        "<a href=\"https://colab.research.google.com/github/namanphy/EVA5/blob/main/S8/cifar10_resnet18_main.ipynb\" target=\"_parent\"><img src=\"https://colab.research.google.com/assets/colab-badge.svg\" alt=\"Open In Colab\"/></a>"
      ]
    },
    {
      "cell_type": "markdown",
      "metadata": {
        "id": "0hBmN5SIb5G_"
      },
      "source": [
        "## Setting up code\r\n",
        "\r\n",
        "#### Cloning the required [repository](https://github.com/namanphy/EVA5/) and adding the path to the code directory."
      ]
    },
    {
      "cell_type": "code",
      "metadata": {
        "colab": {
          "base_uri": "https://localhost:8080/"
        },
        "id": "YDOxtM9LH9fb",
        "outputId": "f80becba-c42e-4771-c2de-19e92bedc62f"
      },
      "source": [
        "# import shutil\r\n",
        "import sys\r\n",
        "\r\n",
        "# shutil.rmtree('EVA5', ignore_errors=True)\r\n",
        "\r\n",
        "! git clone https://github.com/namanphy/EVA5.git\r\n",
        "sys.path.append('EVA5/S8/')"
      ],
      "execution_count": 1,
      "outputs": [
        {
          "output_type": "stream",
          "text": [
            "fatal: destination path 'EVA5' already exists and is not an empty directory.\n"
          ],
          "name": "stdout"
        }
      ]
    },
    {
      "cell_type": "markdown",
      "metadata": {
        "id": "jeL9wV3ncV3V"
      },
      "source": [
        "#### Importing the required modules and files"
      ]
    },
    {
      "cell_type": "code",
      "metadata": {
        "id": "fAMpPcJoc3tk"
      },
      "source": [
        "import cuda\r\n",
        "from data.dataset import cifar10_dataset, transformations\r\n",
        "from data.dataloader import data_loader\r\n",
        "from model.utils import set_seed, plot_metric, identify_misclassification, plot_results\r\n",
        "from model.model import ResNet18, model_summary\r\n",
        "from model.functions import sgd_optimizer, cross_entropy_loss\r\n",
        "from model.trainer import Trainer"
      ],
      "execution_count": 2,
      "outputs": []
    },
    {
      "cell_type": "code",
      "metadata": {
        "id": "bLHFs_RkZLwt"
      },
      "source": [
        "set_seed(123)\r\n",
        "use_cuda = cuda.cuda_is_available()\r\n",
        "# device = cuda.enable_cuda()"
      ],
      "execution_count": 3,
      "outputs": []
    },
    {
      "cell_type": "markdown",
      "metadata": {
        "id": "icKclhLChGtH"
      },
      "source": [
        "## Making the data ready"
      ]
    },
    {
      "cell_type": "code",
      "metadata": {
        "id": "c2Dx0ykekPb7"
      },
      "source": [
        "?? transformations"
      ],
      "execution_count": 4,
      "outputs": []
    },
    {
      "cell_type": "code",
      "metadata": {
        "colab": {
          "base_uri": "https://localhost:8080/"
        },
        "id": "YlFLraGtbm9W",
        "outputId": "4f4c4ef7-124f-43ed-ba17-30e63630be5c"
      },
      "source": [
        "transforms = transformations(augmentation=True, rotation=3.0, randomHorizontalFlip=True)\r\n",
        "\r\n",
        "train_set = cifar10_dataset('../data', train=True, transform=transforms)\r\n",
        "test_set = cifar10_dataset('../data', train=False, transform=transforms)\r\n",
        "\r\n",
        "train_loader = data_loader(train_set, 64, use_cuda, num_workers=4)\r\n",
        "test_loader = data_loader(test_set, 64, use_cuda, num_workers=4)"
      ],
      "execution_count": 9,
      "outputs": [
        {
          "output_type": "stream",
          "text": [
            "Files already downloaded and verified\n",
            "Files already downloaded and verified\n"
          ],
          "name": "stdout"
        }
      ]
    },
    {
      "cell_type": "markdown",
      "metadata": {
        "id": "UALRJqQTn8on"
      },
      "source": [
        "#### Printing the shape of one image"
      ]
    },
    {
      "cell_type": "code",
      "metadata": {
        "colab": {
          "base_uri": "https://localhost:8080/"
        },
        "id": "N0ibpJ0xbpUO",
        "outputId": "c2d6dfb5-75b4-4640-8f9f-4ad4044f449a"
      },
      "source": [
        "dataiter = iter(train_loader)\r\n",
        "images, labels = dataiter.next()\r\n",
        "print('shape of one image - ', images[0].shape)"
      ],
      "execution_count": 10,
      "outputs": [
        {
          "output_type": "stream",
          "text": [
            "shape of one image -  torch.Size([3, 32, 32])\n"
          ],
          "name": "stdout"
        }
      ]
    },
    {
      "cell_type": "markdown",
      "metadata": {
        "id": "7MSRYI0UhPdi"
      },
      "source": [
        "## Import model architecture and set up training"
      ]
    },
    {
      "cell_type": "markdown",
      "metadata": {
        "id": "Y-wqAx94iWTP"
      },
      "source": [
        "#### model setup"
      ]
    },
    {
      "cell_type": "code",
      "metadata": {
        "id": "KwZcsCvxhO6Z"
      },
      "source": [
        "model = ResNet18()\r\n",
        "# model_summary(model, input_size=(3, 32, 32))"
      ],
      "execution_count": 11,
      "outputs": []
    },
    {
      "cell_type": "markdown",
      "metadata": {
        "id": "CM9ljX5BiQ9s"
      },
      "source": [
        "#### Training model"
      ]
    },
    {
      "cell_type": "code",
      "metadata": {
        "colab": {
          "base_uri": "https://localhost:8080/"
        },
        "id": "4X3IrIbUeJnh",
        "outputId": "d4e1a95b-f9e6-48fe-c86c-ca687a1261e9"
      },
      "source": [
        "results = {}  # empty dict to store results\r\n",
        "\r\n",
        "criterion = cross_entropy_loss()\r\n",
        "optimizer = sgd_optimizer(model, lr=0.01, l2_factor=0)\r\n",
        "\r\n",
        "trainer = Trainer(model, optimizer, criterion, train_loader, valid_data_loader=test_loader, lr_scheduler=None, l1_loss=False)\r\n",
        "\r\n",
        "results['resnet18'] = trainer.train(45)\r\n",
        "trainer.save('cifar10_model')"
      ],
      "execution_count": 12,
      "outputs": [
        {
          "output_type": "stream",
          "text": [
            "\r  0%|          | 0/782 [00:00<?, ?it/s]"
          ],
          "name": "stderr"
        },
        {
          "output_type": "stream",
          "text": [
            "------------ EPOCH 1 -------------\n"
          ],
          "name": "stdout"
        },
        {
          "output_type": "stream",
          "text": [
            "Loss=1.1710925102233887 Batch_id=781 Accuracy=52.38: 100%|██████████| 782/782 [01:08<00:00, 11.42it/s]\n",
            "  0%|          | 0/782 [00:00<?, ?it/s]"
          ],
          "name": "stderr"
        },
        {
          "output_type": "stream",
          "text": [
            "\n",
            "Test set: Average loss: 1.0883, Accuracy: 6099/10000 (61%)\n",
            "\n",
            "------------ EPOCH 2 -------------\n"
          ],
          "name": "stdout"
        },
        {
          "output_type": "stream",
          "text": [
            "Loss=0.8064127564430237 Batch_id=781 Accuracy=72.38: 100%|██████████| 782/782 [01:09<00:00, 11.22it/s]\n",
            "  0%|          | 0/782 [00:00<?, ?it/s]"
          ],
          "name": "stderr"
        },
        {
          "output_type": "stream",
          "text": [
            "\n",
            "Test set: Average loss: 0.7883, Accuracy: 7307/10000 (73%)\n",
            "\n",
            "------------ EPOCH 3 -------------\n"
          ],
          "name": "stdout"
        },
        {
          "output_type": "stream",
          "text": [
            "Loss=1.2840652465820312 Batch_id=781 Accuracy=79.22: 100%|██████████| 782/782 [01:10<00:00, 11.12it/s]\n",
            "  0%|          | 0/782 [00:00<?, ?it/s]"
          ],
          "name": "stderr"
        },
        {
          "output_type": "stream",
          "text": [
            "\n",
            "Test set: Average loss: 0.6673, Accuracy: 7654/10000 (77%)\n",
            "\n",
            "------------ EPOCH 4 -------------\n"
          ],
          "name": "stdout"
        },
        {
          "output_type": "stream",
          "text": [
            "Loss=1.3959101438522339 Batch_id=781 Accuracy=82.91: 100%|██████████| 782/782 [01:11<00:00, 10.90it/s]\n",
            "  0%|          | 0/782 [00:00<?, ?it/s]"
          ],
          "name": "stderr"
        },
        {
          "output_type": "stream",
          "text": [
            "\n",
            "Test set: Average loss: 0.5741, Accuracy: 8059/10000 (81%)\n",
            "\n",
            "------------ EPOCH 5 -------------\n"
          ],
          "name": "stdout"
        },
        {
          "output_type": "stream",
          "text": [
            "Loss=0.5017873048782349 Batch_id=781 Accuracy=85.64: 100%|██████████| 782/782 [01:11<00:00, 10.88it/s]\n",
            "  0%|          | 0/782 [00:00<?, ?it/s]"
          ],
          "name": "stderr"
        },
        {
          "output_type": "stream",
          "text": [
            "\n",
            "Test set: Average loss: 0.5591, Accuracy: 8144/10000 (81%)\n",
            "\n",
            "------------ EPOCH 6 -------------\n"
          ],
          "name": "stdout"
        },
        {
          "output_type": "stream",
          "text": [
            "Loss=0.750032901763916 Batch_id=781 Accuracy=87.72: 100%|██████████| 782/782 [01:11<00:00, 10.90it/s]\n",
            "  0%|          | 0/782 [00:00<?, ?it/s]"
          ],
          "name": "stderr"
        },
        {
          "output_type": "stream",
          "text": [
            "\n",
            "Test set: Average loss: 0.5178, Accuracy: 8312/10000 (83%)\n",
            "\n",
            "------------ EPOCH 7 -------------\n"
          ],
          "name": "stdout"
        },
        {
          "output_type": "stream",
          "text": [
            "Loss=0.07929808646440506 Batch_id=781 Accuracy=89.32: 100%|██████████| 782/782 [01:11<00:00, 10.92it/s]\n",
            "  0%|          | 0/782 [00:00<?, ?it/s]"
          ],
          "name": "stderr"
        },
        {
          "output_type": "stream",
          "text": [
            "\n",
            "Test set: Average loss: 0.4821, Accuracy: 8408/10000 (84%)\n",
            "\n",
            "------------ EPOCH 8 -------------\n"
          ],
          "name": "stdout"
        },
        {
          "output_type": "stream",
          "text": [
            "Loss=0.4187900722026825 Batch_id=781 Accuracy=90.91: 100%|██████████| 782/782 [01:10<00:00, 11.03it/s]\n",
            "  0%|          | 0/782 [00:00<?, ?it/s]"
          ],
          "name": "stderr"
        },
        {
          "output_type": "stream",
          "text": [
            "\n",
            "Test set: Average loss: 0.5791, Accuracy: 8273/10000 (83%)\n",
            "\n",
            "------------ EPOCH 9 -------------\n"
          ],
          "name": "stdout"
        },
        {
          "output_type": "stream",
          "text": [
            "Loss=0.451235830783844 Batch_id=781 Accuracy=91.86: 100%|██████████| 782/782 [01:10<00:00, 11.08it/s]\n",
            "  0%|          | 0/782 [00:00<?, ?it/s]"
          ],
          "name": "stderr"
        },
        {
          "output_type": "stream",
          "text": [
            "\n",
            "Test set: Average loss: 0.5032, Accuracy: 8458/10000 (85%)\n",
            "\n",
            "------------ EPOCH 10 -------------\n"
          ],
          "name": "stdout"
        },
        {
          "output_type": "stream",
          "text": [
            "Loss=0.16630424559116364 Batch_id=781 Accuracy=93.31: 100%|██████████| 782/782 [01:10<00:00, 11.12it/s]\n",
            "  0%|          | 0/782 [00:00<?, ?it/s]"
          ],
          "name": "stderr"
        },
        {
          "output_type": "stream",
          "text": [
            "\n",
            "Test set: Average loss: 0.5020, Accuracy: 8546/10000 (85%)\n",
            "\n",
            "------------ EPOCH 11 -------------\n"
          ],
          "name": "stdout"
        },
        {
          "output_type": "stream",
          "text": [
            "Loss=0.5414968729019165 Batch_id=781 Accuracy=94.25: 100%|██████████| 782/782 [01:10<00:00, 11.10it/s]\n",
            "  0%|          | 0/782 [00:00<?, ?it/s]"
          ],
          "name": "stderr"
        },
        {
          "output_type": "stream",
          "text": [
            "\n",
            "Test set: Average loss: 0.4832, Accuracy: 8545/10000 (85%)\n",
            "\n",
            "------------ EPOCH 12 -------------\n"
          ],
          "name": "stdout"
        },
        {
          "output_type": "stream",
          "text": [
            "Loss=0.8843626379966736 Batch_id=781 Accuracy=94.85: 100%|██████████| 782/782 [01:10<00:00, 11.11it/s]\n",
            "  0%|          | 0/782 [00:00<?, ?it/s]"
          ],
          "name": "stderr"
        },
        {
          "output_type": "stream",
          "text": [
            "\n",
            "Test set: Average loss: 0.4702, Accuracy: 8671/10000 (87%)\n",
            "\n",
            "------------ EPOCH 13 -------------\n"
          ],
          "name": "stdout"
        },
        {
          "output_type": "stream",
          "text": [
            "Loss=0.13445931673049927 Batch_id=781 Accuracy=95.66: 100%|██████████| 782/782 [01:10<00:00, 11.11it/s]\n",
            "  0%|          | 0/782 [00:00<?, ?it/s]"
          ],
          "name": "stderr"
        },
        {
          "output_type": "stream",
          "text": [
            "\n",
            "Test set: Average loss: 0.5300, Accuracy: 8535/10000 (85%)\n",
            "\n",
            "------------ EPOCH 14 -------------\n"
          ],
          "name": "stdout"
        },
        {
          "output_type": "stream",
          "text": [
            "Loss=0.05078783631324768 Batch_id=781 Accuracy=96.34: 100%|██████████| 782/782 [01:10<00:00, 11.14it/s]\n",
            "  0%|          | 0/782 [00:00<?, ?it/s]"
          ],
          "name": "stderr"
        },
        {
          "output_type": "stream",
          "text": [
            "\n",
            "Test set: Average loss: 0.5091, Accuracy: 8637/10000 (86%)\n",
            "\n",
            "------------ EPOCH 15 -------------\n"
          ],
          "name": "stdout"
        },
        {
          "output_type": "stream",
          "text": [
            "Loss=0.458465576171875 Batch_id=781 Accuracy=96.71: 100%|██████████| 782/782 [01:10<00:00, 11.11it/s]\n",
            "  0%|          | 0/782 [00:00<?, ?it/s]"
          ],
          "name": "stderr"
        },
        {
          "output_type": "stream",
          "text": [
            "\n",
            "Test set: Average loss: 0.4910, Accuracy: 8651/10000 (87%)\n",
            "\n",
            "------------ EPOCH 16 -------------\n"
          ],
          "name": "stdout"
        },
        {
          "output_type": "stream",
          "text": [
            "Loss=0.17311497032642365 Batch_id=781 Accuracy=97.08: 100%|██████████| 782/782 [01:10<00:00, 11.09it/s]\n",
            "  0%|          | 0/782 [00:00<?, ?it/s]"
          ],
          "name": "stderr"
        },
        {
          "output_type": "stream",
          "text": [
            "\n",
            "Test set: Average loss: 0.5788, Accuracy: 8548/10000 (85%)\n",
            "\n",
            "------------ EPOCH 17 -------------\n"
          ],
          "name": "stdout"
        },
        {
          "output_type": "stream",
          "text": [
            "Loss=0.2885974645614624 Batch_id=781 Accuracy=97.38: 100%|██████████| 782/782 [01:10<00:00, 11.13it/s]\n",
            "  0%|          | 0/782 [00:00<?, ?it/s]"
          ],
          "name": "stderr"
        },
        {
          "output_type": "stream",
          "text": [
            "\n",
            "Test set: Average loss: 0.5086, Accuracy: 8714/10000 (87%)\n",
            "\n",
            "------------ EPOCH 18 -------------\n"
          ],
          "name": "stdout"
        },
        {
          "output_type": "stream",
          "text": [
            "Loss=0.0834818184375763 Batch_id=781 Accuracy=97.72: 100%|██████████| 782/782 [01:10<00:00, 11.10it/s]\n",
            "  0%|          | 0/782 [00:00<?, ?it/s]"
          ],
          "name": "stderr"
        },
        {
          "output_type": "stream",
          "text": [
            "\n",
            "Test set: Average loss: 0.5332, Accuracy: 8739/10000 (87%)\n",
            "\n",
            "------------ EPOCH 19 -------------\n"
          ],
          "name": "stdout"
        },
        {
          "output_type": "stream",
          "text": [
            "Loss=0.2516986131668091 Batch_id=781 Accuracy=98.15: 100%|██████████| 782/782 [01:10<00:00, 11.10it/s]\n",
            "  0%|          | 0/782 [00:00<?, ?it/s]"
          ],
          "name": "stderr"
        },
        {
          "output_type": "stream",
          "text": [
            "\n",
            "Test set: Average loss: 0.5419, Accuracy: 8687/10000 (87%)\n",
            "\n",
            "------------ EPOCH 20 -------------\n"
          ],
          "name": "stdout"
        },
        {
          "output_type": "stream",
          "text": [
            "Loss=0.26839402318000793 Batch_id=781 Accuracy=98.24: 100%|██████████| 782/782 [01:10<00:00, 11.13it/s]\n",
            "  0%|          | 0/782 [00:00<?, ?it/s]"
          ],
          "name": "stderr"
        },
        {
          "output_type": "stream",
          "text": [
            "\n",
            "Test set: Average loss: 0.5455, Accuracy: 8734/10000 (87%)\n",
            "\n",
            "------------ EPOCH 21 -------------\n"
          ],
          "name": "stdout"
        },
        {
          "output_type": "stream",
          "text": [
            "Loss=0.08499885350465775 Batch_id=781 Accuracy=98.39: 100%|██████████| 782/782 [01:10<00:00, 11.12it/s]\n",
            "  0%|          | 0/782 [00:00<?, ?it/s]"
          ],
          "name": "stderr"
        },
        {
          "output_type": "stream",
          "text": [
            "\n",
            "Test set: Average loss: 0.6059, Accuracy: 8611/10000 (86%)\n",
            "\n",
            "------------ EPOCH 22 -------------\n"
          ],
          "name": "stdout"
        },
        {
          "output_type": "stream",
          "text": [
            "Loss=0.009077545255422592 Batch_id=781 Accuracy=98.52: 100%|██████████| 782/782 [01:10<00:00, 11.11it/s]\n",
            "  0%|          | 0/782 [00:00<?, ?it/s]"
          ],
          "name": "stderr"
        },
        {
          "output_type": "stream",
          "text": [
            "\n",
            "Test set: Average loss: 0.5839, Accuracy: 8634/10000 (86%)\n",
            "\n",
            "------------ EPOCH 23 -------------\n"
          ],
          "name": "stdout"
        },
        {
          "output_type": "stream",
          "text": [
            "Loss=0.045572176575660706 Batch_id=781 Accuracy=98.52: 100%|██████████| 782/782 [01:10<00:00, 11.12it/s]\n",
            "  0%|          | 0/782 [00:00<?, ?it/s]"
          ],
          "name": "stderr"
        },
        {
          "output_type": "stream",
          "text": [
            "\n",
            "Test set: Average loss: 0.5570, Accuracy: 8744/10000 (87%)\n",
            "\n",
            "------------ EPOCH 24 -------------\n"
          ],
          "name": "stdout"
        },
        {
          "output_type": "stream",
          "text": [
            "Loss=0.028157368302345276 Batch_id=781 Accuracy=98.80: 100%|██████████| 782/782 [01:10<00:00, 11.14it/s]\n",
            "  0%|          | 0/782 [00:00<?, ?it/s]"
          ],
          "name": "stderr"
        },
        {
          "output_type": "stream",
          "text": [
            "\n",
            "Test set: Average loss: 0.5608, Accuracy: 8738/10000 (87%)\n",
            "\n",
            "------------ EPOCH 25 -------------\n"
          ],
          "name": "stdout"
        },
        {
          "output_type": "stream",
          "text": [
            "Loss=0.019796453416347504 Batch_id=781 Accuracy=98.75: 100%|██████████| 782/782 [01:10<00:00, 11.11it/s]\n",
            "  0%|          | 0/782 [00:00<?, ?it/s]"
          ],
          "name": "stderr"
        },
        {
          "output_type": "stream",
          "text": [
            "\n",
            "Test set: Average loss: 0.5750, Accuracy: 8721/10000 (87%)\n",
            "\n",
            "------------ EPOCH 26 -------------\n"
          ],
          "name": "stdout"
        },
        {
          "output_type": "stream",
          "text": [
            "Loss=0.0845472663640976 Batch_id=781 Accuracy=98.82: 100%|██████████| 782/782 [01:10<00:00, 11.12it/s]\n",
            "  0%|          | 0/782 [00:00<?, ?it/s]"
          ],
          "name": "stderr"
        },
        {
          "output_type": "stream",
          "text": [
            "\n",
            "Test set: Average loss: 0.5851, Accuracy: 8725/10000 (87%)\n",
            "\n",
            "------------ EPOCH 27 -------------\n"
          ],
          "name": "stdout"
        },
        {
          "output_type": "stream",
          "text": [
            "Loss=0.0006754964124411345 Batch_id=781 Accuracy=99.02: 100%|██████████| 782/782 [01:10<00:00, 11.09it/s]\n",
            "  0%|          | 0/782 [00:00<?, ?it/s]"
          ],
          "name": "stderr"
        },
        {
          "output_type": "stream",
          "text": [
            "\n",
            "Test set: Average loss: 0.5851, Accuracy: 8751/10000 (88%)\n",
            "\n",
            "------------ EPOCH 28 -------------\n"
          ],
          "name": "stdout"
        },
        {
          "output_type": "stream",
          "text": [
            "Loss=0.008316855877637863 Batch_id=781 Accuracy=99.07: 100%|██████████| 782/782 [01:10<00:00, 11.10it/s]\n",
            "  0%|          | 0/782 [00:00<?, ?it/s]"
          ],
          "name": "stderr"
        },
        {
          "output_type": "stream",
          "text": [
            "\n",
            "Test set: Average loss: 0.6113, Accuracy: 8711/10000 (87%)\n",
            "\n",
            "------------ EPOCH 29 -------------\n"
          ],
          "name": "stdout"
        },
        {
          "output_type": "stream",
          "text": [
            "Loss=0.02526344731450081 Batch_id=781 Accuracy=99.12: 100%|██████████| 782/782 [01:10<00:00, 11.10it/s]\n",
            "  0%|          | 0/782 [00:00<?, ?it/s]"
          ],
          "name": "stderr"
        },
        {
          "output_type": "stream",
          "text": [
            "\n",
            "Test set: Average loss: 0.6167, Accuracy: 8751/10000 (88%)\n",
            "\n",
            "------------ EPOCH 30 -------------\n"
          ],
          "name": "stdout"
        },
        {
          "output_type": "stream",
          "text": [
            "Loss=0.0008727539679966867 Batch_id=781 Accuracy=99.30: 100%|██████████| 782/782 [01:10<00:00, 11.11it/s]\n",
            "  0%|          | 0/782 [00:00<?, ?it/s]"
          ],
          "name": "stderr"
        },
        {
          "output_type": "stream",
          "text": [
            "\n",
            "Test set: Average loss: 0.6129, Accuracy: 8731/10000 (87%)\n",
            "\n",
            "------------ EPOCH 31 -------------\n"
          ],
          "name": "stdout"
        },
        {
          "output_type": "stream",
          "text": [
            "Loss=0.00047067709965631366 Batch_id=781 Accuracy=99.02: 100%|██████████| 782/782 [01:11<00:00, 10.89it/s]\n",
            "  0%|          | 0/782 [00:00<?, ?it/s]"
          ],
          "name": "stderr"
        },
        {
          "output_type": "stream",
          "text": [
            "\n",
            "Test set: Average loss: 0.6111, Accuracy: 8730/10000 (87%)\n",
            "\n",
            "------------ EPOCH 32 -------------\n"
          ],
          "name": "stdout"
        },
        {
          "output_type": "stream",
          "text": [
            "Loss=0.009922427125275135 Batch_id=781 Accuracy=99.31: 100%|██████████| 782/782 [01:12<00:00, 10.86it/s]\n",
            "  0%|          | 0/782 [00:00<?, ?it/s]"
          ],
          "name": "stderr"
        },
        {
          "output_type": "stream",
          "text": [
            "\n",
            "Test set: Average loss: 0.5884, Accuracy: 8739/10000 (87%)\n",
            "\n",
            "------------ EPOCH 33 -------------\n"
          ],
          "name": "stdout"
        },
        {
          "output_type": "stream",
          "text": [
            "Loss=0.002372606424614787 Batch_id=781 Accuracy=99.50: 100%|██████████| 782/782 [01:11<00:00, 10.87it/s]\n",
            "  0%|          | 0/782 [00:00<?, ?it/s]"
          ],
          "name": "stderr"
        },
        {
          "output_type": "stream",
          "text": [
            "\n",
            "Test set: Average loss: 0.5752, Accuracy: 8820/10000 (88%)\n",
            "\n",
            "------------ EPOCH 34 -------------\n"
          ],
          "name": "stdout"
        },
        {
          "output_type": "stream",
          "text": [
            "Loss=0.15161684155464172 Batch_id=781 Accuracy=99.40: 100%|██████████| 782/782 [01:12<00:00, 10.86it/s]\n",
            "  0%|          | 0/782 [00:00<?, ?it/s]"
          ],
          "name": "stderr"
        },
        {
          "output_type": "stream",
          "text": [
            "\n",
            "Test set: Average loss: 0.6475, Accuracy: 8713/10000 (87%)\n",
            "\n",
            "------------ EPOCH 35 -------------\n"
          ],
          "name": "stdout"
        },
        {
          "output_type": "stream",
          "text": [
            "Loss=0.016308074817061424 Batch_id=781 Accuracy=99.44: 100%|██████████| 782/782 [01:11<00:00, 10.92it/s]\n",
            "  0%|          | 0/782 [00:00<?, ?it/s]"
          ],
          "name": "stderr"
        },
        {
          "output_type": "stream",
          "text": [
            "\n",
            "Test set: Average loss: 0.5838, Accuracy: 8813/10000 (88%)\n",
            "\n",
            "------------ EPOCH 36 -------------\n"
          ],
          "name": "stdout"
        },
        {
          "output_type": "stream",
          "text": [
            "Loss=7.5919265327684116e-06 Batch_id=781 Accuracy=99.49: 100%|██████████| 782/782 [01:11<00:00, 11.00it/s]\n",
            "  0%|          | 0/782 [00:00<?, ?it/s]"
          ],
          "name": "stderr"
        },
        {
          "output_type": "stream",
          "text": [
            "\n",
            "Test set: Average loss: 0.6092, Accuracy: 8754/10000 (88%)\n",
            "\n",
            "------------ EPOCH 37 -------------\n"
          ],
          "name": "stdout"
        },
        {
          "output_type": "stream",
          "text": [
            "Loss=0.14052920043468475 Batch_id=781 Accuracy=99.53: 100%|██████████| 782/782 [01:10<00:00, 11.02it/s]\n",
            "  0%|          | 0/782 [00:00<?, ?it/s]"
          ],
          "name": "stderr"
        },
        {
          "output_type": "stream",
          "text": [
            "\n",
            "Test set: Average loss: 0.6295, Accuracy: 8798/10000 (88%)\n",
            "\n",
            "------------ EPOCH 38 -------------\n"
          ],
          "name": "stdout"
        },
        {
          "output_type": "stream",
          "text": [
            "Loss=0.0006087728543207049 Batch_id=781 Accuracy=99.50: 100%|██████████| 782/782 [01:10<00:00, 11.07it/s]\n",
            "  0%|          | 0/782 [00:00<?, ?it/s]"
          ],
          "name": "stderr"
        },
        {
          "output_type": "stream",
          "text": [
            "\n",
            "Test set: Average loss: 0.6417, Accuracy: 8738/10000 (87%)\n",
            "\n",
            "------------ EPOCH 39 -------------\n"
          ],
          "name": "stdout"
        },
        {
          "output_type": "stream",
          "text": [
            "Loss=0.006631232798099518 Batch_id=781 Accuracy=99.53: 100%|██████████| 782/782 [01:10<00:00, 11.10it/s]\n",
            "  0%|          | 0/782 [00:00<?, ?it/s]"
          ],
          "name": "stderr"
        },
        {
          "output_type": "stream",
          "text": [
            "\n",
            "Test set: Average loss: 0.6143, Accuracy: 8818/10000 (88%)\n",
            "\n",
            "------------ EPOCH 40 -------------\n"
          ],
          "name": "stdout"
        },
        {
          "output_type": "stream",
          "text": [
            "Loss=0.020319804549217224 Batch_id=781 Accuracy=99.69: 100%|██████████| 782/782 [01:10<00:00, 11.10it/s]\n",
            "  0%|          | 0/782 [00:00<?, ?it/s]"
          ],
          "name": "stderr"
        },
        {
          "output_type": "stream",
          "text": [
            "\n",
            "Test set: Average loss: 0.6371, Accuracy: 8781/10000 (88%)\n",
            "\n",
            "------------ EPOCH 41 -------------\n"
          ],
          "name": "stdout"
        },
        {
          "output_type": "stream",
          "text": [
            "Loss=0.0015478992136195302 Batch_id=781 Accuracy=99.61: 100%|██████████| 782/782 [01:10<00:00, 11.10it/s]\n",
            "  0%|          | 0/782 [00:00<?, ?it/s]"
          ],
          "name": "stderr"
        },
        {
          "output_type": "stream",
          "text": [
            "\n",
            "Test set: Average loss: 0.5936, Accuracy: 8846/10000 (88%)\n",
            "\n",
            "------------ EPOCH 42 -------------\n"
          ],
          "name": "stdout"
        },
        {
          "output_type": "stream",
          "text": [
            "Loss=0.008283460512757301 Batch_id=781 Accuracy=99.62: 100%|██████████| 782/782 [01:10<00:00, 11.12it/s]\n",
            "  0%|          | 0/782 [00:00<?, ?it/s]"
          ],
          "name": "stderr"
        },
        {
          "output_type": "stream",
          "text": [
            "\n",
            "Test set: Average loss: 0.6304, Accuracy: 8766/10000 (88%)\n",
            "\n",
            "------------ EPOCH 43 -------------\n"
          ],
          "name": "stdout"
        },
        {
          "output_type": "stream",
          "text": [
            "Loss=0.1426514834165573 Batch_id=781 Accuracy=99.61: 100%|██████████| 782/782 [01:10<00:00, 11.10it/s]\n",
            "  0%|          | 0/782 [00:00<?, ?it/s]"
          ],
          "name": "stderr"
        },
        {
          "output_type": "stream",
          "text": [
            "\n",
            "Test set: Average loss: 0.6895, Accuracy: 8735/10000 (87%)\n",
            "\n",
            "------------ EPOCH 44 -------------\n"
          ],
          "name": "stdout"
        },
        {
          "output_type": "stream",
          "text": [
            "Loss=0.0012889225035905838 Batch_id=781 Accuracy=99.53: 100%|██████████| 782/782 [01:10<00:00, 11.11it/s]\n",
            "  0%|          | 0/782 [00:00<?, ?it/s]"
          ],
          "name": "stderr"
        },
        {
          "output_type": "stream",
          "text": [
            "\n",
            "Test set: Average loss: 0.6514, Accuracy: 8754/10000 (88%)\n",
            "\n",
            "------------ EPOCH 45 -------------\n"
          ],
          "name": "stdout"
        },
        {
          "output_type": "stream",
          "text": [
            "Loss=0.00018372011254541576 Batch_id=781 Accuracy=99.58: 100%|██████████| 782/782 [01:10<00:00, 11.10it/s]\n"
          ],
          "name": "stderr"
        },
        {
          "output_type": "stream",
          "text": [
            "\n",
            "Test set: Average loss: 0.6168, Accuracy: 8827/10000 (88%)\n",
            "\n"
          ],
          "name": "stdout"
        }
      ]
    },
    {
      "cell_type": "markdown",
      "metadata": {
        "id": "hvgeAEUPlZMJ"
      },
      "source": [
        "## Analyzing results "
      ]
    },
    {
      "cell_type": "code",
      "metadata": {
        "colab": {
          "base_uri": "https://localhost:8080/"
        },
        "id": "d2q2zSySo4tK",
        "outputId": "16e3d95a-7222-4ec0-c790-11533876401a"
      },
      "source": [
        "from statistics import mean\r\n",
        "print('Train accuracy - ',  mean(results['iter_1']['train_acc']))\r\n",
        "print('Test accuracy - ',  mean(results['iter_1']['test_acc']))"
      ],
      "execution_count": null,
      "outputs": [
        {
          "output_type": "stream",
          "text": [
            "Train accuracy -  90.65377777777778\n",
            "Test accuracy -  80.41444444444444\n"
          ],
          "name": "stdout"
        }
      ]
    },
    {
      "cell_type": "markdown",
      "metadata": {
        "id": "eCsACGmqquaY"
      },
      "source": [
        "It is clearly visible that our model is overfitting here. Though in last some epochs the `test_accuracy` was more then 81% but the model is not beating above that mark."
      ]
    },
    {
      "cell_type": "code",
      "metadata": {
        "colab": {
          "base_uri": "https://localhost:8080/",
          "height": 1000
        },
        "id": "tiaOzVo8kRA7",
        "outputId": "8f3c4365-814a-447a-e2f6-7b8ebca57c32"
      },
      "source": [
        "# Validation loss\r\n",
        "losses = {}\r\n",
        "accuracies = {}\r\n",
        "for k, v in results.items():\r\n",
        "    losses[k] = v['test_loss']\r\n",
        "    accuracies[k] = v['test_acc']\r\n",
        "  \r\n",
        "plot_metric(losses, 'Loss')\r\n",
        "plot_metric(accuracies, 'Accuracy')"
      ],
      "execution_count": null,
      "outputs": [
        {
          "output_type": "display_data",
          "data": {
            "image/png": "[encoded data removed]",
            "text/plain": [
              "<Figure size 936x792 with 1 Axes>"
            ]
          },
          "metadata": {
            "tags": [],
            "needs_background": "light"
          }
        },
        {
          "output_type": "display_data",
          "data": {
            "image/png": "[encoded data removed]",
            "text/plain": [
              "<Figure size 936x792 with 1 Axes>"
            ]
          },
          "metadata": {
            "tags": [],
            "needs_background": "light"
          }
        }
      ]
    },
    {
      "cell_type": "code",
      "metadata": {
        "id": "SwPjRvDil28E"
      },
      "source": [
        "path_to_model = '/content/cifar10_model.pt'\r\n",
        "incorrect_samples = identify_misclassification(Net(), path_to_model, test_loader)\r\n",
        "\r\n",
        "plot_results(incorrect_samples)"
      ],
      "execution_count": null,
      "outputs": []
    },
    {
      "cell_type": "code",
      "metadata": {
        "id": "4GiP9-qrocoJ"
      },
      "source": [
        ""
      ],
      "execution_count": null,
      "outputs": []
    }
  ]
}