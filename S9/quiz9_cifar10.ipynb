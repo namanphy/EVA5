{
  "nbformat": 4,
  "nbformat_minor": 0,
  "metadata": {
    "colab": {
      "name": "quiz9_cifar10.ipynb",
      "provenance": [],
      "collapsed_sections": [],
      "toc_visible": true,
      "authorship_tag": "ABX9TyMhetyy1/baSx01YVPJaAZz",
      "include_colab_link": true
    },
    "kernelspec": {
      "name": "python3",
      "display_name": "Python 3"
    },
    "accelerator": "GPU"
  },
  "cells": [
    {
      "cell_type": "markdown",
      "metadata": {
        "id": "view-in-github",
        "colab_type": "text"
      },
      "source": [
        "<a href=\"https://colab.research.google.com/github/namanphy/EVA5/blob/main/S9/quiz9_cifar10.ipynb\" target=\"_parent\"><img src=\"https://colab.research.google.com/assets/colab-badge.svg\" alt=\"Open In Colab\"/></a>"
      ]
    },
    {
      "cell_type": "code",
      "metadata": {
        "colab": {
          "base_uri": "https://localhost:8080/",
          "height": 128
        },
        "id": "iCf_yQ8CGuSY",
        "outputId": "6c341196-0f54-428e-c12a-acf528264fd2"
      },
      "source": [
        "from datetime import datetime \r\n",
        "print(\"Current Date/Time: \", datetime.now())"
      ],
      "execution_count": 1,
      "outputs": [
        {
          "output_type": "error",
          "ename": "SyntaxError",
          "evalue": "ignored",
          "traceback": [
            "\u001b[0;36m  File \u001b[0;32m\"<ipython-input-1-6e46b25eeaf0>\"\u001b[0;36m, line \u001b[0;32m1\u001b[0m\n\u001b[0;31m    import datetime from datetime\u001b[0m\n\u001b[0m                       ^\u001b[0m\n\u001b[0;31mSyntaxError\u001b[0m\u001b[0;31m:\u001b[0m invalid syntax\n"
          ]
        }
      ]
    },
    {
      "cell_type": "markdown",
      "metadata": {
        "id": "0hBmN5SIb5G_"
      },
      "source": [
        "## Setting up code\r\n",
        "\r\n",
        "#### Cloning the required [repository](https://github.com/namanphy/EVA5/) and adding the path to the code directory."
      ]
    },
    {
      "cell_type": "code",
      "metadata": {
        "id": "YDOxtM9LH9fb"
      },
      "source": [
        "import sys\r\n",
        "\r\n",
        "! git clone https://github.com/namanphy/EVA5.git\r\n",
        "! pip install git+https://github.com/albumentations-team/albumentations.git\r\n",
        "sys.path.append('EVA5/S9/')"
      ],
      "execution_count": null,
      "outputs": []
    },
    {
      "cell_type": "markdown",
      "metadata": {
        "id": "jeL9wV3ncV3V"
      },
      "source": [
        "#### Importing the required modules and files"
      ]
    },
    {
      "cell_type": "code",
      "metadata": {
        "id": "fAMpPcJoc3tk"
      },
      "source": [
        "import cuda\r\n",
        "from data.dataset import CIFAR10\r\n",
        "from data.dataloader import data_loader\r\n",
        "from model.QuizDNN import QuizDNN, model_summary\r\n",
        "from model.functions import sgd_optimizer, cross_entropy_loss\r\n",
        "from model.trainer import Trainer\r\n",
        "from utils import set_seed, plot_metric\r\n",
        "# from gradcam.gradcam import plot_gradcam"
      ],
      "execution_count": 3,
      "outputs": []
    },
    {
      "cell_type": "code",
      "metadata": {
        "id": "bLHFs_RkZLwt"
      },
      "source": [
        "set_seed(123)\r\n",
        "use_cuda = cuda.cuda_is_available()\r\n",
        "device = cuda.enable_cuda()"
      ],
      "execution_count": 4,
      "outputs": []
    },
    {
      "cell_type": "markdown",
      "metadata": {
        "id": "icKclhLChGtH"
      },
      "source": [
        "## Making the data ready"
      ]
    },
    {
      "cell_type": "code",
      "metadata": {
        "id": "YlFLraGtbm9W",
        "colab": {
          "base_uri": "https://localhost:8080/"
        },
        "outputId": "f01cf475-6494-47ff-e278-94b6a120c83a"
      },
      "source": [
        "cifar10 = CIFAR10(mean=(0.5, 0.5, 0.5), std=(0.5, 0.5, 0.5), rotation=0, horizontal_flip=0.5, cutout=0.0, cutout_hw_ratio=2)\r\n",
        "\r\n",
        "train_set = cifar10.download('../data', train=True, apply_transform=True)\r\n",
        "test_set = cifar10.download('../data', train=False, apply_transform=True)\r\n",
        "\r\n",
        "train_loader = data_loader(train_set, 64, use_cuda, num_workers=4)\r\n",
        "test_loader = data_loader(test_set, 64, use_cuda, num_workers=4)"
      ],
      "execution_count": 9,
      "outputs": [
        {
          "output_type": "stream",
          "text": [
            "Files already downloaded and verified\n",
            "Transforms :  {'train': True, 'mean': (0.5, 0.5, 0.5), 'std': (0.5, 0.5, 0.5), 'rotation': 0, 'horizontal_flip': 0.5, 'cutout': 0.0, 'cutout_height': 16, 'cutout_width': 16}\n",
            "Files already downloaded and verified\n",
            "Transforms :  {'train': False, 'mean': (0.5, 0.5, 0.5), 'std': (0.5, 0.5, 0.5), 'rotation': 0, 'horizontal_flip': 0.5, 'cutout': 0.0, 'cutout_height': 16, 'cutout_width': 16}\n",
            "Files already downloaded and verified\n"
          ],
          "name": "stdout"
        }
      ]
    },
    {
      "cell_type": "markdown",
      "metadata": {
        "id": "UALRJqQTn8on"
      },
      "source": [
        "#### Printing the shape of one image"
      ]
    },
    {
      "cell_type": "code",
      "metadata": {
        "id": "N0ibpJ0xbpUO",
        "colab": {
          "base_uri": "https://localhost:8080/"
        },
        "outputId": "fa194d4b-1dde-4966-8942-b3c5b516dd01"
      },
      "source": [
        "dataiter = iter(train_loader)\r\n",
        "images, labels = dataiter.next()\r\n",
        "print('shape of one image - ', images[0].shape)"
      ],
      "execution_count": 10,
      "outputs": [
        {
          "output_type": "stream",
          "text": [
            "shape of one image -  torch.Size([3, 32, 32])\n"
          ],
          "name": "stdout"
        }
      ]
    },
    {
      "cell_type": "markdown",
      "metadata": {
        "id": "7MSRYI0UhPdi"
      },
      "source": [
        "## Import model architecture and set up training"
      ]
    },
    {
      "cell_type": "markdown",
      "metadata": {
        "id": "Y-wqAx94iWTP"
      },
      "source": [
        "#### model setup"
      ]
    },
    {
      "cell_type": "code",
      "metadata": {
        "id": "KwZcsCvxhO6Z",
        "colab": {
          "base_uri": "https://localhost:8080/"
        },
        "outputId": "f68e0348-1e86-4f92-a96c-1d7f4f86c931"
      },
      "source": [
        "model = QuizDNN()\r\n",
        "model_summary(model.to(device), input_size=(3, 32, 32))"
      ],
      "execution_count": 11,
      "outputs": [
        {
          "output_type": "stream",
          "text": [
            "----------------------------------------------------------------\n",
            "        Layer (type)               Output Shape         Param #\n",
            "================================================================\n",
            "            Conv2d-1           [-1, 64, 32, 32]           1,728\n",
            "       BatchNorm2d-2           [-1, 64, 32, 32]             128\n",
            "              ReLU-3           [-1, 64, 32, 32]               0\n",
            "            Conv2d-4           [-1, 64, 32, 32]          36,864\n",
            "       BatchNorm2d-5           [-1, 64, 32, 32]             128\n",
            "              ReLU-6           [-1, 64, 32, 32]               0\n",
            "            Conv2d-7           [-1, 64, 32, 32]          36,864\n",
            "       BatchNorm2d-8           [-1, 64, 32, 32]             128\n",
            "              ReLU-9           [-1, 64, 32, 32]               0\n",
            "        MaxPool2d-10           [-1, 64, 16, 16]               0\n",
            "           Conv2d-11           [-1, 64, 16, 16]          36,864\n",
            "      BatchNorm2d-12           [-1, 64, 16, 16]             128\n",
            "             ReLU-13           [-1, 64, 16, 16]               0\n",
            "           Conv2d-14           [-1, 64, 16, 16]          36,864\n",
            "      BatchNorm2d-15           [-1, 64, 16, 16]             128\n",
            "             ReLU-16           [-1, 64, 16, 16]               0\n",
            "           Conv2d-17           [-1, 64, 16, 16]          36,864\n",
            "      BatchNorm2d-18           [-1, 64, 16, 16]             128\n",
            "             ReLU-19           [-1, 64, 16, 16]               0\n",
            "        MaxPool2d-20             [-1, 64, 8, 8]               0\n",
            "           Conv2d-21             [-1, 64, 8, 8]          36,864\n",
            "      BatchNorm2d-22             [-1, 64, 8, 8]             128\n",
            "             ReLU-23             [-1, 64, 8, 8]               0\n",
            "           Conv2d-24             [-1, 64, 8, 8]          36,864\n",
            "      BatchNorm2d-25             [-1, 64, 8, 8]             128\n",
            "             ReLU-26             [-1, 64, 8, 8]               0\n",
            "           Conv2d-27             [-1, 64, 8, 8]          36,864\n",
            "      BatchNorm2d-28             [-1, 64, 8, 8]             128\n",
            "             ReLU-29             [-1, 64, 8, 8]               0\n",
            "AdaptiveAvgPool2d-30             [-1, 64, 1, 1]               0\n",
            "           Linear-31                   [-1, 10]             650\n",
            "================================================================\n",
            "Total params: 298,442\n",
            "Trainable params: 298,442\n",
            "Non-trainable params: 0\n",
            "----------------------------------------------------------------\n",
            "Input size (MB): 0.01\n",
            "Forward/backward pass size (MB): 6.06\n",
            "Params size (MB): 1.14\n",
            "Estimated Total Size (MB): 7.21\n",
            "----------------------------------------------------------------\n",
            "None\n"
          ],
          "name": "stdout"
        },
        {
          "output_type": "stream",
          "text": [
            "EVA5/S9/model/QuizDNN.py:109: UserWarning: Implicit dimension choice for log_softmax has been deprecated. Change the call to include dim=X as an argument.\n",
            "  return F.log_softmax(out)\n"
          ],
          "name": "stderr"
        }
      ]
    },
    {
      "cell_type": "markdown",
      "metadata": {
        "id": "CM9ljX5BiQ9s"
      },
      "source": [
        "#### Training model"
      ]
    },
    {
      "cell_type": "code",
      "metadata": {
        "id": "4X3IrIbUeJnh",
        "colab": {
          "base_uri": "https://localhost:8080/"
        },
        "outputId": "b07eac6d-7ab3-411a-f9b1-a7507d2a87c9"
      },
      "source": [
        "results = {}  # empty dict to store results\r\n",
        "\r\n",
        "criterion = cross_entropy_loss()\r\n",
        "optimizer = sgd_optimizer(model, lr=0.01, l2_factor=0)\r\n",
        "\r\n",
        "trainer = Trainer(model, optimizer, criterion, train_loader, valid_data_loader=test_loader, lr_scheduler=None, l1_loss=False)\r\n",
        "\r\n",
        "results['quiz_dnn'] = trainer.train(20)\r\n",
        "trainer.save('quiz_dnn_model')"
      ],
      "execution_count": 12,
      "outputs": [
        {
          "output_type": "stream",
          "text": [
            "\r  0%|          | 0/782 [00:00<?, ?it/s]"
          ],
          "name": "stderr"
        },
        {
          "output_type": "stream",
          "text": [
            "------------ EPOCH 1 -------------\n"
          ],
          "name": "stdout"
        },
        {
          "output_type": "stream",
          "text": [
            "EVA5/S9/model/QuizDNN.py:109: UserWarning: Implicit dimension choice for log_softmax has been deprecated. Change the call to include dim=X as an argument.\n",
            "  return F.log_softmax(out)\n",
            "Loss=0.7566267251968384 Batch_id=781 Accuracy=52.54: 100%|██████████| 782/782 [00:24<00:00, 31.74it/s]\n",
            "  0%|          | 0/782 [00:00<?, ?it/s]"
          ],
          "name": "stderr"
        },
        {
          "output_type": "stream",
          "text": [
            "\n",
            "Test set: Average loss: 2.0952, Accuracy: 3704/10000 (37%)\n",
            "\n",
            "------------ EPOCH 2 -------------\n"
          ],
          "name": "stdout"
        },
        {
          "output_type": "stream",
          "text": [
            "Loss=0.8921689391136169 Batch_id=781 Accuracy=68.26: 100%|██████████| 782/782 [00:24<00:00, 31.49it/s]\n",
            "  0%|          | 0/782 [00:00<?, ?it/s]"
          ],
          "name": "stderr"
        },
        {
          "output_type": "stream",
          "text": [
            "\n",
            "Test set: Average loss: 1.1343, Accuracy: 5907/10000 (59%)\n",
            "\n",
            "------------ EPOCH 3 -------------\n"
          ],
          "name": "stdout"
        },
        {
          "output_type": "stream",
          "text": [
            "Loss=0.5391478538513184 Batch_id=781 Accuracy=74.53: 100%|██████████| 782/782 [00:24<00:00, 31.84it/s]\n",
            "  0%|          | 0/782 [00:00<?, ?it/s]"
          ],
          "name": "stderr"
        },
        {
          "output_type": "stream",
          "text": [
            "\n",
            "Test set: Average loss: 1.2374, Accuracy: 6074/10000 (61%)\n",
            "\n",
            "------------ EPOCH 4 -------------\n"
          ],
          "name": "stdout"
        },
        {
          "output_type": "stream",
          "text": [
            "Loss=0.8643436431884766 Batch_id=781 Accuracy=78.14: 100%|██████████| 782/782 [00:24<00:00, 31.58it/s]\n",
            "  0%|          | 0/782 [00:00<?, ?it/s]"
          ],
          "name": "stderr"
        },
        {
          "output_type": "stream",
          "text": [
            "\n",
            "Test set: Average loss: 1.3576, Accuracy: 6140/10000 (61%)\n",
            "\n",
            "------------ EPOCH 5 -------------\n"
          ],
          "name": "stdout"
        },
        {
          "output_type": "stream",
          "text": [
            "Loss=0.5110535621643066 Batch_id=781 Accuracy=80.84: 100%|██████████| 782/782 [00:24<00:00, 31.32it/s]\n",
            "  0%|          | 0/782 [00:00<?, ?it/s]"
          ],
          "name": "stderr"
        },
        {
          "output_type": "stream",
          "text": [
            "\n",
            "Test set: Average loss: 1.2929, Accuracy: 6075/10000 (61%)\n",
            "\n",
            "------------ EPOCH 6 -------------\n"
          ],
          "name": "stdout"
        },
        {
          "output_type": "stream",
          "text": [
            "Loss=0.3641210198402405 Batch_id=781 Accuracy=82.83: 100%|██████████| 782/782 [00:24<00:00, 31.63it/s]\n",
            "  0%|          | 0/782 [00:00<?, ?it/s]"
          ],
          "name": "stderr"
        },
        {
          "output_type": "stream",
          "text": [
            "\n",
            "Test set: Average loss: 1.0762, Accuracy: 6761/10000 (68%)\n",
            "\n",
            "------------ EPOCH 7 -------------\n"
          ],
          "name": "stdout"
        },
        {
          "output_type": "stream",
          "text": [
            "Loss=0.21143877506256104 Batch_id=781 Accuracy=84.41: 100%|██████████| 782/782 [00:24<00:00, 31.40it/s]\n",
            "  0%|          | 0/782 [00:00<?, ?it/s]"
          ],
          "name": "stderr"
        },
        {
          "output_type": "stream",
          "text": [
            "\n",
            "Test set: Average loss: 1.0218, Accuracy: 6906/10000 (69%)\n",
            "\n",
            "------------ EPOCH 8 -------------\n"
          ],
          "name": "stdout"
        },
        {
          "output_type": "stream",
          "text": [
            "Loss=0.4693424701690674 Batch_id=781 Accuracy=85.78: 100%|██████████| 782/782 [00:24<00:00, 31.54it/s]\n",
            "  0%|          | 0/782 [00:00<?, ?it/s]"
          ],
          "name": "stderr"
        },
        {
          "output_type": "stream",
          "text": [
            "\n",
            "Test set: Average loss: 1.0471, Accuracy: 7011/10000 (70%)\n",
            "\n",
            "------------ EPOCH 9 -------------\n"
          ],
          "name": "stdout"
        },
        {
          "output_type": "stream",
          "text": [
            "Loss=0.4609241187572479 Batch_id=781 Accuracy=86.65: 100%|██████████| 782/782 [00:24<00:00, 31.37it/s]\n",
            "  0%|          | 0/782 [00:00<?, ?it/s]"
          ],
          "name": "stderr"
        },
        {
          "output_type": "stream",
          "text": [
            "\n",
            "Test set: Average loss: 0.9339, Accuracy: 7230/10000 (72%)\n",
            "\n",
            "------------ EPOCH 10 -------------\n"
          ],
          "name": "stdout"
        },
        {
          "output_type": "stream",
          "text": [
            "Loss=0.2743183374404907 Batch_id=781 Accuracy=87.66: 100%|██████████| 782/782 [00:24<00:00, 31.57it/s]\n",
            "  0%|          | 0/782 [00:00<?, ?it/s]"
          ],
          "name": "stderr"
        },
        {
          "output_type": "stream",
          "text": [
            "\n",
            "Test set: Average loss: 0.6828, Accuracy: 7851/10000 (79%)\n",
            "\n",
            "------------ EPOCH 11 -------------\n"
          ],
          "name": "stdout"
        },
        {
          "output_type": "stream",
          "text": [
            "Loss=0.415321409702301 Batch_id=781 Accuracy=88.42: 100%|██████████| 782/782 [00:24<00:00, 31.44it/s]\n",
            "  0%|          | 0/782 [00:00<?, ?it/s]"
          ],
          "name": "stderr"
        },
        {
          "output_type": "stream",
          "text": [
            "\n",
            "Test set: Average loss: 1.1080, Accuracy: 7031/10000 (70%)\n",
            "\n",
            "------------ EPOCH 12 -------------\n"
          ],
          "name": "stdout"
        },
        {
          "output_type": "stream",
          "text": [
            "Loss=0.37053942680358887 Batch_id=781 Accuracy=89.32: 100%|██████████| 782/782 [00:24<00:00, 31.50it/s]\n",
            "  0%|          | 0/782 [00:00<?, ?it/s]"
          ],
          "name": "stderr"
        },
        {
          "output_type": "stream",
          "text": [
            "\n",
            "Test set: Average loss: 0.6194, Accuracy: 8026/10000 (80%)\n",
            "\n",
            "------------ EPOCH 13 -------------\n"
          ],
          "name": "stdout"
        },
        {
          "output_type": "stream",
          "text": [
            "Loss=0.20224256813526154 Batch_id=781 Accuracy=90.07: 100%|██████████| 782/782 [00:24<00:00, 31.58it/s]\n",
            "  0%|          | 0/782 [00:00<?, ?it/s]"
          ],
          "name": "stderr"
        },
        {
          "output_type": "stream",
          "text": [
            "\n",
            "Test set: Average loss: 0.7160, Accuracy: 7850/10000 (78%)\n",
            "\n",
            "------------ EPOCH 14 -------------\n"
          ],
          "name": "stdout"
        },
        {
          "output_type": "stream",
          "text": [
            "Loss=0.20728692412376404 Batch_id=781 Accuracy=90.59: 100%|██████████| 782/782 [00:24<00:00, 31.51it/s]\n",
            "  0%|          | 0/782 [00:00<?, ?it/s]"
          ],
          "name": "stderr"
        },
        {
          "output_type": "stream",
          "text": [
            "\n",
            "Test set: Average loss: 1.0282, Accuracy: 7206/10000 (72%)\n",
            "\n",
            "------------ EPOCH 15 -------------\n"
          ],
          "name": "stdout"
        },
        {
          "output_type": "stream",
          "text": [
            "Loss=0.3595733344554901 Batch_id=781 Accuracy=91.20: 100%|██████████| 782/782 [00:24<00:00, 31.78it/s]\n",
            "  0%|          | 0/782 [00:00<?, ?it/s]"
          ],
          "name": "stderr"
        },
        {
          "output_type": "stream",
          "text": [
            "\n",
            "Test set: Average loss: 1.2017, Accuracy: 7056/10000 (71%)\n",
            "\n",
            "------------ EPOCH 16 -------------\n"
          ],
          "name": "stdout"
        },
        {
          "output_type": "stream",
          "text": [
            "Loss=0.5205880403518677 Batch_id=781 Accuracy=91.84: 100%|██████████| 782/782 [00:24<00:00, 31.72it/s]\n",
            "  0%|          | 0/782 [00:00<?, ?it/s]"
          ],
          "name": "stderr"
        },
        {
          "output_type": "stream",
          "text": [
            "\n",
            "Test set: Average loss: 0.9502, Accuracy: 7397/10000 (74%)\n",
            "\n",
            "------------ EPOCH 17 -------------\n"
          ],
          "name": "stdout"
        },
        {
          "output_type": "stream",
          "text": [
            "Loss=0.6058682203292847 Batch_id=781 Accuracy=92.19: 100%|██████████| 782/782 [00:24<00:00, 31.62it/s]\n",
            "  0%|          | 0/782 [00:00<?, ?it/s]"
          ],
          "name": "stderr"
        },
        {
          "output_type": "stream",
          "text": [
            "\n",
            "Test set: Average loss: 2.2109, Accuracy: 5532/10000 (55%)\n",
            "\n",
            "------------ EPOCH 18 -------------\n"
          ],
          "name": "stdout"
        },
        {
          "output_type": "stream",
          "text": [
            "Loss=0.3803251087665558 Batch_id=781 Accuracy=92.77: 100%|██████████| 782/782 [00:24<00:00, 31.67it/s]\n",
            "  0%|          | 0/782 [00:00<?, ?it/s]"
          ],
          "name": "stderr"
        },
        {
          "output_type": "stream",
          "text": [
            "\n",
            "Test set: Average loss: 0.9559, Accuracy: 7567/10000 (76%)\n",
            "\n",
            "------------ EPOCH 19 -------------\n"
          ],
          "name": "stdout"
        },
        {
          "output_type": "stream",
          "text": [
            "Loss=0.17536497116088867 Batch_id=781 Accuracy=93.16: 100%|██████████| 782/782 [00:24<00:00, 31.55it/s]\n",
            "  0%|          | 0/782 [00:00<?, ?it/s]"
          ],
          "name": "stderr"
        },
        {
          "output_type": "stream",
          "text": [
            "\n",
            "Test set: Average loss: 1.1727, Accuracy: 7035/10000 (70%)\n",
            "\n",
            "------------ EPOCH 20 -------------\n"
          ],
          "name": "stdout"
        },
        {
          "output_type": "stream",
          "text": [
            "Loss=0.21041549742221832 Batch_id=781 Accuracy=93.72: 100%|██████████| 782/782 [00:24<00:00, 31.58it/s]\n"
          ],
          "name": "stderr"
        },
        {
          "output_type": "stream",
          "text": [
            "\n",
            "Test set: Average loss: 1.2310, Accuracy: 6877/10000 (69%)\n",
            "\n"
          ],
          "name": "stdout"
        }
      ]
    },
    {
      "cell_type": "markdown",
      "metadata": {
        "id": "hvgeAEUPlZMJ"
      },
      "source": [
        "## Analyzing results "
      ]
    },
    {
      "cell_type": "code",
      "metadata": {
        "colab": {
          "base_uri": "https://localhost:8080/"
        },
        "id": "d2q2zSySo4tK",
        "outputId": "b2283df8-e8fd-488b-dfc0-d8a6010d25d9"
      },
      "source": [
        "from statistics import mean\r\n",
        "print('Train accuracy - ',  max(results['quiz_dnn']['train_acc']))\r\n",
        "print('Test accuracy - ',  max(results['quiz_dnn']['test_acc']))"
      ],
      "execution_count": 16,
      "outputs": [
        {
          "output_type": "stream",
          "text": [
            "Train accuracy -  93.716\n",
            "Test accuracy -  80.26\n"
          ],
          "name": "stdout"
        }
      ]
    },
    {
      "cell_type": "code",
      "metadata": {
        "id": "tiaOzVo8kRA7",
        "colab": {
          "base_uri": "https://localhost:8080/",
          "height": 1000
        },
        "outputId": "b4ef92a6-7f37-4cca-e4e0-5c55b93d2c6e"
      },
      "source": [
        "# Validation loss\r\n",
        "losses = {}\r\n",
        "accuracies = {}\r\n",
        "for k, v in results.items():\r\n",
        "    losses[k] = v['test_loss']\r\n",
        "    accuracies[k] = v['test_acc']\r\n",
        "  \r\n",
        "plot_metric(losses, 'Loss')\r\n",
        "plot_metric(accuracies, 'Accuracy')"
      ],
      "execution_count": 17,
      "outputs": [
        {
          "output_type": "display_data",
          "data": {
            "image/png": "[encoded data removed]",
            "text/plain": [
              "<Figure size 936x792 with 1 Axes>"
            ]
          },
          "metadata": {
            "tags": [],
            "needs_background": "light"
          }
        },
        {
          "output_type": "display_data",
          "data": {
            "image/png": "[encoded data removed]",
            "text/plain": [
              "<Figure size 936x792 with 1 Axes>"
            ]
          },
          "metadata": {
            "tags": [],
            "needs_background": "light"
          }
        }
      ]
    },
    {
      "cell_type": "code",
      "metadata": {
        "id": "MNNJMG4JKFEh"
      },
      "source": [
        ""
      ],
      "execution_count": null,
      "outputs": []
    }
  ]
}