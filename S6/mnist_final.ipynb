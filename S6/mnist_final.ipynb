{
  "nbformat": 4,
  "nbformat_minor": 0,
  "metadata": {
    "colab": {
      "name": "mnist_final.ipynb",
      "provenance": [],
      "collapsed_sections": [],
      "authorship_tag": "ABX9TyOe2NMbGhTbkqArDBBxsGX7",
      "include_colab_link": true
    },
    "kernelspec": {
      "name": "python3",
      "display_name": "Python 3"
    },
    "accelerator": "GPU"
  },
  "cells": [
    {
      "cell_type": "markdown",
      "metadata": {
        "id": "view-in-github",
        "colab_type": "text"
      },
      "source": [
        "<a href=\"https://colab.research.google.com/github/namanphy/EVA5/blob/main/S6/mnist_final.ipynb\" target=\"_parent\"><img src=\"https://colab.research.google.com/assets/colab-badge.svg\" alt=\"Open In Colab\"/></a>"
      ]
    },
    {
      "cell_type": "code",
      "metadata": {
        "id": "0m2JWFliFfKT",
        "colab": {
          "base_uri": "https://localhost:8080/"
        },
        "outputId": "a0d4b377-afa4-423a-97ad-1d77462dedf4"
      },
      "source": [
        "import torch\n",
        "import torch.nn as nn\n",
        "import torch.nn.functional as F\n",
        "import torch.optim as optim\n",
        "from torchvision import datasets, transforms\n",
        "from torch.optim.lr_scheduler import StepLR\n",
        "import matplotlib.pyplot as plt\n",
        "import os\n",
        "%matplotlib inline\n",
        "\n",
        "!pip install torchsummary\n",
        "from torchsummary import summary"
      ],
      "execution_count": 1,
      "outputs": [
        {
          "output_type": "stream",
          "text": [
            "Requirement already satisfied: torchsummary in /usr/local/lib/python3.6/dist-packages (1.5.1)\n"
          ],
          "name": "stdout"
        }
      ]
    },
    {
      "cell_type": "markdown",
      "metadata": {
        "id": "lYp1u6p0IKQE"
      },
      "source": [
        "## Setting up Dataloaders and Transformations\r\n"
      ]
    },
    {
      "cell_type": "code",
      "metadata": {
        "id": "7Q5do41wQz7A"
      },
      "source": [
        "def transformations(augmentation=False, rotation=0.0):\r\n",
        "    transforms_list = [\r\n",
        "                       transforms.ToTensor(),\r\n",
        "                       transforms.Normalize((0.1307,), (0.3081,)),\r\n",
        "                    ]\r\n",
        "\r\n",
        "    if augmentation:\r\n",
        "        transforms_list = [\r\n",
        "                           transforms.RandomRotation((-rotation, rotation), fill=(1,))\r\n",
        "                        ] + transforms_list\r\n",
        "    \r\n",
        "    return transforms.Compose(transforms_list)\r\n",
        "\r\n",
        "\r\n",
        "def data_loader(data, batch_size, cuda, num_workers):\r\n",
        "    args = {\r\n",
        "        'shuffle': True,\r\n",
        "        'batch_size': batch_size\r\n",
        "    }\r\n",
        "\r\n",
        "    if cuda:\r\n",
        "        args['num_workers'] = num_workers\r\n",
        "        args['pin_memory'] = True\r\n",
        "    \r\n",
        "    return torch.utils.data.DataLoader(data, **args)"
      ],
      "execution_count": 2,
      "outputs": []
    },
    {
      "cell_type": "code",
      "metadata": {
        "id": "DqTWLaM5GHgH"
      },
      "source": [
        "torch.manual_seed(123)\n",
        "\n",
        "use_cuda = torch.cuda.is_available()\n",
        "device = torch.device(\"cuda\" if use_cuda else \"cpu\")\n",
        "\n",
        "train_transforms = transformations(augmentation=True, rotation=6.0)\n",
        "test_transforms = transformations()\n",
        "\n",
        "train_set = datasets.MNIST('../data', train=True, download=True, transform=train_transforms)\n",
        "test_set = datasets.MNIST('../data', train=False, transform=test_transforms)\n",
        "\n",
        "train_loader = data_loader(train_set, 64, use_cuda, num_workers=4)\n",
        "test_loader = data_loader(test_set, 64, use_cuda, num_workers=4)"
      ],
      "execution_count": 3,
      "outputs": []
    },
    {
      "cell_type": "markdown",
      "metadata": {
        "id": "eZk8Ar3HUwXm"
      },
      "source": [
        "\r\n",
        "## Ghost Batch Normalisation - layer construction"
      ]
    },
    {
      "cell_type": "code",
      "metadata": {
        "id": "reEHBHcBmCbs"
      },
      "source": [
        "class BatchNorm(nn.BatchNorm2d):\r\n",
        "    def __init__(self, num_features, eps=1e-05, momentum=0.1, weight=True, bias=True):\r\n",
        "        super().__init__(num_features, eps=eps, momentum=momentum)\r\n",
        "        self.weight.data.fill_(1.0)\r\n",
        "        self.bias.data.fill_(0.0)\r\n",
        "        self.weight.requires_grad = weight\r\n",
        "        self.bias.requires_grad = bias\r\n",
        "\r\n",
        "\r\n",
        "class GhostBatchNorm(BatchNorm):\r\n",
        "    def __init__(self, num_features, num_splits, **kw):\r\n",
        "        super().__init__(num_features, **kw)\r\n",
        "        self.num_splits = num_splits\r\n",
        "        self.register_buffer('running_mean', torch.zeros(num_features * self.num_splits))\r\n",
        "        self.register_buffer('running_var', torch.ones(num_features * self.num_splits))\r\n",
        "\r\n",
        "    def train(self, mode=True):\r\n",
        "        if (self.training is True) and (mode is False):  # lazily collate stats when we are going to use them\r\n",
        "            self.running_mean = torch.mean(self.running_mean.view(self.num_splits, self.num_features), dim=0).repeat(\r\n",
        "                self.num_splits)\r\n",
        "            self.running_var = torch.mean(self.running_var.view(self.num_splits, self.num_features), dim=0).repeat(\r\n",
        "                self.num_splits)\r\n",
        "        return super().train(mode)\r\n",
        "\r\n",
        "    def forward(self, input):\r\n",
        "        N, C, H, W = input.shape\r\n",
        "        if self.training or not self.track_running_stats:\r\n",
        "            # print(N, C, H, W)\r\n",
        "            return F.batch_norm(\r\n",
        "                input.view(-1, C * self.num_splits, H, W), self.running_mean, self.running_var,\r\n",
        "                self.weight.repeat(self.num_splits), self.bias.repeat(self.num_splits),\r\n",
        "                True, self.momentum, self.eps).view(N, C, H, W)\r\n",
        "        else:\r\n",
        "            return F.batch_norm(\r\n",
        "                input, self.running_mean[:self.num_features], self.running_var[:self.num_features],\r\n",
        "                self.weight, self.bias, False, self.momentum, self.eps)"
      ],
      "execution_count": 4,
      "outputs": []
    },
    {
      "cell_type": "markdown",
      "metadata": {
        "id": "eA75paYdIdAq"
      },
      "source": [
        "## Making our model"
      ]
    },
    {
      "cell_type": "code",
      "metadata": {
        "id": "egvnuH75mdX0"
      },
      "source": [
        "# dropout_rate = 0.02\r\n",
        "\r\n",
        "class GBNnet(nn.Module):\r\n",
        "    def __init__(self, dropout_rate=0.02):\r\n",
        "        super(GBNnet, self).__init__()\r\n",
        "        self.dropout_rate = dropout_rate\r\n",
        "        self.conv1 = nn.Sequential(\r\n",
        "            nn.Conv2d(1, 10, 3, bias=False), # RF - 3x3\r\n",
        "            GhostBatchNorm(10, 4),\r\n",
        "            nn.ReLU(),\r\n",
        "            nn.Dropout2d(self.dropout_rate), # RF - 3x3\r\n",
        "\r\n",
        "            nn.Conv2d(10, 10, 3, bias=False), # RF - 5x5\r\n",
        "            GhostBatchNorm(10, 4),\r\n",
        "            nn.ReLU(),\r\n",
        "            nn.Dropout2d(self.dropout_rate), # RF - 5x5\r\n",
        "\r\n",
        "            nn.MaxPool2d(2, 2), # RF - 10x10\r\n",
        "        )\r\n",
        "\r\n",
        "        self.conv2 = nn.Sequential(\r\n",
        "            nn.Conv2d(10, 16, 3, bias=False), # RF - 12x12\r\n",
        "            GhostBatchNorm(16, 4),\r\n",
        "            nn.ReLU(),\r\n",
        "            nn.Dropout2d(self.dropout_rate), # RF - 12x12\r\n",
        "\r\n",
        "            nn.Conv2d(16, 16, 3, bias=False), # RF - 14x14\r\n",
        "            GhostBatchNorm(16, 4),\r\n",
        "            nn.ReLU(), \r\n",
        "            nn.Dropout2d(self.dropout_rate), # RF - 14x14\r\n",
        "\r\n",
        "            nn.MaxPool2d(2, 2), # RF - 28x28\r\n",
        "\r\n",
        "            nn.Conv2d(16, 10, 3, bias=False), # RF - 30x30\r\n",
        "            GhostBatchNorm(10, 4),\r\n",
        "            nn.ReLU(),\r\n",
        "            nn.Dropout2d(self.dropout_rate) # RF - 30x30\r\n",
        "\r\n",
        "        )\r\n",
        "\r\n",
        "        self.conv3 = nn.Sequential(\r\n",
        "            nn.Conv2d(10, 10, 1, bias=False), # RF - 30x30\r\n",
        "        )\r\n",
        "\r\n",
        "    def forward(self, x):\r\n",
        "        x = self.conv1(x)\r\n",
        "        x = self.conv2(x)\r\n",
        "        x = self.conv3(x)\r\n",
        "\r\n",
        "        x = x.mean(dim=[-2,-1]) # GAP Layer\r\n",
        "\r\n",
        "        x = x.view(-1, 10)\r\n",
        "        return F.log_softmax(x)"
      ],
      "execution_count": 5,
      "outputs": []
    },
    {
      "cell_type": "code",
      "metadata": {
        "id": "h_Cx9q2QFgM7"
      },
      "source": [
        "# dropout_rate = 0.02\n",
        "\n",
        "class BNnet(nn.Module):\n",
        "    def __init__(self, dropout_rate=0.02):\n",
        "        super(BNnet, self).__init__()\n",
        "        self.dropout_rate = dropout_rate\n",
        "        self.conv1 = nn.Sequential(\n",
        "            nn.Conv2d(1, 10, 3, bias=False), # RF - 3x3\n",
        "            nn.BatchNorm2d(10),\n",
        "            nn.ReLU(),\n",
        "            nn.Dropout2d(self.dropout_rate), # RF - 3x3\n",
        "            \n",
        "            nn.Conv2d(10, 10, 3, bias=False), # RF - 5x5\n",
        "            nn.BatchNorm2d(10),\n",
        "            nn.ReLU(),\n",
        "            nn.Dropout2d(self.dropout_rate), # RF - 5x5\n",
        "\n",
        "            nn.MaxPool2d(2, 2), # RF - 10x10\n",
        "        )\n",
        "\n",
        "        self.conv2 = nn.Sequential(\n",
        "            nn.Conv2d(10, 16, 3, bias=False), # RF - 12x12\n",
        "            nn.BatchNorm2d(16),\n",
        "            nn.ReLU(),\n",
        "            nn.Dropout2d(self.dropout_rate), # RF - 12x12\n",
        "\n",
        "            nn.Conv2d(16, 16, 3, bias=False), # RF - 14x14\n",
        "            nn.BatchNorm2d(16),\n",
        "            nn.ReLU(), \n",
        "            nn.Dropout2d(self.dropout_rate), # RF - 14x14\n",
        "\n",
        "            nn.MaxPool2d(2, 2), # RF - 28x28\n",
        "\n",
        "            nn.Conv2d(16, 10, 3, bias=False), # RF - 30x30\n",
        "            nn.BatchNorm2d(10),\n",
        "            nn.ReLU(),\n",
        "            nn.Dropout2d(self.dropout_rate) # RF - 30x30\n",
        "\n",
        "        )\n",
        "\n",
        "        self.conv3 = nn.Sequential(\n",
        "            nn.Conv2d(10, 10, 1, bias=False), # RF - 30x30\n",
        "        )\n",
        "\n",
        "    def forward(self, x):\n",
        "        x = self.conv1(x)\n",
        "        x = self.conv2(x)\n",
        "        x = self.conv3(x)\n",
        "\n",
        "        x = x.mean(dim=[-2,-1]) # GAP Layer\n",
        "\n",
        "        x = x.view(-1, 10)\n",
        "        return F.log_softmax(x)"
      ],
      "execution_count": 6,
      "outputs": []
    },
    {
      "cell_type": "code",
      "metadata": {
        "id": "xdydjYTZFyi3"
      },
      "source": [
        "# Model summary if required\n",
        "\n",
        "# model = BNnet().to(device)\n",
        "# summary(model, input_size=(1, 28, 28))"
      ],
      "execution_count": 7,
      "outputs": []
    },
    {
      "cell_type": "markdown",
      "metadata": {
        "id": "hUu3H-7AV_s_"
      },
      "source": [
        "## Defining the optimizers and losses"
      ]
    },
    {
      "cell_type": "code",
      "metadata": {
        "id": "HHHS2IuyhyKv"
      },
      "source": [
        "def sgd_optimizer(model, lr=0.01, l2_factor=0, momentum=0.9):\r\n",
        "    return optim.SGD(model.parameters(), lr=lr, momentum=momentum, weight_decay=l2_factor)\r\n",
        "\r\n",
        "\r\n",
        "def calculate_l1_loss(model, loss, lambda_l1=0.001):\r\n",
        "    l1_regularization = 0.\r\n",
        "    for param in model.parameters():\r\n",
        "        l1_regularization += param.abs().sum()\r\n",
        "    loss = loss + lambda_l1*l1_regularization\r\n",
        "    return loss"
      ],
      "execution_count": 8,
      "outputs": []
    },
    {
      "cell_type": "markdown",
      "metadata": {
        "id": "W34MLSYUWeOs"
      },
      "source": [
        "## Setting up the trainer class\r\n",
        "\r\n",
        "Consisting of training and validation loop."
      ]
    },
    {
      "cell_type": "code",
      "metadata": {
        "id": "8G5ksOrxJQxg"
      },
      "source": [
        "from tqdm import tqdm\r\n",
        "\r\n",
        "class Trainer():\r\n",
        "    def __init__(self, model, optimizer, criterion, data_loader, valid_data_loader=None, lr_scheduler=None, l1_loss=False, l1_factor=0.001):\r\n",
        "        use_cuda = torch.cuda.is_available()\r\n",
        "        self.device = torch.device(\"cuda\" if use_cuda else \"cpu\")\r\n",
        "        self.model = model.to(self.device)\r\n",
        "\r\n",
        "        self.train_loader, self.test_loader = data_loader, valid_data_loader\r\n",
        "        self.do_validation = True if self.test_loader else False\r\n",
        "\r\n",
        "        self.lr_scheduler = lr_scheduler\r\n",
        "\r\n",
        "        self.l1_loss = l1_loss\r\n",
        "        self.l1_factor = l1_factor\r\n",
        "        self.optimizer = optimizer\r\n",
        "        self.criterion = criterion\r\n",
        "    \r\n",
        "    def train(self, epochs):\r\n",
        "        results = {'train_loss': [], 'test_loss': [], 'train_acc': [], 'test_acc': [],}\r\n",
        "        for epoch in range(1, epochs+1):\r\n",
        "            print(f\"------------ EPOCH {epoch} -------------\")\r\n",
        "            result = self._train_epoch()\r\n",
        "            for k,v in result.items():\r\n",
        "                results[k].append(v)\r\n",
        "\r\n",
        "        return results\r\n",
        "\r\n",
        "    def _train_epoch(self):\r\n",
        "        log = {'train_loss': 0, 'train_acc': 0}\r\n",
        "        self.model.train()\r\n",
        "        pbar = tqdm(self.train_loader, position=0, leave=True)\r\n",
        "        correct = 0\r\n",
        "        processed = 0\r\n",
        "        for batch_idx, (data, target) in enumerate(pbar):\r\n",
        "            data, target = data.to(self.device), target.to(self.device)\r\n",
        "            self.optimizer.zero_grad()\r\n",
        "\r\n",
        "            output = self.model(data)\r\n",
        "            loss = calculate_l1_loss(self.model, self.criterion(output, target), self.l1_factor) if self.l1_loss else self.criterion(output, target)\r\n",
        "\r\n",
        "            log['train_loss'] = loss\r\n",
        "            loss.backward()\r\n",
        "            self.optimizer.step()\r\n",
        "\r\n",
        "            pred = output.argmax(dim=1, keepdim=True)  # get the index of the max log-probability\r\n",
        "            correct += pred.eq(target.view_as(pred)).sum().item()\r\n",
        "            processed += len(data)\r\n",
        "\r\n",
        "            pbar.set_description(desc= f'Loss={loss.item()} Batch_id={batch_idx} Accuracy={100*correct/processed:0.2f}')\r\n",
        "            log['train_acc'] = 100*correct/processed\r\n",
        "\r\n",
        "        if self.lr_scheduler is not None:\r\n",
        "            self.lr_scheduler.step()\r\n",
        "\r\n",
        "        if self.do_validation:\r\n",
        "            val_log = self._valid_epoch()\r\n",
        "            log.update(val_log)\r\n",
        "    \r\n",
        "        return log\r\n",
        "    \r\n",
        "    def _valid_epoch(self):\r\n",
        "        val_log = {'test_loss': 0, 'test_acc': 0}\r\n",
        "        self.model.eval()\r\n",
        "        test_loss = 0\r\n",
        "        correct = 0\r\n",
        "        with torch.no_grad():\r\n",
        "            for data, target in self.test_loader:\r\n",
        "                data, target = data.to(self.device), target.to(self.device)\r\n",
        "                output = self.model(data)\r\n",
        "                test_loss += calculate_l1_loss(self.model, self.criterion(output, target, reduction='sum'), self.l1_factor).item() if self.l1_loss else self.criterion(output, target, reduction='sum').item()  # sum up batch loss\r\n",
        "\r\n",
        "                pred = output.argmax(dim=1, keepdim=True)  # get the index of the max log-probability\r\n",
        "                correct += pred.eq(target.view_as(pred)).sum().item()\r\n",
        "\r\n",
        "        test_loss /= len(self.test_loader.dataset)\r\n",
        "        val_log['test_loss'] = test_loss\r\n",
        "\r\n",
        "        print('\\nTest set: Average loss: {:.4f}, Accuracy: {}/{} ({:.0f}%)\\n'.format(\r\n",
        "            test_loss, correct, len(self.test_loader.dataset), 100. * correct / len(self.test_loader.dataset)))\r\n",
        "        val_log['test_acc'] = 100. * correct / len(self.test_loader.dataset)\r\n",
        "\r\n",
        "        return val_log\r\n",
        "\r\n",
        "    def save(self, name):\r\n",
        "        torch.save(self.model.state_dict(), f'{name}.pt')"
      ],
      "execution_count": 9,
      "outputs": []
    },
    {
      "cell_type": "code",
      "metadata": {
        "colab": {
          "base_uri": "https://localhost:8080/"
        },
        "id": "SYzgAz-KdaXK",
        "outputId": "670bef20-9f01-4886-8180-6137f469547c"
      },
      "source": [
        "data, target = next(iter(train_loader))\r\n",
        "print(data.size(), target.size())"
      ],
      "execution_count": 10,
      "outputs": [
        {
          "output_type": "stream",
          "text": [
            "torch.Size([64, 1, 28, 28]) torch.Size([64])\n"
          ],
          "name": "stdout"
        }
      ]
    },
    {
      "cell_type": "markdown",
      "metadata": {
        "id": "ND4h-k8YWy7p"
      },
      "source": [
        "## Instantiating and Training models"
      ]
    },
    {
      "cell_type": "code",
      "metadata": {
        "id": "MMWbLWO6FuHb"
      },
      "source": [
        "criterion = F.nll_loss\n",
        "results = {}"
      ],
      "execution_count": 11,
      "outputs": []
    },
    {
      "cell_type": "code",
      "metadata": {
        "colab": {
          "base_uri": "https://localhost:8080/"
        },
        "id": "QNIn6ucGcAV5",
        "outputId": "81933ed7-b78e-4012-f6de-12e31147b0fe"
      },
      "source": [
        "BN_l1 = BNnet()\r\n",
        "optimizer_BN_l1 = sgd_optimizer(BN_l1, l2_factor=0)\r\n",
        "scheduler_BN_l1 = StepLR(optimizer_BN_l1, step_size=4, gamma=0.15)\r\n",
        "trainer = Trainer(BN_l1, optimizer_BN_l1, criterion, train_loader, test_loader, lr_scheduler=scheduler_BN_l1, l1_loss=True, l1_factor=0.001)\r\n",
        "results['BN_l1'] = trainer.train(25)\r\n",
        "trainer.save('BN_l1')"
      ],
      "execution_count": 13,
      "outputs": [
        {
          "output_type": "stream",
          "text": [
            "\r  0%|          | 0/938 [00:00<?, ?it/s]"
          ],
          "name": "stderr"
        },
        {
          "output_type": "stream",
          "text": [
            "------------ EPOCH 1 -------------\n"
          ],
          "name": "stdout"
        },
        {
          "output_type": "stream",
          "text": [
            "/usr/local/lib/python3.6/dist-packages/ipykernel_launcher.py:53: UserWarning: Implicit dimension choice for log_softmax has been deprecated. Change the call to include dim=X as an argument.\n",
            "Loss=0.710323691368103 Batch_id=937 Accuracy=88.69: 100%|██████████| 938/938 [00:21<00:00, 44.00it/s]\n",
            "  0%|          | 0/938 [00:00<?, ?it/s]"
          ],
          "name": "stderr"
        },
        {
          "output_type": "stream",
          "text": [
            "\n",
            "Test set: Average loss: 0.1031, Accuracy: 9738/10000 (97%)\n",
            "\n",
            "------------ EPOCH 2 -------------\n"
          ],
          "name": "stdout"
        },
        {
          "output_type": "stream",
          "text": [
            "Loss=0.5312758684158325 Batch_id=937 Accuracy=95.01: 100%|██████████| 938/938 [00:20<00:00, 44.72it/s]\n",
            "  0%|          | 0/938 [00:00<?, ?it/s]"
          ],
          "name": "stderr"
        },
        {
          "output_type": "stream",
          "text": [
            "\n",
            "Test set: Average loss: 0.0694, Accuracy: 9828/10000 (98%)\n",
            "\n",
            "------------ EPOCH 3 -------------\n"
          ],
          "name": "stdout"
        },
        {
          "output_type": "stream",
          "text": [
            "Loss=0.29885560274124146 Batch_id=937 Accuracy=95.53: 100%|██████████| 938/938 [00:21<00:00, 43.00it/s]\n",
            "  0%|          | 0/938 [00:00<?, ?it/s]"
          ],
          "name": "stderr"
        },
        {
          "output_type": "stream",
          "text": [
            "\n",
            "Test set: Average loss: 0.0772, Accuracy: 9797/10000 (98%)\n",
            "\n",
            "------------ EPOCH 4 -------------\n"
          ],
          "name": "stdout"
        },
        {
          "output_type": "stream",
          "text": [
            "Loss=0.36104118824005127 Batch_id=937 Accuracy=95.62: 100%|██████████| 938/938 [00:20<00:00, 44.88it/s]\n",
            "  0%|          | 0/938 [00:00<?, ?it/s]"
          ],
          "name": "stderr"
        },
        {
          "output_type": "stream",
          "text": [
            "\n",
            "Test set: Average loss: 0.0613, Accuracy: 9844/10000 (98%)\n",
            "\n",
            "------------ EPOCH 5 -------------\n"
          ],
          "name": "stdout"
        },
        {
          "output_type": "stream",
          "text": [
            "Loss=0.593898594379425 Batch_id=937 Accuracy=96.93: 100%|██████████| 938/938 [00:21<00:00, 44.33it/s]\n",
            "  0%|          | 0/938 [00:00<?, ?it/s]"
          ],
          "name": "stderr"
        },
        {
          "output_type": "stream",
          "text": [
            "\n",
            "Test set: Average loss: 0.0362, Accuracy: 9902/10000 (99%)\n",
            "\n",
            "------------ EPOCH 6 -------------\n"
          ],
          "name": "stdout"
        },
        {
          "output_type": "stream",
          "text": [
            "Loss=0.2156829833984375 Batch_id=937 Accuracy=97.02: 100%|██████████| 938/938 [00:20<00:00, 45.07it/s]\n",
            "  0%|          | 0/938 [00:00<?, ?it/s]"
          ],
          "name": "stderr"
        },
        {
          "output_type": "stream",
          "text": [
            "\n",
            "Test set: Average loss: 0.0363, Accuracy: 9903/10000 (99%)\n",
            "\n",
            "------------ EPOCH 7 -------------\n"
          ],
          "name": "stdout"
        },
        {
          "output_type": "stream",
          "text": [
            "Loss=0.38044413924217224 Batch_id=937 Accuracy=96.96: 100%|██████████| 938/938 [00:21<00:00, 43.90it/s]\n",
            "  0%|          | 0/938 [00:00<?, ?it/s]"
          ],
          "name": "stderr"
        },
        {
          "output_type": "stream",
          "text": [
            "\n",
            "Test set: Average loss: 0.0431, Accuracy: 9892/10000 (99%)\n",
            "\n",
            "------------ EPOCH 8 -------------\n"
          ],
          "name": "stdout"
        },
        {
          "output_type": "stream",
          "text": [
            "Loss=0.42608338594436646 Batch_id=937 Accuracy=96.91: 100%|██████████| 938/938 [00:21<00:00, 44.22it/s]\n",
            "  0%|          | 0/938 [00:00<?, ?it/s]"
          ],
          "name": "stderr"
        },
        {
          "output_type": "stream",
          "text": [
            "\n",
            "Test set: Average loss: 0.0462, Accuracy: 9876/10000 (99%)\n",
            "\n",
            "------------ EPOCH 9 -------------\n"
          ],
          "name": "stdout"
        },
        {
          "output_type": "stream",
          "text": [
            "Loss=0.305566668510437 Batch_id=937 Accuracy=97.36: 100%|██████████| 938/938 [00:20<00:00, 45.21it/s]\n",
            "  0%|          | 0/938 [00:00<?, ?it/s]"
          ],
          "name": "stderr"
        },
        {
          "output_type": "stream",
          "text": [
            "\n",
            "Test set: Average loss: 0.0307, Accuracy: 9932/10000 (99%)\n",
            "\n",
            "------------ EPOCH 10 -------------\n"
          ],
          "name": "stdout"
        },
        {
          "output_type": "stream",
          "text": [
            "Loss=0.2640853226184845 Batch_id=937 Accuracy=97.50: 100%|██████████| 938/938 [00:20<00:00, 45.15it/s]\n",
            "  0%|          | 0/938 [00:00<?, ?it/s]"
          ],
          "name": "stderr"
        },
        {
          "output_type": "stream",
          "text": [
            "\n",
            "Test set: Average loss: 0.0306, Accuracy: 9926/10000 (99%)\n",
            "\n",
            "------------ EPOCH 11 -------------\n"
          ],
          "name": "stdout"
        },
        {
          "output_type": "stream",
          "text": [
            "Loss=0.20692119002342224 Batch_id=937 Accuracy=97.58: 100%|██████████| 938/938 [00:20<00:00, 45.54it/s]\n",
            "  0%|          | 0/938 [00:00<?, ?it/s]"
          ],
          "name": "stderr"
        },
        {
          "output_type": "stream",
          "text": [
            "\n",
            "Test set: Average loss: 0.0298, Accuracy: 9930/10000 (99%)\n",
            "\n",
            "------------ EPOCH 12 -------------\n"
          ],
          "name": "stdout"
        },
        {
          "output_type": "stream",
          "text": [
            "Loss=0.24294047057628632 Batch_id=937 Accuracy=97.47: 100%|██████████| 938/938 [00:21<00:00, 44.30it/s]\n",
            "  0%|          | 0/938 [00:00<?, ?it/s]"
          ],
          "name": "stderr"
        },
        {
          "output_type": "stream",
          "text": [
            "\n",
            "Test set: Average loss: 0.0313, Accuracy: 9919/10000 (99%)\n",
            "\n",
            "------------ EPOCH 13 -------------\n"
          ],
          "name": "stdout"
        },
        {
          "output_type": "stream",
          "text": [
            "Loss=0.2591957449913025 Batch_id=937 Accuracy=97.51: 100%|██████████| 938/938 [00:20<00:00, 44.82it/s]\n",
            "  0%|          | 0/938 [00:00<?, ?it/s]"
          ],
          "name": "stderr"
        },
        {
          "output_type": "stream",
          "text": [
            "\n",
            "Test set: Average loss: 0.0297, Accuracy: 9928/10000 (99%)\n",
            "\n",
            "------------ EPOCH 14 -------------\n"
          ],
          "name": "stdout"
        },
        {
          "output_type": "stream",
          "text": [
            "Loss=0.2024616301059723 Batch_id=937 Accuracy=97.68: 100%|██████████| 938/938 [00:20<00:00, 45.74it/s]\n",
            "  0%|          | 0/938 [00:00<?, ?it/s]"
          ],
          "name": "stderr"
        },
        {
          "output_type": "stream",
          "text": [
            "\n",
            "Test set: Average loss: 0.0296, Accuracy: 9924/10000 (99%)\n",
            "\n",
            "------------ EPOCH 15 -------------\n"
          ],
          "name": "stdout"
        },
        {
          "output_type": "stream",
          "text": [
            "Loss=0.23297333717346191 Batch_id=937 Accuracy=97.65: 100%|██████████| 938/938 [00:20<00:00, 45.85it/s]\n",
            "  0%|          | 0/938 [00:00<?, ?it/s]"
          ],
          "name": "stderr"
        },
        {
          "output_type": "stream",
          "text": [
            "\n",
            "Test set: Average loss: 0.0299, Accuracy: 9926/10000 (99%)\n",
            "\n",
            "------------ EPOCH 16 -------------\n"
          ],
          "name": "stdout"
        },
        {
          "output_type": "stream",
          "text": [
            "Loss=0.2148583084344864 Batch_id=937 Accuracy=97.65: 100%|██████████| 938/938 [00:20<00:00, 45.28it/s]\n",
            "  0%|          | 0/938 [00:00<?, ?it/s]"
          ],
          "name": "stderr"
        },
        {
          "output_type": "stream",
          "text": [
            "\n",
            "Test set: Average loss: 0.0288, Accuracy: 9930/10000 (99%)\n",
            "\n",
            "------------ EPOCH 17 -------------\n"
          ],
          "name": "stdout"
        },
        {
          "output_type": "stream",
          "text": [
            "Loss=0.1882568895816803 Batch_id=937 Accuracy=97.70: 100%|██████████| 938/938 [00:20<00:00, 45.62it/s]\n",
            "  0%|          | 0/938 [00:00<?, ?it/s]"
          ],
          "name": "stderr"
        },
        {
          "output_type": "stream",
          "text": [
            "\n",
            "Test set: Average loss: 0.0297, Accuracy: 9925/10000 (99%)\n",
            "\n",
            "------------ EPOCH 18 -------------\n"
          ],
          "name": "stdout"
        },
        {
          "output_type": "stream",
          "text": [
            "Loss=0.22658011317253113 Batch_id=937 Accuracy=97.63: 100%|██████████| 938/938 [00:20<00:00, 44.98it/s]\n",
            "  0%|          | 0/938 [00:00<?, ?it/s]"
          ],
          "name": "stderr"
        },
        {
          "output_type": "stream",
          "text": [
            "\n",
            "Test set: Average loss: 0.0290, Accuracy: 9930/10000 (99%)\n",
            "\n",
            "------------ EPOCH 19 -------------\n"
          ],
          "name": "stdout"
        },
        {
          "output_type": "stream",
          "text": [
            "Loss=0.18244600296020508 Batch_id=937 Accuracy=97.62: 100%|██████████| 938/938 [00:20<00:00, 45.25it/s]\n",
            "  0%|          | 0/938 [00:00<?, ?it/s]"
          ],
          "name": "stderr"
        },
        {
          "output_type": "stream",
          "text": [
            "\n",
            "Test set: Average loss: 0.0294, Accuracy: 9929/10000 (99%)\n",
            "\n",
            "------------ EPOCH 20 -------------\n"
          ],
          "name": "stdout"
        },
        {
          "output_type": "stream",
          "text": [
            "Loss=0.24449628591537476 Batch_id=937 Accuracy=97.62: 100%|██████████| 938/938 [00:21<00:00, 44.36it/s]\n",
            "  0%|          | 0/938 [00:00<?, ?it/s]"
          ],
          "name": "stderr"
        },
        {
          "output_type": "stream",
          "text": [
            "\n",
            "Test set: Average loss: 0.0297, Accuracy: 9925/10000 (99%)\n",
            "\n",
            "------------ EPOCH 21 -------------\n"
          ],
          "name": "stdout"
        },
        {
          "output_type": "stream",
          "text": [
            "Loss=0.23424577713012695 Batch_id=937 Accuracy=97.65: 100%|██████████| 938/938 [00:21<00:00, 44.03it/s]\n",
            "  0%|          | 0/938 [00:00<?, ?it/s]"
          ],
          "name": "stderr"
        },
        {
          "output_type": "stream",
          "text": [
            "\n",
            "Test set: Average loss: 0.0291, Accuracy: 9928/10000 (99%)\n",
            "\n",
            "------------ EPOCH 22 -------------\n"
          ],
          "name": "stdout"
        },
        {
          "output_type": "stream",
          "text": [
            "Loss=0.17458537220954895 Batch_id=937 Accuracy=97.75: 100%|██████████| 938/938 [00:20<00:00, 45.01it/s]\n",
            "  0%|          | 0/938 [00:00<?, ?it/s]"
          ],
          "name": "stderr"
        },
        {
          "output_type": "stream",
          "text": [
            "\n",
            "Test set: Average loss: 0.0291, Accuracy: 9929/10000 (99%)\n",
            "\n",
            "------------ EPOCH 23 -------------\n"
          ],
          "name": "stdout"
        },
        {
          "output_type": "stream",
          "text": [
            "Loss=0.16659347712993622 Batch_id=937 Accuracy=97.57: 100%|██████████| 938/938 [00:20<00:00, 45.00it/s]\n",
            "  0%|          | 0/938 [00:00<?, ?it/s]"
          ],
          "name": "stderr"
        },
        {
          "output_type": "stream",
          "text": [
            "\n",
            "Test set: Average loss: 0.0293, Accuracy: 9924/10000 (99%)\n",
            "\n",
            "------------ EPOCH 24 -------------\n"
          ],
          "name": "stdout"
        },
        {
          "output_type": "stream",
          "text": [
            "Loss=0.2551448345184326 Batch_id=937 Accuracy=97.64: 100%|██████████| 938/938 [00:20<00:00, 44.89it/s]\n",
            "  0%|          | 0/938 [00:00<?, ?it/s]"
          ],
          "name": "stderr"
        },
        {
          "output_type": "stream",
          "text": [
            "\n",
            "Test set: Average loss: 0.0291, Accuracy: 9928/10000 (99%)\n",
            "\n",
            "------------ EPOCH 25 -------------\n"
          ],
          "name": "stdout"
        },
        {
          "output_type": "stream",
          "text": [
            "Loss=0.3313290774822235 Batch_id=937 Accuracy=97.61: 100%|██████████| 938/938 [00:20<00:00, 44.93it/s]\n"
          ],
          "name": "stderr"
        },
        {
          "output_type": "stream",
          "text": [
            "\n",
            "Test set: Average loss: 0.0294, Accuracy: 9928/10000 (99%)\n",
            "\n"
          ],
          "name": "stdout"
        }
      ]
    },
    {
      "cell_type": "code",
      "metadata": {
        "colab": {
          "base_uri": "https://localhost:8080/"
        },
        "id": "3l5-xSEYcJUw",
        "outputId": "9d395efe-0216-450c-a2ce-c061ffe59d76"
      },
      "source": [
        "BN_l2 = BNnet()\r\n",
        "optimizer_BN_l2 = sgd_optimizer(BN_l2, l2_factor=0.0004)\r\n",
        "scheduler_BN_l2 = StepLR(optimizer_BN_l2, step_size=4, gamma=0.15)\r\n",
        "trainer = Trainer(BN_l2, optimizer_BN_l2, criterion, train_loader, test_loader, lr_scheduler=scheduler_BN_l2, l1_loss=False)\r\n",
        "results['BN_l2'] = trainer.train(25)\r\n",
        "trainer.save('BN_l2')"
      ],
      "execution_count": 14,
      "outputs": [
        {
          "output_type": "stream",
          "text": [
            "\r  0%|          | 0/938 [00:00<?, ?it/s]"
          ],
          "name": "stderr"
        },
        {
          "output_type": "stream",
          "text": [
            "------------ EPOCH 1 -------------\n"
          ],
          "name": "stdout"
        },
        {
          "output_type": "stream",
          "text": [
            "/usr/local/lib/python3.6/dist-packages/ipykernel_launcher.py:53: UserWarning: Implicit dimension choice for log_softmax has been deprecated. Change the call to include dim=X as an argument.\n",
            "Loss=0.06860796362161636 Batch_id=937 Accuracy=89.23: 100%|██████████| 938/938 [00:19<00:00, 47.88it/s]\n",
            "  0%|          | 0/938 [00:00<?, ?it/s]"
          ],
          "name": "stderr"
        },
        {
          "output_type": "stream",
          "text": [
            "\n",
            "Test set: Average loss: 0.0538, Accuracy: 9855/10000 (99%)\n",
            "\n",
            "------------ EPOCH 2 -------------\n"
          ],
          "name": "stdout"
        },
        {
          "output_type": "stream",
          "text": [
            "Loss=0.08040235191583633 Batch_id=937 Accuracy=96.58: 100%|██████████| 938/938 [00:19<00:00, 48.61it/s]\n",
            "  0%|          | 0/938 [00:00<?, ?it/s]"
          ],
          "name": "stderr"
        },
        {
          "output_type": "stream",
          "text": [
            "\n",
            "Test set: Average loss: 0.0367, Accuracy: 9899/10000 (99%)\n",
            "\n",
            "------------ EPOCH 3 -------------\n"
          ],
          "name": "stdout"
        },
        {
          "output_type": "stream",
          "text": [
            "Loss=0.06729725003242493 Batch_id=937 Accuracy=97.23: 100%|██████████| 938/938 [00:19<00:00, 47.63it/s]\n",
            "  0%|          | 0/938 [00:00<?, ?it/s]"
          ],
          "name": "stderr"
        },
        {
          "output_type": "stream",
          "text": [
            "\n",
            "Test set: Average loss: 0.0323, Accuracy: 9905/10000 (99%)\n",
            "\n",
            "------------ EPOCH 4 -------------\n"
          ],
          "name": "stdout"
        },
        {
          "output_type": "stream",
          "text": [
            "Loss=0.06867746263742447 Batch_id=937 Accuracy=97.65: 100%|██████████| 938/938 [00:19<00:00, 48.83it/s]\n",
            "  0%|          | 0/938 [00:00<?, ?it/s]"
          ],
          "name": "stderr"
        },
        {
          "output_type": "stream",
          "text": [
            "\n",
            "Test set: Average loss: 0.0291, Accuracy: 9914/10000 (99%)\n",
            "\n",
            "------------ EPOCH 5 -------------\n"
          ],
          "name": "stdout"
        },
        {
          "output_type": "stream",
          "text": [
            "Loss=0.03467969223856926 Batch_id=937 Accuracy=98.16: 100%|██████████| 938/938 [00:19<00:00, 49.31it/s]\n",
            "  0%|          | 0/938 [00:00<?, ?it/s]"
          ],
          "name": "stderr"
        },
        {
          "output_type": "stream",
          "text": [
            "\n",
            "Test set: Average loss: 0.0250, Accuracy: 9931/10000 (99%)\n",
            "\n",
            "------------ EPOCH 6 -------------\n"
          ],
          "name": "stdout"
        },
        {
          "output_type": "stream",
          "text": [
            "Loss=0.03540515527129173 Batch_id=937 Accuracy=98.23: 100%|██████████| 938/938 [00:19<00:00, 48.88it/s]\n",
            "  0%|          | 0/938 [00:00<?, ?it/s]"
          ],
          "name": "stderr"
        },
        {
          "output_type": "stream",
          "text": [
            "\n",
            "Test set: Average loss: 0.0245, Accuracy: 9922/10000 (99%)\n",
            "\n",
            "------------ EPOCH 7 -------------\n"
          ],
          "name": "stdout"
        },
        {
          "output_type": "stream",
          "text": [
            "Loss=0.1834700107574463 Batch_id=937 Accuracy=98.27: 100%|██████████| 938/938 [00:19<00:00, 48.19it/s]\n",
            "  0%|          | 0/938 [00:00<?, ?it/s]"
          ],
          "name": "stderr"
        },
        {
          "output_type": "stream",
          "text": [
            "\n",
            "Test set: Average loss: 0.0240, Accuracy: 9929/10000 (99%)\n",
            "\n",
            "------------ EPOCH 8 -------------\n"
          ],
          "name": "stdout"
        },
        {
          "output_type": "stream",
          "text": [
            "Loss=0.022137867286801338 Batch_id=937 Accuracy=98.31: 100%|██████████| 938/938 [00:19<00:00, 49.22it/s]\n",
            "  0%|          | 0/938 [00:00<?, ?it/s]"
          ],
          "name": "stderr"
        },
        {
          "output_type": "stream",
          "text": [
            "\n",
            "Test set: Average loss: 0.0239, Accuracy: 9930/10000 (99%)\n",
            "\n",
            "------------ EPOCH 9 -------------\n"
          ],
          "name": "stdout"
        },
        {
          "output_type": "stream",
          "text": [
            "Loss=0.022419780492782593 Batch_id=937 Accuracy=98.34: 100%|██████████| 938/938 [00:19<00:00, 49.23it/s]\n",
            "  0%|          | 0/938 [00:00<?, ?it/s]"
          ],
          "name": "stderr"
        },
        {
          "output_type": "stream",
          "text": [
            "\n",
            "Test set: Average loss: 0.0230, Accuracy: 9932/10000 (99%)\n",
            "\n",
            "------------ EPOCH 10 -------------\n"
          ],
          "name": "stdout"
        },
        {
          "output_type": "stream",
          "text": [
            "Loss=0.04066940397024155 Batch_id=937 Accuracy=98.45: 100%|██████████| 938/938 [00:19<00:00, 48.42it/s]\n",
            "  0%|          | 0/938 [00:00<?, ?it/s]"
          ],
          "name": "stderr"
        },
        {
          "output_type": "stream",
          "text": [
            "\n",
            "Test set: Average loss: 0.0226, Accuracy: 9932/10000 (99%)\n",
            "\n",
            "------------ EPOCH 11 -------------\n"
          ],
          "name": "stdout"
        },
        {
          "output_type": "stream",
          "text": [
            "Loss=0.024431664496660233 Batch_id=937 Accuracy=98.39: 100%|██████████| 938/938 [00:19<00:00, 48.63it/s]\n",
            "  0%|          | 0/938 [00:00<?, ?it/s]"
          ],
          "name": "stderr"
        },
        {
          "output_type": "stream",
          "text": [
            "\n",
            "Test set: Average loss: 0.0232, Accuracy: 9934/10000 (99%)\n",
            "\n",
            "------------ EPOCH 12 -------------\n"
          ],
          "name": "stdout"
        },
        {
          "output_type": "stream",
          "text": [
            "Loss=0.0016138271894305944 Batch_id=937 Accuracy=98.50: 100%|██████████| 938/938 [00:19<00:00, 47.52it/s]\n",
            "  0%|          | 0/938 [00:00<?, ?it/s]"
          ],
          "name": "stderr"
        },
        {
          "output_type": "stream",
          "text": [
            "\n",
            "Test set: Average loss: 0.0230, Accuracy: 9933/10000 (99%)\n",
            "\n",
            "------------ EPOCH 13 -------------\n"
          ],
          "name": "stdout"
        },
        {
          "output_type": "stream",
          "text": [
            "Loss=0.04760231450200081 Batch_id=937 Accuracy=98.42: 100%|██████████| 938/938 [00:19<00:00, 47.56it/s]\n",
            "  0%|          | 0/938 [00:00<?, ?it/s]"
          ],
          "name": "stderr"
        },
        {
          "output_type": "stream",
          "text": [
            "\n",
            "Test set: Average loss: 0.0231, Accuracy: 9933/10000 (99%)\n",
            "\n",
            "------------ EPOCH 14 -------------\n"
          ],
          "name": "stdout"
        },
        {
          "output_type": "stream",
          "text": [
            "Loss=0.07007189095020294 Batch_id=937 Accuracy=98.47: 100%|██████████| 938/938 [00:19<00:00, 48.59it/s]\n",
            "  0%|          | 0/938 [00:00<?, ?it/s]"
          ],
          "name": "stderr"
        },
        {
          "output_type": "stream",
          "text": [
            "\n",
            "Test set: Average loss: 0.0227, Accuracy: 9933/10000 (99%)\n",
            "\n",
            "------------ EPOCH 15 -------------\n"
          ],
          "name": "stdout"
        },
        {
          "output_type": "stream",
          "text": [
            "Loss=0.03853758051991463 Batch_id=937 Accuracy=98.44: 100%|██████████| 938/938 [00:19<00:00, 48.41it/s]\n",
            "  0%|          | 0/938 [00:00<?, ?it/s]"
          ],
          "name": "stderr"
        },
        {
          "output_type": "stream",
          "text": [
            "\n",
            "Test set: Average loss: 0.0233, Accuracy: 9932/10000 (99%)\n",
            "\n",
            "------------ EPOCH 16 -------------\n"
          ],
          "name": "stdout"
        },
        {
          "output_type": "stream",
          "text": [
            "Loss=0.03116200864315033 Batch_id=937 Accuracy=98.47: 100%|██████████| 938/938 [00:19<00:00, 47.72it/s]\n",
            "  0%|          | 0/938 [00:00<?, ?it/s]"
          ],
          "name": "stderr"
        },
        {
          "output_type": "stream",
          "text": [
            "\n",
            "Test set: Average loss: 0.0227, Accuracy: 9931/10000 (99%)\n",
            "\n",
            "------------ EPOCH 17 -------------\n"
          ],
          "name": "stdout"
        },
        {
          "output_type": "stream",
          "text": [
            "Loss=0.08413270115852356 Batch_id=937 Accuracy=98.38: 100%|██████████| 938/938 [00:19<00:00, 48.93it/s]\n",
            "  0%|          | 0/938 [00:00<?, ?it/s]"
          ],
          "name": "stderr"
        },
        {
          "output_type": "stream",
          "text": [
            "\n",
            "Test set: Average loss: 0.0232, Accuracy: 9930/10000 (99%)\n",
            "\n",
            "------------ EPOCH 18 -------------\n"
          ],
          "name": "stdout"
        },
        {
          "output_type": "stream",
          "text": [
            "Loss=0.12273945659399033 Batch_id=937 Accuracy=98.48: 100%|██████████| 938/938 [00:19<00:00, 48.53it/s]\n",
            "  0%|          | 0/938 [00:00<?, ?it/s]"
          ],
          "name": "stderr"
        },
        {
          "output_type": "stream",
          "text": [
            "\n",
            "Test set: Average loss: 0.0229, Accuracy: 9933/10000 (99%)\n",
            "\n",
            "------------ EPOCH 19 -------------\n"
          ],
          "name": "stdout"
        },
        {
          "output_type": "stream",
          "text": [
            "Loss=0.28064411878585815 Batch_id=937 Accuracy=98.46: 100%|██████████| 938/938 [00:19<00:00, 49.14it/s]\n",
            "  0%|          | 0/938 [00:00<?, ?it/s]"
          ],
          "name": "stderr"
        },
        {
          "output_type": "stream",
          "text": [
            "\n",
            "Test set: Average loss: 0.0228, Accuracy: 9932/10000 (99%)\n",
            "\n",
            "------------ EPOCH 20 -------------\n"
          ],
          "name": "stdout"
        },
        {
          "output_type": "stream",
          "text": [
            "Loss=0.01826268993318081 Batch_id=937 Accuracy=98.37: 100%|██████████| 938/938 [00:19<00:00, 47.25it/s]\n",
            "  0%|          | 0/938 [00:00<?, ?it/s]"
          ],
          "name": "stderr"
        },
        {
          "output_type": "stream",
          "text": [
            "\n",
            "Test set: Average loss: 0.0229, Accuracy: 9930/10000 (99%)\n",
            "\n",
            "------------ EPOCH 21 -------------\n"
          ],
          "name": "stdout"
        },
        {
          "output_type": "stream",
          "text": [
            "Loss=0.02969985641539097 Batch_id=937 Accuracy=98.46: 100%|██████████| 938/938 [00:18<00:00, 49.37it/s]\n",
            "  0%|          | 0/938 [00:00<?, ?it/s]"
          ],
          "name": "stderr"
        },
        {
          "output_type": "stream",
          "text": [
            "\n",
            "Test set: Average loss: 0.0222, Accuracy: 9932/10000 (99%)\n",
            "\n",
            "------------ EPOCH 22 -------------\n"
          ],
          "name": "stdout"
        },
        {
          "output_type": "stream",
          "text": [
            "Loss=0.04074912890791893 Batch_id=937 Accuracy=98.36: 100%|██████████| 938/938 [00:19<00:00, 48.76it/s]\n",
            "  0%|          | 0/938 [00:00<?, ?it/s]"
          ],
          "name": "stderr"
        },
        {
          "output_type": "stream",
          "text": [
            "\n",
            "Test set: Average loss: 0.0230, Accuracy: 9933/10000 (99%)\n",
            "\n",
            "------------ EPOCH 23 -------------\n"
          ],
          "name": "stdout"
        },
        {
          "output_type": "stream",
          "text": [
            "Loss=0.007766323629766703 Batch_id=937 Accuracy=98.43: 100%|██████████| 938/938 [00:19<00:00, 48.41it/s]\n",
            "  0%|          | 0/938 [00:00<?, ?it/s]"
          ],
          "name": "stderr"
        },
        {
          "output_type": "stream",
          "text": [
            "\n",
            "Test set: Average loss: 0.0228, Accuracy: 9932/10000 (99%)\n",
            "\n",
            "------------ EPOCH 24 -------------\n"
          ],
          "name": "stdout"
        },
        {
          "output_type": "stream",
          "text": [
            "Loss=0.061239201575517654 Batch_id=937 Accuracy=98.45: 100%|██████████| 938/938 [00:19<00:00, 48.41it/s]\n",
            "  0%|          | 0/938 [00:00<?, ?it/s]"
          ],
          "name": "stderr"
        },
        {
          "output_type": "stream",
          "text": [
            "\n",
            "Test set: Average loss: 0.0234, Accuracy: 9930/10000 (99%)\n",
            "\n",
            "------------ EPOCH 25 -------------\n"
          ],
          "name": "stdout"
        },
        {
          "output_type": "stream",
          "text": [
            "Loss=0.0187978632748127 Batch_id=937 Accuracy=98.45: 100%|██████████| 938/938 [00:19<00:00, 47.63it/s]\n"
          ],
          "name": "stderr"
        },
        {
          "output_type": "stream",
          "text": [
            "\n",
            "Test set: Average loss: 0.0223, Accuracy: 9933/10000 (99%)\n",
            "\n"
          ],
          "name": "stdout"
        }
      ]
    },
    {
      "cell_type": "code",
      "metadata": {
        "colab": {
          "base_uri": "https://localhost:8080/"
        },
        "id": "SclWUl5zcu_o",
        "outputId": "80ace43d-ee79-43e5-c833-108b5daa8e66"
      },
      "source": [
        "BN_l1_l2 = BNnet()\r\n",
        "optimizer_BN_l1_l2 = sgd_optimizer(BN_l1_l2, l2_factor=0.0004)\r\n",
        "scheduler_BN_l1_l2 = StepLR(optimizer_BN_l1_l2, step_size=4, gamma=0.15)\r\n",
        "trainer = Trainer(BN_l1_l2, optimizer_BN_l1_l2, criterion, train_loader, test_loader, lr_scheduler=scheduler_BN_l1_l2, l1_loss=True, l1_factor=0.001)\r\n",
        "results['BN_l1_l2'] = trainer.train(25)\r\n",
        "trainer.save('BN_l1_l2')"
      ],
      "execution_count": 15,
      "outputs": [
        {
          "output_type": "stream",
          "text": [
            "\r  0%|          | 0/938 [00:00<?, ?it/s]"
          ],
          "name": "stderr"
        },
        {
          "output_type": "stream",
          "text": [
            "------------ EPOCH 1 -------------\n"
          ],
          "name": "stdout"
        },
        {
          "output_type": "stream",
          "text": [
            "/usr/local/lib/python3.6/dist-packages/ipykernel_launcher.py:53: UserWarning: Implicit dimension choice for log_softmax has been deprecated. Change the call to include dim=X as an argument.\n",
            "Loss=0.5833847522735596 Batch_id=937 Accuracy=89.63: 100%|██████████| 938/938 [00:21<00:00, 44.23it/s]\n",
            "  0%|          | 0/938 [00:00<?, ?it/s]"
          ],
          "name": "stderr"
        },
        {
          "output_type": "stream",
          "text": [
            "\n",
            "Test set: Average loss: 0.0954, Accuracy: 9774/10000 (98%)\n",
            "\n",
            "------------ EPOCH 2 -------------\n"
          ],
          "name": "stdout"
        },
        {
          "output_type": "stream",
          "text": [
            "Loss=0.30788660049438477 Batch_id=937 Accuracy=95.20: 100%|██████████| 938/938 [00:21<00:00, 43.68it/s]\n",
            "  0%|          | 0/938 [00:00<?, ?it/s]"
          ],
          "name": "stderr"
        },
        {
          "output_type": "stream",
          "text": [
            "\n",
            "Test set: Average loss: 0.0721, Accuracy: 9810/10000 (98%)\n",
            "\n",
            "------------ EPOCH 3 -------------\n"
          ],
          "name": "stdout"
        },
        {
          "output_type": "stream",
          "text": [
            "Loss=0.3252997100353241 Batch_id=937 Accuracy=95.67: 100%|██████████| 938/938 [00:21<00:00, 43.50it/s]\n",
            "  0%|          | 0/938 [00:00<?, ?it/s]"
          ],
          "name": "stderr"
        },
        {
          "output_type": "stream",
          "text": [
            "\n",
            "Test set: Average loss: 0.0631, Accuracy: 9835/10000 (98%)\n",
            "\n",
            "------------ EPOCH 4 -------------\n"
          ],
          "name": "stdout"
        },
        {
          "output_type": "stream",
          "text": [
            "Loss=0.34590160846710205 Batch_id=937 Accuracy=95.81: 100%|██████████| 938/938 [00:21<00:00, 44.41it/s]\n",
            "  0%|          | 0/938 [00:00<?, ?it/s]"
          ],
          "name": "stderr"
        },
        {
          "output_type": "stream",
          "text": [
            "\n",
            "Test set: Average loss: 0.1041, Accuracy: 9699/10000 (97%)\n",
            "\n",
            "------------ EPOCH 5 -------------\n"
          ],
          "name": "stdout"
        },
        {
          "output_type": "stream",
          "text": [
            "Loss=0.2552275061607361 Batch_id=937 Accuracy=96.97: 100%|██████████| 938/938 [00:21<00:00, 44.49it/s]\n",
            "  0%|          | 0/938 [00:00<?, ?it/s]"
          ],
          "name": "stderr"
        },
        {
          "output_type": "stream",
          "text": [
            "\n",
            "Test set: Average loss: 0.0405, Accuracy: 9903/10000 (99%)\n",
            "\n",
            "------------ EPOCH 6 -------------\n"
          ],
          "name": "stdout"
        },
        {
          "output_type": "stream",
          "text": [
            "Loss=0.37674248218536377 Batch_id=937 Accuracy=97.17: 100%|██████████| 938/938 [00:21<00:00, 44.38it/s]\n",
            "  0%|          | 0/938 [00:00<?, ?it/s]"
          ],
          "name": "stderr"
        },
        {
          "output_type": "stream",
          "text": [
            "\n",
            "Test set: Average loss: 0.0387, Accuracy: 9903/10000 (99%)\n",
            "\n",
            "------------ EPOCH 7 -------------\n"
          ],
          "name": "stdout"
        },
        {
          "output_type": "stream",
          "text": [
            "Loss=0.38072049617767334 Batch_id=937 Accuracy=97.07: 100%|██████████| 938/938 [00:21<00:00, 44.53it/s]\n",
            "  0%|          | 0/938 [00:00<?, ?it/s]"
          ],
          "name": "stderr"
        },
        {
          "output_type": "stream",
          "text": [
            "\n",
            "Test set: Average loss: 0.0409, Accuracy: 9896/10000 (99%)\n",
            "\n",
            "------------ EPOCH 8 -------------\n"
          ],
          "name": "stdout"
        },
        {
          "output_type": "stream",
          "text": [
            "Loss=0.21452151238918304 Batch_id=937 Accuracy=96.85: 100%|██████████| 938/938 [00:21<00:00, 44.26it/s]\n",
            "  0%|          | 0/938 [00:00<?, ?it/s]"
          ],
          "name": "stderr"
        },
        {
          "output_type": "stream",
          "text": [
            "\n",
            "Test set: Average loss: 0.0418, Accuracy: 9900/10000 (99%)\n",
            "\n",
            "------------ EPOCH 9 -------------\n"
          ],
          "name": "stdout"
        },
        {
          "output_type": "stream",
          "text": [
            "Loss=0.2703574299812317 Batch_id=937 Accuracy=97.55: 100%|██████████| 938/938 [00:21<00:00, 44.25it/s]\n",
            "  0%|          | 0/938 [00:00<?, ?it/s]"
          ],
          "name": "stderr"
        },
        {
          "output_type": "stream",
          "text": [
            "\n",
            "Test set: Average loss: 0.0348, Accuracy: 9904/10000 (99%)\n",
            "\n",
            "------------ EPOCH 10 -------------\n"
          ],
          "name": "stdout"
        },
        {
          "output_type": "stream",
          "text": [
            "Loss=0.23996050655841827 Batch_id=937 Accuracy=97.71: 100%|██████████| 938/938 [00:21<00:00, 44.39it/s]\n",
            "  0%|          | 0/938 [00:00<?, ?it/s]"
          ],
          "name": "stderr"
        },
        {
          "output_type": "stream",
          "text": [
            "\n",
            "Test set: Average loss: 0.0333, Accuracy: 9904/10000 (99%)\n",
            "\n",
            "------------ EPOCH 11 -------------\n"
          ],
          "name": "stdout"
        },
        {
          "output_type": "stream",
          "text": [
            "Loss=0.37882429361343384 Batch_id=937 Accuracy=97.69: 100%|██████████| 938/938 [00:20<00:00, 44.79it/s]\n",
            "  0%|          | 0/938 [00:00<?, ?it/s]"
          ],
          "name": "stderr"
        },
        {
          "output_type": "stream",
          "text": [
            "\n",
            "Test set: Average loss: 0.0320, Accuracy: 9917/10000 (99%)\n",
            "\n",
            "------------ EPOCH 12 -------------\n"
          ],
          "name": "stdout"
        },
        {
          "output_type": "stream",
          "text": [
            "Loss=0.18289290368556976 Batch_id=937 Accuracy=97.84: 100%|██████████| 938/938 [00:21<00:00, 43.65it/s]\n",
            "  0%|          | 0/938 [00:00<?, ?it/s]"
          ],
          "name": "stderr"
        },
        {
          "output_type": "stream",
          "text": [
            "\n",
            "Test set: Average loss: 0.0332, Accuracy: 9914/10000 (99%)\n",
            "\n",
            "------------ EPOCH 13 -------------\n"
          ],
          "name": "stdout"
        },
        {
          "output_type": "stream",
          "text": [
            "Loss=0.32802194356918335 Batch_id=937 Accuracy=97.74: 100%|██████████| 938/938 [00:21<00:00, 44.05it/s]\n",
            "  0%|          | 0/938 [00:00<?, ?it/s]"
          ],
          "name": "stderr"
        },
        {
          "output_type": "stream",
          "text": [
            "\n",
            "Test set: Average loss: 0.0301, Accuracy: 9921/10000 (99%)\n",
            "\n",
            "------------ EPOCH 14 -------------\n"
          ],
          "name": "stdout"
        },
        {
          "output_type": "stream",
          "text": [
            "Loss=0.18767577409744263 Batch_id=937 Accuracy=97.84: 100%|██████████| 938/938 [00:22<00:00, 42.57it/s]\n",
            "  0%|          | 0/938 [00:00<?, ?it/s]"
          ],
          "name": "stderr"
        },
        {
          "output_type": "stream",
          "text": [
            "\n",
            "Test set: Average loss: 0.0310, Accuracy: 9911/10000 (99%)\n",
            "\n",
            "------------ EPOCH 15 -------------\n"
          ],
          "name": "stdout"
        },
        {
          "output_type": "stream",
          "text": [
            "Loss=0.27180540561676025 Batch_id=937 Accuracy=97.87: 100%|██████████| 938/938 [00:22<00:00, 42.05it/s]\n",
            "  0%|          | 0/938 [00:00<?, ?it/s]"
          ],
          "name": "stderr"
        },
        {
          "output_type": "stream",
          "text": [
            "\n",
            "Test set: Average loss: 0.0311, Accuracy: 9915/10000 (99%)\n",
            "\n",
            "------------ EPOCH 16 -------------\n"
          ],
          "name": "stdout"
        },
        {
          "output_type": "stream",
          "text": [
            "Loss=0.19951403141021729 Batch_id=937 Accuracy=97.76: 100%|██████████| 938/938 [00:21<00:00, 43.13it/s]\n",
            "  0%|          | 0/938 [00:00<?, ?it/s]"
          ],
          "name": "stderr"
        },
        {
          "output_type": "stream",
          "text": [
            "\n",
            "Test set: Average loss: 0.0311, Accuracy: 9918/10000 (99%)\n",
            "\n",
            "------------ EPOCH 17 -------------\n"
          ],
          "name": "stdout"
        },
        {
          "output_type": "stream",
          "text": [
            "Loss=0.17653344571590424 Batch_id=937 Accuracy=97.75: 100%|██████████| 938/938 [00:21<00:00, 44.12it/s]\n",
            "  0%|          | 0/938 [00:00<?, ?it/s]"
          ],
          "name": "stderr"
        },
        {
          "output_type": "stream",
          "text": [
            "\n",
            "Test set: Average loss: 0.0297, Accuracy: 9918/10000 (99%)\n",
            "\n",
            "------------ EPOCH 18 -------------\n"
          ],
          "name": "stdout"
        },
        {
          "output_type": "stream",
          "text": [
            "Loss=0.17517736554145813 Batch_id=937 Accuracy=97.88: 100%|██████████| 938/938 [00:20<00:00, 45.05it/s]\n",
            "  0%|          | 0/938 [00:00<?, ?it/s]"
          ],
          "name": "stderr"
        },
        {
          "output_type": "stream",
          "text": [
            "\n",
            "Test set: Average loss: 0.0309, Accuracy: 9918/10000 (99%)\n",
            "\n",
            "------------ EPOCH 19 -------------\n"
          ],
          "name": "stdout"
        },
        {
          "output_type": "stream",
          "text": [
            "Loss=0.23037245869636536 Batch_id=937 Accuracy=97.76: 100%|██████████| 938/938 [00:21<00:00, 43.31it/s]\n",
            "  0%|          | 0/938 [00:00<?, ?it/s]"
          ],
          "name": "stderr"
        },
        {
          "output_type": "stream",
          "text": [
            "\n",
            "Test set: Average loss: 0.0303, Accuracy: 9919/10000 (99%)\n",
            "\n",
            "------------ EPOCH 20 -------------\n"
          ],
          "name": "stdout"
        },
        {
          "output_type": "stream",
          "text": [
            "Loss=0.2287338674068451 Batch_id=937 Accuracy=97.96: 100%|██████████| 938/938 [00:22<00:00, 42.44it/s]\n",
            "  0%|          | 0/938 [00:00<?, ?it/s]"
          ],
          "name": "stderr"
        },
        {
          "output_type": "stream",
          "text": [
            "\n",
            "Test set: Average loss: 0.0308, Accuracy: 9918/10000 (99%)\n",
            "\n",
            "------------ EPOCH 21 -------------\n"
          ],
          "name": "stdout"
        },
        {
          "output_type": "stream",
          "text": [
            "Loss=0.17865902185440063 Batch_id=937 Accuracy=97.81: 100%|██████████| 938/938 [00:21<00:00, 44.28it/s]\n",
            "  0%|          | 0/938 [00:00<?, ?it/s]"
          ],
          "name": "stderr"
        },
        {
          "output_type": "stream",
          "text": [
            "\n",
            "Test set: Average loss: 0.0304, Accuracy: 9919/10000 (99%)\n",
            "\n",
            "------------ EPOCH 22 -------------\n"
          ],
          "name": "stdout"
        },
        {
          "output_type": "stream",
          "text": [
            "Loss=0.18809622526168823 Batch_id=937 Accuracy=98.02: 100%|██████████| 938/938 [00:21<00:00, 43.16it/s]\n",
            "  0%|          | 0/938 [00:00<?, ?it/s]"
          ],
          "name": "stderr"
        },
        {
          "output_type": "stream",
          "text": [
            "\n",
            "Test set: Average loss: 0.0302, Accuracy: 9919/10000 (99%)\n",
            "\n",
            "------------ EPOCH 23 -------------\n"
          ],
          "name": "stdout"
        },
        {
          "output_type": "stream",
          "text": [
            "Loss=0.24527224898338318 Batch_id=937 Accuracy=97.89: 100%|██████████| 938/938 [00:21<00:00, 43.58it/s]\n",
            "  0%|          | 0/938 [00:00<?, ?it/s]"
          ],
          "name": "stderr"
        },
        {
          "output_type": "stream",
          "text": [
            "\n",
            "Test set: Average loss: 0.0303, Accuracy: 9919/10000 (99%)\n",
            "\n",
            "------------ EPOCH 24 -------------\n"
          ],
          "name": "stdout"
        },
        {
          "output_type": "stream",
          "text": [
            "Loss=0.2648531496524811 Batch_id=937 Accuracy=97.83: 100%|██████████| 938/938 [00:21<00:00, 43.46it/s]\n",
            "  0%|          | 0/938 [00:00<?, ?it/s]"
          ],
          "name": "stderr"
        },
        {
          "output_type": "stream",
          "text": [
            "\n",
            "Test set: Average loss: 0.0298, Accuracy: 9922/10000 (99%)\n",
            "\n",
            "------------ EPOCH 25 -------------\n"
          ],
          "name": "stdout"
        },
        {
          "output_type": "stream",
          "text": [
            "Loss=0.48879653215408325 Batch_id=937 Accuracy=97.93: 100%|██████████| 938/938 [00:21<00:00, 44.50it/s]\n"
          ],
          "name": "stderr"
        },
        {
          "output_type": "stream",
          "text": [
            "\n",
            "Test set: Average loss: 0.0306, Accuracy: 9918/10000 (99%)\n",
            "\n"
          ],
          "name": "stdout"
        }
      ]
    },
    {
      "cell_type": "markdown",
      "metadata": {
        "id": "gOHIt6cJqpgl"
      },
      "source": [
        "\r\n",
        "\r\n",
        "---\r\n",
        "\r\n",
        "Using batch_size = 128 for GBN.\r\n"
      ]
    },
    {
      "cell_type": "code",
      "metadata": {
        "id": "WYGWOb9rqi3o"
      },
      "source": [
        "train_loader = data_loader(train_set, 128, use_cuda, num_workers=4)\r\n",
        "test_loader = data_loader(test_set, 128, use_cuda, num_workers=4)"
      ],
      "execution_count": 22,
      "outputs": []
    },
    {
      "cell_type": "code",
      "metadata": {
        "colab": {
          "base_uri": "https://localhost:8080/"
        },
        "id": "x8X8rftAc2xV",
        "outputId": "6420d564-952d-4e9f-dc54-fedacfe25891"
      },
      "source": [
        "GBN = GBNnet()\r\n",
        "optimizer_GBN = sgd_optimizer(GBN, l2_factor=0)\r\n",
        "scheduler_GBN = StepLR(optimizer_GBN, step_size=4, gamma=0.15)\r\n",
        "trainer = Trainer(GBN, optimizer_GBN, criterion, train_loader, test_loader, lr_scheduler=scheduler_GBN, l1_loss=False)\r\n",
        "results['GBN'] = trainer.train(25)\r\n",
        "trainer.save('GBN')"
      ],
      "execution_count": 23,
      "outputs": [
        {
          "output_type": "stream",
          "text": [
            "\r  0%|          | 0/469 [00:00<?, ?it/s]"
          ],
          "name": "stderr"
        },
        {
          "output_type": "stream",
          "text": [
            "------------ EPOCH 1 -------------\n"
          ],
          "name": "stdout"
        },
        {
          "output_type": "stream",
          "text": [
            "/usr/local/lib/python3.6/dist-packages/ipykernel_launcher.py:53: UserWarning: Implicit dimension choice for log_softmax has been deprecated. Change the call to include dim=X as an argument.\n",
            "Loss=0.10296100378036499 Batch_id=468 Accuracy=84.55: 100%|██████████| 469/469 [00:16<00:00, 29.15it/s]\n",
            "  0%|          | 0/469 [00:00<?, ?it/s]"
          ],
          "name": "stderr"
        },
        {
          "output_type": "stream",
          "text": [
            "\n",
            "Test set: Average loss: 0.0780, Accuracy: 9809/10000 (98%)\n",
            "\n",
            "------------ EPOCH 2 -------------\n"
          ],
          "name": "stdout"
        },
        {
          "output_type": "stream",
          "text": [
            "Loss=0.21124374866485596 Batch_id=468 Accuracy=95.70: 100%|██████████| 469/469 [00:15<00:00, 29.92it/s]\n",
            "  0%|          | 0/469 [00:00<?, ?it/s]"
          ],
          "name": "stderr"
        },
        {
          "output_type": "stream",
          "text": [
            "\n",
            "Test set: Average loss: 0.0479, Accuracy: 9875/10000 (99%)\n",
            "\n",
            "------------ EPOCH 3 -------------\n"
          ],
          "name": "stdout"
        },
        {
          "output_type": "stream",
          "text": [
            "Loss=0.06669733673334122 Batch_id=468 Accuracy=96.50: 100%|██████████| 469/469 [00:16<00:00, 29.03it/s]\n",
            "  0%|          | 0/469 [00:00<?, ?it/s]"
          ],
          "name": "stderr"
        },
        {
          "output_type": "stream",
          "text": [
            "\n",
            "Test set: Average loss: 0.0367, Accuracy: 9899/10000 (99%)\n",
            "\n",
            "------------ EPOCH 4 -------------\n"
          ],
          "name": "stdout"
        },
        {
          "output_type": "stream",
          "text": [
            "Loss=0.2661075294017792 Batch_id=468 Accuracy=97.00: 100%|██████████| 469/469 [00:15<00:00, 29.65it/s]\n",
            "  0%|          | 0/469 [00:00<?, ?it/s]"
          ],
          "name": "stderr"
        },
        {
          "output_type": "stream",
          "text": [
            "\n",
            "Test set: Average loss: 0.0333, Accuracy: 9909/10000 (99%)\n",
            "\n",
            "------------ EPOCH 5 -------------\n"
          ],
          "name": "stdout"
        },
        {
          "output_type": "stream",
          "text": [
            "Loss=0.11783679574728012 Batch_id=468 Accuracy=97.50: 100%|██████████| 469/469 [00:15<00:00, 29.58it/s]\n",
            "  0%|          | 0/469 [00:00<?, ?it/s]"
          ],
          "name": "stderr"
        },
        {
          "output_type": "stream",
          "text": [
            "\n",
            "Test set: Average loss: 0.0291, Accuracy: 9910/10000 (99%)\n",
            "\n",
            "------------ EPOCH 6 -------------\n"
          ],
          "name": "stdout"
        },
        {
          "output_type": "stream",
          "text": [
            "Loss=0.12251687794923782 Batch_id=468 Accuracy=97.60: 100%|██████████| 469/469 [00:15<00:00, 29.55it/s]\n",
            "  0%|          | 0/469 [00:00<?, ?it/s]"
          ],
          "name": "stderr"
        },
        {
          "output_type": "stream",
          "text": [
            "\n",
            "Test set: Average loss: 0.0279, Accuracy: 9916/10000 (99%)\n",
            "\n",
            "------------ EPOCH 7 -------------\n"
          ],
          "name": "stdout"
        },
        {
          "output_type": "stream",
          "text": [
            "Loss=0.04932823404669762 Batch_id=468 Accuracy=97.63: 100%|██████████| 469/469 [00:16<00:00, 28.49it/s]\n",
            "  0%|          | 0/469 [00:00<?, ?it/s]"
          ],
          "name": "stderr"
        },
        {
          "output_type": "stream",
          "text": [
            "\n",
            "Test set: Average loss: 0.0272, Accuracy: 9916/10000 (99%)\n",
            "\n",
            "------------ EPOCH 8 -------------\n"
          ],
          "name": "stdout"
        },
        {
          "output_type": "stream",
          "text": [
            "Loss=0.0448843277990818 Batch_id=468 Accuracy=97.67: 100%|██████████| 469/469 [00:16<00:00, 29.04it/s]\n",
            "  0%|          | 0/469 [00:00<?, ?it/s]"
          ],
          "name": "stderr"
        },
        {
          "output_type": "stream",
          "text": [
            "\n",
            "Test set: Average loss: 0.0280, Accuracy: 9911/10000 (99%)\n",
            "\n",
            "------------ EPOCH 9 -------------\n"
          ],
          "name": "stdout"
        },
        {
          "output_type": "stream",
          "text": [
            "Loss=0.14501789212226868 Batch_id=468 Accuracy=97.72: 100%|██████████| 469/469 [00:16<00:00, 29.29it/s]\n",
            "  0%|          | 0/469 [00:00<?, ?it/s]"
          ],
          "name": "stderr"
        },
        {
          "output_type": "stream",
          "text": [
            "\n",
            "Test set: Average loss: 0.0274, Accuracy: 9914/10000 (99%)\n",
            "\n",
            "------------ EPOCH 10 -------------\n"
          ],
          "name": "stdout"
        },
        {
          "output_type": "stream",
          "text": [
            "Loss=0.02674000710248947 Batch_id=468 Accuracy=97.69: 100%|██████████| 469/469 [00:15<00:00, 29.79it/s]\n",
            "  0%|          | 0/469 [00:00<?, ?it/s]"
          ],
          "name": "stderr"
        },
        {
          "output_type": "stream",
          "text": [
            "\n",
            "Test set: Average loss: 0.0274, Accuracy: 9913/10000 (99%)\n",
            "\n",
            "------------ EPOCH 11 -------------\n"
          ],
          "name": "stdout"
        },
        {
          "output_type": "stream",
          "text": [
            "Loss=0.19986288249492645 Batch_id=468 Accuracy=97.73: 100%|██████████| 469/469 [00:15<00:00, 29.78it/s]\n",
            "  0%|          | 0/469 [00:00<?, ?it/s]"
          ],
          "name": "stderr"
        },
        {
          "output_type": "stream",
          "text": [
            "\n",
            "Test set: Average loss: 0.0271, Accuracy: 9915/10000 (99%)\n",
            "\n",
            "------------ EPOCH 12 -------------\n"
          ],
          "name": "stdout"
        },
        {
          "output_type": "stream",
          "text": [
            "Loss=0.015461872331798077 Batch_id=468 Accuracy=97.83: 100%|██████████| 469/469 [00:15<00:00, 29.78it/s]\n",
            "  0%|          | 0/469 [00:00<?, ?it/s]"
          ],
          "name": "stderr"
        },
        {
          "output_type": "stream",
          "text": [
            "\n",
            "Test set: Average loss: 0.0268, Accuracy: 9919/10000 (99%)\n",
            "\n",
            "------------ EPOCH 13 -------------\n"
          ],
          "name": "stdout"
        },
        {
          "output_type": "stream",
          "text": [
            "Loss=0.06722419708967209 Batch_id=468 Accuracy=97.70: 100%|██████████| 469/469 [00:16<00:00, 29.17it/s]\n",
            "  0%|          | 0/469 [00:00<?, ?it/s]"
          ],
          "name": "stderr"
        },
        {
          "output_type": "stream",
          "text": [
            "\n",
            "Test set: Average loss: 0.0269, Accuracy: 9923/10000 (99%)\n",
            "\n",
            "------------ EPOCH 14 -------------\n"
          ],
          "name": "stdout"
        },
        {
          "output_type": "stream",
          "text": [
            "Loss=0.045964960008859634 Batch_id=468 Accuracy=97.72: 100%|██████████| 469/469 [00:16<00:00, 29.00it/s]\n",
            "  0%|          | 0/469 [00:00<?, ?it/s]"
          ],
          "name": "stderr"
        },
        {
          "output_type": "stream",
          "text": [
            "\n",
            "Test set: Average loss: 0.0267, Accuracy: 9917/10000 (99%)\n",
            "\n",
            "------------ EPOCH 15 -------------\n"
          ],
          "name": "stdout"
        },
        {
          "output_type": "stream",
          "text": [
            "Loss=0.054267823696136475 Batch_id=468 Accuracy=97.80: 100%|██████████| 469/469 [00:15<00:00, 30.47it/s]\n",
            "  0%|          | 0/469 [00:00<?, ?it/s]"
          ],
          "name": "stderr"
        },
        {
          "output_type": "stream",
          "text": [
            "\n",
            "Test set: Average loss: 0.0272, Accuracy: 9916/10000 (99%)\n",
            "\n",
            "------------ EPOCH 16 -------------\n"
          ],
          "name": "stdout"
        },
        {
          "output_type": "stream",
          "text": [
            "Loss=0.051129087805747986 Batch_id=468 Accuracy=97.74: 100%|██████████| 469/469 [00:16<00:00, 29.20it/s]\n",
            "  0%|          | 0/469 [00:00<?, ?it/s]"
          ],
          "name": "stderr"
        },
        {
          "output_type": "stream",
          "text": [
            "\n",
            "Test set: Average loss: 0.0268, Accuracy: 9921/10000 (99%)\n",
            "\n",
            "------------ EPOCH 17 -------------\n"
          ],
          "name": "stdout"
        },
        {
          "output_type": "stream",
          "text": [
            "Loss=0.06804804503917694 Batch_id=468 Accuracy=97.86: 100%|██████████| 469/469 [00:15<00:00, 30.06it/s]\n",
            "  0%|          | 0/469 [00:00<?, ?it/s]"
          ],
          "name": "stderr"
        },
        {
          "output_type": "stream",
          "text": [
            "\n",
            "Test set: Average loss: 0.0268, Accuracy: 9918/10000 (99%)\n",
            "\n",
            "------------ EPOCH 18 -------------\n"
          ],
          "name": "stdout"
        },
        {
          "output_type": "stream",
          "text": [
            "Loss=0.030003182590007782 Batch_id=468 Accuracy=97.76: 100%|██████████| 469/469 [00:16<00:00, 28.96it/s]\n",
            "  0%|          | 0/469 [00:00<?, ?it/s]"
          ],
          "name": "stderr"
        },
        {
          "output_type": "stream",
          "text": [
            "\n",
            "Test set: Average loss: 0.0265, Accuracy: 9917/10000 (99%)\n",
            "\n",
            "------------ EPOCH 19 -------------\n"
          ],
          "name": "stdout"
        },
        {
          "output_type": "stream",
          "text": [
            "Loss=0.07018585503101349 Batch_id=468 Accuracy=97.77: 100%|██████████| 469/469 [00:16<00:00, 29.30it/s]\n",
            "  0%|          | 0/469 [00:00<?, ?it/s]"
          ],
          "name": "stderr"
        },
        {
          "output_type": "stream",
          "text": [
            "\n",
            "Test set: Average loss: 0.0267, Accuracy: 9914/10000 (99%)\n",
            "\n",
            "------------ EPOCH 20 -------------\n"
          ],
          "name": "stdout"
        },
        {
          "output_type": "stream",
          "text": [
            "Loss=0.04585042968392372 Batch_id=468 Accuracy=97.84: 100%|██████████| 469/469 [00:15<00:00, 30.10it/s]\n",
            "  0%|          | 0/469 [00:00<?, ?it/s]"
          ],
          "name": "stderr"
        },
        {
          "output_type": "stream",
          "text": [
            "\n",
            "Test set: Average loss: 0.0268, Accuracy: 9917/10000 (99%)\n",
            "\n",
            "------------ EPOCH 21 -------------\n"
          ],
          "name": "stdout"
        },
        {
          "output_type": "stream",
          "text": [
            "Loss=0.13601596653461456 Batch_id=468 Accuracy=97.89: 100%|██████████| 469/469 [00:16<00:00, 29.04it/s]\n",
            "  0%|          | 0/469 [00:00<?, ?it/s]"
          ],
          "name": "stderr"
        },
        {
          "output_type": "stream",
          "text": [
            "\n",
            "Test set: Average loss: 0.0269, Accuracy: 9919/10000 (99%)\n",
            "\n",
            "------------ EPOCH 22 -------------\n"
          ],
          "name": "stdout"
        },
        {
          "output_type": "stream",
          "text": [
            "Loss=0.12617962062358856 Batch_id=468 Accuracy=97.84: 100%|██████████| 469/469 [00:15<00:00, 29.60it/s]\n",
            "  0%|          | 0/469 [00:00<?, ?it/s]"
          ],
          "name": "stderr"
        },
        {
          "output_type": "stream",
          "text": [
            "\n",
            "Test set: Average loss: 0.0269, Accuracy: 9918/10000 (99%)\n",
            "\n",
            "------------ EPOCH 23 -------------\n"
          ],
          "name": "stdout"
        },
        {
          "output_type": "stream",
          "text": [
            "Loss=0.05397133529186249 Batch_id=468 Accuracy=97.70: 100%|██████████| 469/469 [00:15<00:00, 29.99it/s]\n",
            "  0%|          | 0/469 [00:00<?, ?it/s]"
          ],
          "name": "stderr"
        },
        {
          "output_type": "stream",
          "text": [
            "\n",
            "Test set: Average loss: 0.0267, Accuracy: 9916/10000 (99%)\n",
            "\n",
            "------------ EPOCH 24 -------------\n"
          ],
          "name": "stdout"
        },
        {
          "output_type": "stream",
          "text": [
            "Loss=0.10409273952245712 Batch_id=468 Accuracy=97.82: 100%|██████████| 469/469 [00:15<00:00, 29.37it/s]\n",
            "  0%|          | 0/469 [00:00<?, ?it/s]"
          ],
          "name": "stderr"
        },
        {
          "output_type": "stream",
          "text": [
            "\n",
            "Test set: Average loss: 0.0272, Accuracy: 9921/10000 (99%)\n",
            "\n",
            "------------ EPOCH 25 -------------\n"
          ],
          "name": "stdout"
        },
        {
          "output_type": "stream",
          "text": [
            "Loss=0.08843100816011429 Batch_id=468 Accuracy=97.83: 100%|██████████| 469/469 [00:15<00:00, 29.55it/s]\n"
          ],
          "name": "stderr"
        },
        {
          "output_type": "stream",
          "text": [
            "\n",
            "Test set: Average loss: 0.0268, Accuracy: 9915/10000 (99%)\n",
            "\n"
          ],
          "name": "stdout"
        }
      ]
    },
    {
      "cell_type": "code",
      "metadata": {
        "colab": {
          "base_uri": "https://localhost:8080/"
        },
        "id": "ZUWl5kI8c_Q5",
        "outputId": "a90e84ff-e3ef-4ec4-e6a1-bd1baa71f528"
      },
      "source": [
        "GBN_l1_l2 = GBNnet()\r\n",
        "optimizer_GBN_l1_l2 = sgd_optimizer(GBN_l1_l2, l2_factor=0.0004)\r\n",
        "scheduler_GBN_l1_l2 = StepLR(optimizer_GBN_l1_l2, step_size=4, gamma=0.15)\r\n",
        "trainer = Trainer(GBN_l1_l2, optimizer_GBN_l1_l2, criterion, train_loader, test_loader, lr_scheduler=scheduler_GBN_l1_l2, l1_loss=True, l1_factor=0.001)\r\n",
        "results['GBN_l1_l2'] = trainer.train(25)\r\n",
        "trainer.save('GBN_l1_l2')"
      ],
      "execution_count": 24,
      "outputs": [
        {
          "output_type": "stream",
          "text": [
            "\r  0%|          | 0/469 [00:00<?, ?it/s]"
          ],
          "name": "stderr"
        },
        {
          "output_type": "stream",
          "text": [
            "------------ EPOCH 1 -------------\n"
          ],
          "name": "stdout"
        },
        {
          "output_type": "stream",
          "text": [
            "/usr/local/lib/python3.6/dist-packages/ipykernel_launcher.py:53: UserWarning: Implicit dimension choice for log_softmax has been deprecated. Change the call to include dim=X as an argument.\n",
            "Loss=0.5380386114120483 Batch_id=468 Accuracy=85.97: 100%|██████████| 469/469 [00:16<00:00, 27.82it/s]\n",
            "  0%|          | 0/469 [00:00<?, ?it/s]"
          ],
          "name": "stderr"
        },
        {
          "output_type": "stream",
          "text": [
            "\n",
            "Test set: Average loss: 0.1410, Accuracy: 9694/10000 (97%)\n",
            "\n",
            "------------ EPOCH 2 -------------\n"
          ],
          "name": "stdout"
        },
        {
          "output_type": "stream",
          "text": [
            "Loss=0.4036768078804016 Batch_id=468 Accuracy=94.80: 100%|██████████| 469/469 [00:17<00:00, 26.86it/s]\n",
            "  0%|          | 0/469 [00:00<?, ?it/s]"
          ],
          "name": "stderr"
        },
        {
          "output_type": "stream",
          "text": [
            "\n",
            "Test set: Average loss: 0.0795, Accuracy: 9788/10000 (98%)\n",
            "\n",
            "------------ EPOCH 3 -------------\n"
          ],
          "name": "stdout"
        },
        {
          "output_type": "stream",
          "text": [
            "Loss=0.4034462571144104 Batch_id=468 Accuracy=95.08: 100%|██████████| 469/469 [00:16<00:00, 28.22it/s]\n",
            "  0%|          | 0/469 [00:00<?, ?it/s]"
          ],
          "name": "stderr"
        },
        {
          "output_type": "stream",
          "text": [
            "\n",
            "Test set: Average loss: 0.0888, Accuracy: 9777/10000 (98%)\n",
            "\n",
            "------------ EPOCH 4 -------------\n"
          ],
          "name": "stdout"
        },
        {
          "output_type": "stream",
          "text": [
            "Loss=0.39019784331321716 Batch_id=468 Accuracy=95.55: 100%|██████████| 469/469 [00:16<00:00, 27.63it/s]\n",
            "  0%|          | 0/469 [00:00<?, ?it/s]"
          ],
          "name": "stderr"
        },
        {
          "output_type": "stream",
          "text": [
            "\n",
            "Test set: Average loss: 0.0759, Accuracy: 9818/10000 (98%)\n",
            "\n",
            "------------ EPOCH 5 -------------\n"
          ],
          "name": "stdout"
        },
        {
          "output_type": "stream",
          "text": [
            "Loss=0.26756516098976135 Batch_id=468 Accuracy=96.63: 100%|██████████| 469/469 [00:17<00:00, 26.95it/s]\n",
            "  0%|          | 0/469 [00:00<?, ?it/s]"
          ],
          "name": "stderr"
        },
        {
          "output_type": "stream",
          "text": [
            "\n",
            "Test set: Average loss: 0.0378, Accuracy: 9910/10000 (99%)\n",
            "\n",
            "------------ EPOCH 6 -------------\n"
          ],
          "name": "stdout"
        },
        {
          "output_type": "stream",
          "text": [
            "Loss=0.381072461605072 Batch_id=468 Accuracy=96.86: 100%|██████████| 469/469 [00:17<00:00, 26.53it/s]\n",
            "  0%|          | 0/469 [00:00<?, ?it/s]"
          ],
          "name": "stderr"
        },
        {
          "output_type": "stream",
          "text": [
            "\n",
            "Test set: Average loss: 0.0382, Accuracy: 9913/10000 (99%)\n",
            "\n",
            "------------ EPOCH 7 -------------\n"
          ],
          "name": "stdout"
        },
        {
          "output_type": "stream",
          "text": [
            "Loss=0.33407628536224365 Batch_id=468 Accuracy=96.72: 100%|██████████| 469/469 [00:16<00:00, 28.26it/s]\n",
            "  0%|          | 0/469 [00:00<?, ?it/s]"
          ],
          "name": "stderr"
        },
        {
          "output_type": "stream",
          "text": [
            "\n",
            "Test set: Average loss: 0.0403, Accuracy: 9896/10000 (99%)\n",
            "\n",
            "------------ EPOCH 8 -------------\n"
          ],
          "name": "stdout"
        },
        {
          "output_type": "stream",
          "text": [
            "Loss=0.2886340916156769 Batch_id=468 Accuracy=96.75: 100%|██████████| 469/469 [00:17<00:00, 27.41it/s]\n",
            "  0%|          | 0/469 [00:00<?, ?it/s]"
          ],
          "name": "stderr"
        },
        {
          "output_type": "stream",
          "text": [
            "\n",
            "Test set: Average loss: 0.0378, Accuracy: 9906/10000 (99%)\n",
            "\n",
            "------------ EPOCH 9 -------------\n"
          ],
          "name": "stdout"
        },
        {
          "output_type": "stream",
          "text": [
            "Loss=0.3434050381183624 Batch_id=468 Accuracy=97.14: 100%|██████████| 469/469 [00:17<00:00, 27.56it/s]\n",
            "  0%|          | 0/469 [00:00<?, ?it/s]"
          ],
          "name": "stderr"
        },
        {
          "output_type": "stream",
          "text": [
            "\n",
            "Test set: Average loss: 0.0308, Accuracy: 9924/10000 (99%)\n",
            "\n",
            "------------ EPOCH 10 -------------\n"
          ],
          "name": "stdout"
        },
        {
          "output_type": "stream",
          "text": [
            "Loss=0.26005467772483826 Batch_id=468 Accuracy=97.17: 100%|██████████| 469/469 [00:17<00:00, 27.50it/s]\n",
            "  0%|          | 0/469 [00:00<?, ?it/s]"
          ],
          "name": "stderr"
        },
        {
          "output_type": "stream",
          "text": [
            "\n",
            "Test set: Average loss: 0.0299, Accuracy: 9928/10000 (99%)\n",
            "\n",
            "------------ EPOCH 11 -------------\n"
          ],
          "name": "stdout"
        },
        {
          "output_type": "stream",
          "text": [
            "Loss=0.23252150416374207 Batch_id=468 Accuracy=97.23: 100%|██████████| 469/469 [00:16<00:00, 27.86it/s]\n",
            "  0%|          | 0/469 [00:00<?, ?it/s]"
          ],
          "name": "stderr"
        },
        {
          "output_type": "stream",
          "text": [
            "\n",
            "Test set: Average loss: 0.0296, Accuracy: 9930/10000 (99%)\n",
            "\n",
            "------------ EPOCH 12 -------------\n"
          ],
          "name": "stdout"
        },
        {
          "output_type": "stream",
          "text": [
            "Loss=0.31507569551467896 Batch_id=468 Accuracy=97.26: 100%|██████████| 469/469 [00:17<00:00, 27.42it/s]\n",
            "  0%|          | 0/469 [00:00<?, ?it/s]"
          ],
          "name": "stderr"
        },
        {
          "output_type": "stream",
          "text": [
            "\n",
            "Test set: Average loss: 0.0303, Accuracy: 9928/10000 (99%)\n",
            "\n",
            "------------ EPOCH 13 -------------\n"
          ],
          "name": "stdout"
        },
        {
          "output_type": "stream",
          "text": [
            "Loss=0.24448415637016296 Batch_id=468 Accuracy=97.24: 100%|██████████| 469/469 [00:17<00:00, 27.43it/s]\n",
            "  0%|          | 0/469 [00:00<?, ?it/s]"
          ],
          "name": "stderr"
        },
        {
          "output_type": "stream",
          "text": [
            "\n",
            "Test set: Average loss: 0.0293, Accuracy: 9926/10000 (99%)\n",
            "\n",
            "------------ EPOCH 14 -------------\n"
          ],
          "name": "stdout"
        },
        {
          "output_type": "stream",
          "text": [
            "Loss=0.2929472327232361 Batch_id=468 Accuracy=97.37: 100%|██████████| 469/469 [00:17<00:00, 27.55it/s]\n",
            "  0%|          | 0/469 [00:00<?, ?it/s]"
          ],
          "name": "stderr"
        },
        {
          "output_type": "stream",
          "text": [
            "\n",
            "Test set: Average loss: 0.0293, Accuracy: 9926/10000 (99%)\n",
            "\n",
            "------------ EPOCH 15 -------------\n"
          ],
          "name": "stdout"
        },
        {
          "output_type": "stream",
          "text": [
            "Loss=0.2734580636024475 Batch_id=468 Accuracy=97.24: 100%|██████████| 469/469 [00:16<00:00, 28.03it/s]\n",
            "  0%|          | 0/469 [00:00<?, ?it/s]"
          ],
          "name": "stderr"
        },
        {
          "output_type": "stream",
          "text": [
            "\n",
            "Test set: Average loss: 0.0292, Accuracy: 9925/10000 (99%)\n",
            "\n",
            "------------ EPOCH 16 -------------\n"
          ],
          "name": "stdout"
        },
        {
          "output_type": "stream",
          "text": [
            "Loss=0.27027180790901184 Batch_id=468 Accuracy=97.32: 100%|██████████| 469/469 [00:16<00:00, 28.06it/s]\n",
            "  0%|          | 0/469 [00:00<?, ?it/s]"
          ],
          "name": "stderr"
        },
        {
          "output_type": "stream",
          "text": [
            "\n",
            "Test set: Average loss: 0.0285, Accuracy: 9931/10000 (99%)\n",
            "\n",
            "------------ EPOCH 17 -------------\n"
          ],
          "name": "stdout"
        },
        {
          "output_type": "stream",
          "text": [
            "Loss=0.22585612535476685 Batch_id=468 Accuracy=97.29: 100%|██████████| 469/469 [00:16<00:00, 28.48it/s]\n",
            "  0%|          | 0/469 [00:00<?, ?it/s]"
          ],
          "name": "stderr"
        },
        {
          "output_type": "stream",
          "text": [
            "\n",
            "Test set: Average loss: 0.0291, Accuracy: 9926/10000 (99%)\n",
            "\n",
            "------------ EPOCH 18 -------------\n"
          ],
          "name": "stdout"
        },
        {
          "output_type": "stream",
          "text": [
            "Loss=0.2391585409641266 Batch_id=468 Accuracy=97.27: 100%|██████████| 469/469 [00:16<00:00, 27.75it/s]\n",
            "  0%|          | 0/469 [00:00<?, ?it/s]"
          ],
          "name": "stderr"
        },
        {
          "output_type": "stream",
          "text": [
            "\n",
            "Test set: Average loss: 0.0285, Accuracy: 9931/10000 (99%)\n",
            "\n",
            "------------ EPOCH 19 -------------\n"
          ],
          "name": "stdout"
        },
        {
          "output_type": "stream",
          "text": [
            "Loss=0.28367647528648376 Batch_id=468 Accuracy=97.23: 100%|██████████| 469/469 [00:16<00:00, 28.01it/s]\n",
            "  0%|          | 0/469 [00:00<?, ?it/s]"
          ],
          "name": "stderr"
        },
        {
          "output_type": "stream",
          "text": [
            "\n",
            "Test set: Average loss: 0.0289, Accuracy: 9933/10000 (99%)\n",
            "\n",
            "------------ EPOCH 20 -------------\n"
          ],
          "name": "stdout"
        },
        {
          "output_type": "stream",
          "text": [
            "Loss=0.2673783302307129 Batch_id=468 Accuracy=97.34: 100%|██████████| 469/469 [00:16<00:00, 28.32it/s]\n",
            "  0%|          | 0/469 [00:00<?, ?it/s]"
          ],
          "name": "stderr"
        },
        {
          "output_type": "stream",
          "text": [
            "\n",
            "Test set: Average loss: 0.0289, Accuracy: 9929/10000 (99%)\n",
            "\n",
            "------------ EPOCH 21 -------------\n"
          ],
          "name": "stdout"
        },
        {
          "output_type": "stream",
          "text": [
            "Loss=0.19857670366764069 Batch_id=468 Accuracy=97.47: 100%|██████████| 469/469 [00:16<00:00, 28.80it/s]\n",
            "  0%|          | 0/469 [00:00<?, ?it/s]"
          ],
          "name": "stderr"
        },
        {
          "output_type": "stream",
          "text": [
            "\n",
            "Test set: Average loss: 0.0289, Accuracy: 9930/10000 (99%)\n",
            "\n",
            "------------ EPOCH 22 -------------\n"
          ],
          "name": "stdout"
        },
        {
          "output_type": "stream",
          "text": [
            "Loss=0.26186347007751465 Batch_id=468 Accuracy=97.33: 100%|██████████| 469/469 [00:16<00:00, 28.35it/s]\n",
            "  0%|          | 0/469 [00:00<?, ?it/s]"
          ],
          "name": "stderr"
        },
        {
          "output_type": "stream",
          "text": [
            "\n",
            "Test set: Average loss: 0.0284, Accuracy: 9930/10000 (99%)\n",
            "\n",
            "------------ EPOCH 23 -------------\n"
          ],
          "name": "stdout"
        },
        {
          "output_type": "stream",
          "text": [
            "Loss=0.3096574544906616 Batch_id=468 Accuracy=97.28: 100%|██████████| 469/469 [00:16<00:00, 28.19it/s]\n",
            "  0%|          | 0/469 [00:00<?, ?it/s]"
          ],
          "name": "stderr"
        },
        {
          "output_type": "stream",
          "text": [
            "\n",
            "Test set: Average loss: 0.0285, Accuracy: 9929/10000 (99%)\n",
            "\n",
            "------------ EPOCH 24 -------------\n"
          ],
          "name": "stdout"
        },
        {
          "output_type": "stream",
          "text": [
            "Loss=0.2407892644405365 Batch_id=468 Accuracy=97.27: 100%|██████████| 469/469 [00:16<00:00, 28.12it/s]\n",
            "  0%|          | 0/469 [00:00<?, ?it/s]"
          ],
          "name": "stderr"
        },
        {
          "output_type": "stream",
          "text": [
            "\n",
            "Test set: Average loss: 0.0287, Accuracy: 9930/10000 (99%)\n",
            "\n",
            "------------ EPOCH 25 -------------\n"
          ],
          "name": "stdout"
        },
        {
          "output_type": "stream",
          "text": [
            "Loss=0.27839115262031555 Batch_id=468 Accuracy=97.34: 100%|██████████| 469/469 [00:16<00:00, 28.17it/s]\n"
          ],
          "name": "stderr"
        },
        {
          "output_type": "stream",
          "text": [
            "\n",
            "Test set: Average loss: 0.0290, Accuracy: 9930/10000 (99%)\n",
            "\n"
          ],
          "name": "stdout"
        }
      ]
    },
    {
      "cell_type": "markdown",
      "metadata": {
        "id": "nOOrEZ8UeZlL"
      },
      "source": [
        "## Plotting results"
      ]
    },
    {
      "cell_type": "code",
      "metadata": {
        "id": "6zzMeNRyGFPe"
      },
      "source": [
        "def plot_metric(results, metric):\r\n",
        "    # Initialize a figure\r\n",
        "    fig = plt.figure(figsize=(13, 11))\r\n",
        "\r\n",
        "    for name, values in results.items():\r\n",
        "        plt.plot(range(1, len(values) + 1), values, '.-', label=name)\r\n",
        "\r\n",
        "    # Set plot title\r\n",
        "    plt.title(f'Validation {metric}')\r\n",
        "\r\n",
        "    # Label axes\r\n",
        "    plt.xlabel('Epoch')\r\n",
        "    plt.ylabel(metric)\r\n",
        "\r\n",
        "    # Set legend\r\n",
        "    location = 'upper' if metric.lower() == 'loss' else 'lower'\r\n",
        "    plt.legend(loc=f'{location} right', \r\n",
        "               shadow=True, \r\n",
        "               prop={'size': 20},\r\n",
        "               )\r\n",
        "\r\n",
        "    # Save plot\r\n",
        "    plt.show()\r\n",
        "    fig.savefig(f'{metric.lower()}.png')"
      ],
      "execution_count": 25,
      "outputs": []
    },
    {
      "cell_type": "code",
      "metadata": {
        "colab": {
          "base_uri": "https://localhost:8080/",
          "height": 1000
        },
        "id": "ocVLQcy7I3-g",
        "outputId": "fd760d9b-d640-4e07-a364-353122d07cea"
      },
      "source": [
        "# Validation loss\r\n",
        "losses = {}\r\n",
        "accuracies = {}\r\n",
        "for k, v in results.items():\r\n",
        "    losses[k] = v['test_loss']\r\n",
        "    accuracies[k] = v['test_acc']\r\n",
        "\r\n",
        "plot_metric(losses, 'Loss')\r\n",
        "plot_metric(accuracies, 'Accuracy')"
      ],
      "execution_count": 26,
      "outputs": [
        {
          "output_type": "display_data",
          "data": {
            "image/png": "[encoded data removed]",
            "text/plain": [
              "<Figure size 936x792 with 1 Axes>"
            ]
          },
          "metadata": {
            "tags": [],
            "needs_background": "light"
          }
        },
        {
          "output_type": "display_data",
          "data": {
            "image/png": "[encoded data removed]",
            "text/plain": [
              "<Figure size 936x792 with 1 Axes>"
            ]
          },
          "metadata": {
            "tags": [],
            "needs_background": "light"
          }
        }
      ]
    },
    {
      "cell_type": "markdown",
      "metadata": {
        "id": "dFc-ObaErofd"
      },
      "source": [
        "## Identifying and plotting misclassified images"
      ]
    },
    {
      "cell_type": "code",
      "metadata": {
        "id": "idmnXfSVKcBp"
      },
      "source": [
        "def identify_misclassification(model, model_path, test_loader, limit=25):\r\n",
        "    incorrect_samples = []\r\n",
        "\r\n",
        "    # identifying device\r\n",
        "    use_cuda = torch.cuda.is_available()\r\n",
        "    device = torch.device(\"cuda\" if use_cuda else \"cpu\")\r\n",
        "\r\n",
        "    # Load the model\r\n",
        "    model.load_state_dict(torch.load(model_path))\r\n",
        "    model.to(device)\r\n",
        "    model.eval()\r\n",
        "\r\n",
        "    # Identify misclassified images\r\n",
        "    with torch.no_grad():\r\n",
        "        for data, target in test_loader:\r\n",
        "            images = data\r\n",
        "            data, target = data.to(device), target.to(device)\r\n",
        "            output = model(data)\r\n",
        "\r\n",
        "            pred = output.argmax(dim=1, keepdim=True)  # get the index of the max log-probability\r\n",
        "            result = pred.eq(target.view_as(pred))\r\n",
        "\r\n",
        "            # Save incorrect samples\r\n",
        "            if len(incorrect_samples) < limit:\r\n",
        "                for i in range(test_loader.batch_size):\r\n",
        "                    if not list(result)[i]:\r\n",
        "                        incorrect_samples.append({\r\n",
        "                            'prediction': list(pred)[i],\r\n",
        "                            'label': list(target.view_as(pred))[i],\r\n",
        "                            'image': list(images)[i]\r\n",
        "                        })\r\n",
        "\r\n",
        "    return incorrect_samples\r\n",
        "\r\n",
        "\r\n",
        "def plot_results(data):\r\n",
        "\r\n",
        "    # Initialize plot\r\n",
        "    row_count = -1\r\n",
        "    fig, axs = plt.subplots(5, 5, figsize=(8, 8))\r\n",
        "    fig.tight_layout()\r\n",
        "\r\n",
        "    for idx, result in enumerate(data):\r\n",
        "        if idx > 24:\r\n",
        "            break\r\n",
        "        \r\n",
        "        label = result['label'].item()\r\n",
        "        prediction = result['prediction'].item()\r\n",
        "\r\n",
        "        # Plot image\r\n",
        "        if idx % 5 == 0:\r\n",
        "            row_count += 1\r\n",
        "        axs[row_count][idx % 5].axis('off')\r\n",
        "        axs[row_count][idx % 5].set_title(f'Label: {label}\\nPrediction: {prediction}')\r\n",
        "        axs[row_count][idx % 5].imshow(result['image'][0], cmap='gray_r')\r\n",
        "    \r\n",
        "    plt.show()\r\n",
        "    fig.savefig(f'incorrect_predictions.png', bbox_inches='tight')"
      ],
      "execution_count": 55,
      "outputs": []
    },
    {
      "cell_type": "code",
      "metadata": {
        "id": "HObJpMu-gUuL",
        "colab": {
          "base_uri": "https://localhost:8080/",
          "height": 622
        },
        "outputId": "70f9300c-af79-43c4-b50e-6da61be5b834"
      },
      "source": [
        "incorrect_samples = identify_misclassification(GBNnet(), '/content/GBN.pt', test_loader)\r\n",
        "# incorrect_samples\r\n",
        "plot_results(incorrect_samples)"
      ],
      "execution_count": 56,
      "outputs": [
        {
          "output_type": "stream",
          "text": [
            "/usr/local/lib/python3.6/dist-packages/ipykernel_launcher.py:53: UserWarning: Implicit dimension choice for log_softmax has been deprecated. Change the call to include dim=X as an argument.\n"
          ],
          "name": "stderr"
        },
        {
          "output_type": "display_data",
          "data": {
            "image/png": "[encoded data removed]",
            "text/plain": [
              "<Figure size 576x576 with 25 Axes>"
            ]
          },
          "metadata": {
            "tags": [],
            "needs_background": "light"
          }
        }
      ]
    },
    {
      "cell_type": "code",
      "metadata": {
        "id": "66k-NU6nurIz"
      },
      "source": [
        ""
      ],
      "execution_count": 32,
      "outputs": []
    }
  ]
}