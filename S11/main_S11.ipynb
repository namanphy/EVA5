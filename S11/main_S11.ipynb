{
  "nbformat": 4,
  "nbformat_minor": 0,
  "metadata": {
    "colab": {
      "name": "main_S11.ipynb",
      "provenance": [],
      "collapsed_sections": [],
      "authorship_tag": "ABX9TyNne6VEdhN3IG9AzFvBlxkF",
      "include_colab_link": true
    },
    "kernelspec": {
      "name": "python3",
      "display_name": "Python 3"
    },
    "accelerator": "GPU",
    "widgets": {
      "application/vnd.jupyter.widget-state+json": {
        "ab781b2658a1410d815e8f0325a680d5": {
          "model_module": "@jupyter-widgets/controls",
          "model_name": "HBoxModel",
          "state": {
            "_view_name": "HBoxView",
            "_dom_classes": [],
            "_model_name": "HBoxModel",
            "_view_module": "@jupyter-widgets/controls",
            "_model_module_version": "1.5.0",
            "_view_count": null,
            "_view_module_version": "1.5.0",
            "box_style": "",
            "layout": "IPY_MODEL_10fd8df5ff334efda640a80fa281736a",
            "_model_module": "@jupyter-widgets/controls",
            "children": [
              "IPY_MODEL_e733505cbed94093abb6cdf88b7b4a1e",
              "IPY_MODEL_1f0ee79eea7a4dcab5ea4a2dc8b5563a"
            ]
          }
        },
        "10fd8df5ff334efda640a80fa281736a": {
          "model_module": "@jupyter-widgets/base",
          "model_name": "LayoutModel",
          "state": {
            "_view_name": "LayoutView",
            "grid_template_rows": null,
            "right": null,
            "justify_content": null,
            "_view_module": "@jupyter-widgets/base",
            "overflow": null,
            "_model_module_version": "1.2.0",
            "_view_count": null,
            "flex_flow": null,
            "width": null,
            "min_width": null,
            "border": null,
            "align_items": null,
            "bottom": null,
            "_model_module": "@jupyter-widgets/base",
            "top": null,
            "grid_column": null,
            "overflow_y": null,
            "overflow_x": null,
            "grid_auto_flow": null,
            "grid_area": null,
            "grid_template_columns": null,
            "flex": null,
            "_model_name": "LayoutModel",
            "justify_items": null,
            "grid_row": null,
            "max_height": null,
            "align_content": null,
            "visibility": null,
            "align_self": null,
            "height": null,
            "min_height": null,
            "padding": null,
            "grid_auto_rows": null,
            "grid_gap": null,
            "max_width": null,
            "order": null,
            "_view_module_version": "1.2.0",
            "grid_template_areas": null,
            "object_position": null,
            "object_fit": null,
            "grid_auto_columns": null,
            "margin": null,
            "display": null,
            "left": null
          }
        },
        "e733505cbed94093abb6cdf88b7b4a1e": {
          "model_module": "@jupyter-widgets/controls",
          "model_name": "FloatProgressModel",
          "state": {
            "_view_name": "ProgressView",
            "style": "IPY_MODEL_b35bc540b7a14c78b3a5e1c5ef883121",
            "_dom_classes": [],
            "description": "",
            "_model_name": "FloatProgressModel",
            "bar_style": "success",
            "max": 170498071,
            "_view_module": "@jupyter-widgets/controls",
            "_model_module_version": "1.5.0",
            "value": 170498071,
            "_view_count": null,
            "_view_module_version": "1.5.0",
            "orientation": "horizontal",
            "min": 0,
            "description_tooltip": null,
            "_model_module": "@jupyter-widgets/controls",
            "layout": "IPY_MODEL_9edbc67bc5ec4acda52a554ae6876282"
          }
        },
        "1f0ee79eea7a4dcab5ea4a2dc8b5563a": {
          "model_module": "@jupyter-widgets/controls",
          "model_name": "HTMLModel",
          "state": {
            "_view_name": "HTMLView",
            "style": "IPY_MODEL_c745206edc3b4819b4824326c32423ff",
            "_dom_classes": [],
            "description": "",
            "_model_name": "HTMLModel",
            "placeholder": "​",
            "_view_module": "@jupyter-widgets/controls",
            "_model_module_version": "1.5.0",
            "value": " 170499072/? [00:26&lt;00:00, 6508946.49it/s]",
            "_view_count": null,
            "_view_module_version": "1.5.0",
            "description_tooltip": null,
            "_model_module": "@jupyter-widgets/controls",
            "layout": "IPY_MODEL_97623035dd4240ddb5e8f842363cf926"
          }
        },
        "b35bc540b7a14c78b3a5e1c5ef883121": {
          "model_module": "@jupyter-widgets/controls",
          "model_name": "ProgressStyleModel",
          "state": {
            "_view_name": "StyleView",
            "_model_name": "ProgressStyleModel",
            "description_width": "initial",
            "_view_module": "@jupyter-widgets/base",
            "_model_module_version": "1.5.0",
            "_view_count": null,
            "_view_module_version": "1.2.0",
            "bar_color": null,
            "_model_module": "@jupyter-widgets/controls"
          }
        },
        "9edbc67bc5ec4acda52a554ae6876282": {
          "model_module": "@jupyter-widgets/base",
          "model_name": "LayoutModel",
          "state": {
            "_view_name": "LayoutView",
            "grid_template_rows": null,
            "right": null,
            "justify_content": null,
            "_view_module": "@jupyter-widgets/base",
            "overflow": null,
            "_model_module_version": "1.2.0",
            "_view_count": null,
            "flex_flow": null,
            "width": null,
            "min_width": null,
            "border": null,
            "align_items": null,
            "bottom": null,
            "_model_module": "@jupyter-widgets/base",
            "top": null,
            "grid_column": null,
            "overflow_y": null,
            "overflow_x": null,
            "grid_auto_flow": null,
            "grid_area": null,
            "grid_template_columns": null,
            "flex": null,
            "_model_name": "LayoutModel",
            "justify_items": null,
            "grid_row": null,
            "max_height": null,
            "align_content": null,
            "visibility": null,
            "align_self": null,
            "height": null,
            "min_height": null,
            "padding": null,
            "grid_auto_rows": null,
            "grid_gap": null,
            "max_width": null,
            "order": null,
            "_view_module_version": "1.2.0",
            "grid_template_areas": null,
            "object_position": null,
            "object_fit": null,
            "grid_auto_columns": null,
            "margin": null,
            "display": null,
            "left": null
          }
        },
        "c745206edc3b4819b4824326c32423ff": {
          "model_module": "@jupyter-widgets/controls",
          "model_name": "DescriptionStyleModel",
          "state": {
            "_view_name": "StyleView",
            "_model_name": "DescriptionStyleModel",
            "description_width": "",
            "_view_module": "@jupyter-widgets/base",
            "_model_module_version": "1.5.0",
            "_view_count": null,
            "_view_module_version": "1.2.0",
            "_model_module": "@jupyter-widgets/controls"
          }
        },
        "97623035dd4240ddb5e8f842363cf926": {
          "model_module": "@jupyter-widgets/base",
          "model_name": "LayoutModel",
          "state": {
            "_view_name": "LayoutView",
            "grid_template_rows": null,
            "right": null,
            "justify_content": null,
            "_view_module": "@jupyter-widgets/base",
            "overflow": null,
            "_model_module_version": "1.2.0",
            "_view_count": null,
            "flex_flow": null,
            "width": null,
            "min_width": null,
            "border": null,
            "align_items": null,
            "bottom": null,
            "_model_module": "@jupyter-widgets/base",
            "top": null,
            "grid_column": null,
            "overflow_y": null,
            "overflow_x": null,
            "grid_auto_flow": null,
            "grid_area": null,
            "grid_template_columns": null,
            "flex": null,
            "_model_name": "LayoutModel",
            "justify_items": null,
            "grid_row": null,
            "max_height": null,
            "align_content": null,
            "visibility": null,
            "align_self": null,
            "height": null,
            "min_height": null,
            "padding": null,
            "grid_auto_rows": null,
            "grid_gap": null,
            "max_width": null,
            "order": null,
            "_view_module_version": "1.2.0",
            "grid_template_areas": null,
            "object_position": null,
            "object_fit": null,
            "grid_auto_columns": null,
            "margin": null,
            "display": null,
            "left": null
          }
        },
        "223cbc19b794444b9925fd9038cf3ab7": {
          "model_module": "@jupyter-widgets/controls",
          "model_name": "HBoxModel",
          "state": {
            "_view_name": "HBoxView",
            "_dom_classes": [],
            "_model_name": "HBoxModel",
            "_view_module": "@jupyter-widgets/controls",
            "_model_module_version": "1.5.0",
            "_view_count": null,
            "_view_module_version": "1.5.0",
            "box_style": "",
            "layout": "IPY_MODEL_83ebc71e3f8c427c8b5d1023158233b4",
            "_model_module": "@jupyter-widgets/controls",
            "children": [
              "IPY_MODEL_4a594c05849a491abf2c574ed6e99d53",
              "IPY_MODEL_102ff75f785843e5afb83dc2202cf0a8"
            ]
          }
        },
        "83ebc71e3f8c427c8b5d1023158233b4": {
          "model_module": "@jupyter-widgets/base",
          "model_name": "LayoutModel",
          "state": {
            "_view_name": "LayoutView",
            "grid_template_rows": null,
            "right": null,
            "justify_content": null,
            "_view_module": "@jupyter-widgets/base",
            "overflow": null,
            "_model_module_version": "1.2.0",
            "_view_count": null,
            "flex_flow": null,
            "width": null,
            "min_width": null,
            "border": null,
            "align_items": null,
            "bottom": null,
            "_model_module": "@jupyter-widgets/base",
            "top": null,
            "grid_column": null,
            "overflow_y": null,
            "overflow_x": null,
            "grid_auto_flow": null,
            "grid_area": null,
            "grid_template_columns": null,
            "flex": null,
            "_model_name": "LayoutModel",
            "justify_items": null,
            "grid_row": null,
            "max_height": null,
            "align_content": null,
            "visibility": null,
            "align_self": null,
            "height": null,
            "min_height": null,
            "padding": null,
            "grid_auto_rows": null,
            "grid_gap": null,
            "max_width": null,
            "order": null,
            "_view_module_version": "1.2.0",
            "grid_template_areas": null,
            "object_position": null,
            "object_fit": null,
            "grid_auto_columns": null,
            "margin": null,
            "display": null,
            "left": null
          }
        },
        "4a594c05849a491abf2c574ed6e99d53": {
          "model_module": "@jupyter-widgets/controls",
          "model_name": "FloatProgressModel",
          "state": {
            "_view_name": "ProgressView",
            "style": "IPY_MODEL_8a89cefcb9834fffb8d1968a3400051a",
            "_dom_classes": [],
            "description": "100%",
            "_model_name": "FloatProgressModel",
            "bar_style": "success",
            "max": 980,
            "_view_module": "@jupyter-widgets/controls",
            "_model_module_version": "1.5.0",
            "value": 980,
            "_view_count": null,
            "_view_module_version": "1.5.0",
            "orientation": "horizontal",
            "min": 0,
            "description_tooltip": null,
            "_model_module": "@jupyter-widgets/controls",
            "layout": "IPY_MODEL_944721beab1a40bd814f655aed8c9ec7"
          }
        },
        "102ff75f785843e5afb83dc2202cf0a8": {
          "model_module": "@jupyter-widgets/controls",
          "model_name": "HTMLModel",
          "state": {
            "_view_name": "HTMLView",
            "style": "IPY_MODEL_d3db35a7d2f64af1b99e7ef6deb7b31b",
            "_dom_classes": [],
            "description": "",
            "_model_name": "HTMLModel",
            "placeholder": "​",
            "_view_module": "@jupyter-widgets/controls",
            "_model_module_version": "1.5.0",
            "value": " 980/980 [04:39&lt;00:00,  3.51it/s]",
            "_view_count": null,
            "_view_module_version": "1.5.0",
            "description_tooltip": null,
            "_model_module": "@jupyter-widgets/controls",
            "layout": "IPY_MODEL_baa1ae0988b0430aa9b5db05492fb901"
          }
        },
        "8a89cefcb9834fffb8d1968a3400051a": {
          "model_module": "@jupyter-widgets/controls",
          "model_name": "ProgressStyleModel",
          "state": {
            "_view_name": "StyleView",
            "_model_name": "ProgressStyleModel",
            "description_width": "initial",
            "_view_module": "@jupyter-widgets/base",
            "_model_module_version": "1.5.0",
            "_view_count": null,
            "_view_module_version": "1.2.0",
            "bar_color": null,
            "_model_module": "@jupyter-widgets/controls"
          }
        },
        "944721beab1a40bd814f655aed8c9ec7": {
          "model_module": "@jupyter-widgets/base",
          "model_name": "LayoutModel",
          "state": {
            "_view_name": "LayoutView",
            "grid_template_rows": null,
            "right": null,
            "justify_content": null,
            "_view_module": "@jupyter-widgets/base",
            "overflow": null,
            "_model_module_version": "1.2.0",
            "_view_count": null,
            "flex_flow": null,
            "width": null,
            "min_width": null,
            "border": null,
            "align_items": null,
            "bottom": null,
            "_model_module": "@jupyter-widgets/base",
            "top": null,
            "grid_column": null,
            "overflow_y": null,
            "overflow_x": null,
            "grid_auto_flow": null,
            "grid_area": null,
            "grid_template_columns": null,
            "flex": null,
            "_model_name": "LayoutModel",
            "justify_items": null,
            "grid_row": null,
            "max_height": null,
            "align_content": null,
            "visibility": null,
            "align_self": null,
            "height": null,
            "min_height": null,
            "padding": null,
            "grid_auto_rows": null,
            "grid_gap": null,
            "max_width": null,
            "order": null,
            "_view_module_version": "1.2.0",
            "grid_template_areas": null,
            "object_position": null,
            "object_fit": null,
            "grid_auto_columns": null,
            "margin": null,
            "display": null,
            "left": null
          }
        },
        "d3db35a7d2f64af1b99e7ef6deb7b31b": {
          "model_module": "@jupyter-widgets/controls",
          "model_name": "DescriptionStyleModel",
          "state": {
            "_view_name": "StyleView",
            "_model_name": "DescriptionStyleModel",
            "description_width": "",
            "_view_module": "@jupyter-widgets/base",
            "_model_module_version": "1.5.0",
            "_view_count": null,
            "_view_module_version": "1.2.0",
            "_model_module": "@jupyter-widgets/controls"
          }
        },
        "baa1ae0988b0430aa9b5db05492fb901": {
          "model_module": "@jupyter-widgets/base",
          "model_name": "LayoutModel",
          "state": {
            "_view_name": "LayoutView",
            "grid_template_rows": null,
            "right": null,
            "justify_content": null,
            "_view_module": "@jupyter-widgets/base",
            "overflow": null,
            "_model_module_version": "1.2.0",
            "_view_count": null,
            "flex_flow": null,
            "width": null,
            "min_width": null,
            "border": null,
            "align_items": null,
            "bottom": null,
            "_model_module": "@jupyter-widgets/base",
            "top": null,
            "grid_column": null,
            "overflow_y": null,
            "overflow_x": null,
            "grid_auto_flow": null,
            "grid_area": null,
            "grid_template_columns": null,
            "flex": null,
            "_model_name": "LayoutModel",
            "justify_items": null,
            "grid_row": null,
            "max_height": null,
            "align_content": null,
            "visibility": null,
            "align_self": null,
            "height": null,
            "min_height": null,
            "padding": null,
            "grid_auto_rows": null,
            "grid_gap": null,
            "max_width": null,
            "order": null,
            "_view_module_version": "1.2.0",
            "grid_template_areas": null,
            "object_position": null,
            "object_fit": null,
            "grid_auto_columns": null,
            "margin": null,
            "display": null,
            "left": null
          }
        }
      }
    }
  },
  "cells": [
    {
      "cell_type": "markdown",
      "metadata": {
        "id": "view-in-github",
        "colab_type": "text"
      },
      "source": [
        "<a href=\"https://colab.research.google.com/github/namanphy/EVA5/blob/main/S11/main_S11.ipynb\" target=\"_parent\"><img src=\"https://colab.research.google.com/assets/colab-badge.svg\" alt=\"Open In Colab\"/></a>"
      ]
    },
    {
      "cell_type": "markdown",
      "metadata": {
        "id": "0hBmN5SIb5G_"
      },
      "source": [
        "## Setting up code\r\n",
        "\r\n",
        "#### Cloning the required [repository](https://github.com/namanphy/EVA5/) and adding the path to the code directory."
      ]
    },
    {
      "cell_type": "code",
      "metadata": {
        "id": "YDOxtM9LH9fb"
      },
      "source": [
        "import sys\r\n",
        "\r\n",
        "! git clone https://github.com/namanphy/EVA5.git\r\n",
        "! pip install git+https://github.com/albumentations-team/albumentations.git\r\n",
        "\r\n",
        "sys.path.append('EVA5/S11/')"
      ],
      "execution_count": null,
      "outputs": []
    },
    {
      "cell_type": "markdown",
      "metadata": {
        "id": "jeL9wV3ncV3V"
      },
      "source": [
        "#### Importing the required modules and files"
      ]
    },
    {
      "cell_type": "code",
      "metadata": {
        "id": "fAMpPcJoc3tk"
      },
      "source": [
        "import cuda\r\n",
        "from data.dataset import CIFAR10\r\n",
        "from data.dataloader import data_loader\r\n",
        "from model import ResModel\r\n",
        "from model.optimizer import sgd_optimizer\r\n",
        "from model.loss import cross_entropy_loss\r\n",
        "from engine import Trainer\r\n",
        "from utils import set_seed, plot_metric, identify_misclassification, plot_results\r\n",
        "from engine.lr_finder import LRFinder\r\n",
        "from engine.lr_scheduler import one_cycle_lr"
      ],
      "execution_count": null,
      "outputs": []
    },
    {
      "cell_type": "code",
      "metadata": {
        "id": "bLHFs_RkZLwt"
      },
      "source": [
        "set_seed(123)\r\n",
        "use_cuda = cuda.cuda_is_available()\r\n",
        "device = cuda.enable_cuda()"
      ],
      "execution_count": null,
      "outputs": []
    },
    {
      "cell_type": "markdown",
      "metadata": {
        "id": "icKclhLChGtH"
      },
      "source": [
        "## Making the data ready"
      ]
    },
    {
      "cell_type": "code",
      "metadata": {
        "colab": {
          "base_uri": "https://localhost:8080/",
          "height": 264,
          "referenced_widgets": [
            "ab781b2658a1410d815e8f0325a680d5",
            "10fd8df5ff334efda640a80fa281736a",
            "e733505cbed94093abb6cdf88b7b4a1e",
            "1f0ee79eea7a4dcab5ea4a2dc8b5563a",
            "b35bc540b7a14c78b3a5e1c5ef883121",
            "9edbc67bc5ec4acda52a554ae6876282",
            "c745206edc3b4819b4824326c32423ff",
            "97623035dd4240ddb5e8f842363cf926"
          ]
        },
        "id": "YlFLraGtbm9W",
        "outputId": "d5a3f0e8-c23b-4bb3-a870-97952b37813f"
      },
      "source": [
        "cifar10 = CIFAR10(mean=(0.5, 0.5, 0.5), std=(0.5, 0.5, 0.5), padding=(36, 36), crop=(32, 32), horizontal_flip=0.5, cutout=0.5, cutout_hw_ratio=4)\r\n",
        "\r\n",
        "train_set = cifar10.download('../data', train=True, apply_transform=True)\r\n",
        "test_set = cifar10.download('../data', train=False, apply_transform=True)\r\n",
        "\r\n",
        "# Loading the datasets into Pytorch Dataloaders\r\n",
        "train_loader = data_loader(train_set, 512, use_cuda, num_workers=16)\r\n",
        "test_loader = data_loader(test_set, 512, use_cuda, num_workers=16)"
      ],
      "execution_count": null,
      "outputs": [
        {
          "output_type": "stream",
          "text": [
            "Downloading https://www.cs.toronto.edu/~kriz/cifar-10-python.tar.gz to ../data/cifar-10-python.tar.gz\n"
          ],
          "name": "stdout"
        },
        {
          "output_type": "display_data",
          "data": {
            "application/vnd.jupyter.widget-view+json": {
              "model_id": "ab781b2658a1410d815e8f0325a680d5",
              "version_minor": 0,
              "version_major": 2
            },
            "text/plain": [
              "HBox(children=(FloatProgress(value=0.0, max=170498071.0), HTML(value='')))"
            ]
          },
          "metadata": {
            "tags": []
          }
        },
        {
          "output_type": "stream",
          "text": [
            "\n",
            "Extracting ../data/cifar-10-python.tar.gz to ../data\n",
            "Transforms :  {'train': True, 'mean': (0.5, 0.5, 0.5), 'std': (0.5, 0.5, 0.5), 'padding': (36, 36), 'crop': (32, 32), 'rotation': 0, 'horizontal_flip': 0.5, 'vertical_flip': 0.0, 'cutout': 0.5, 'cutout_height': 8, 'cutout_width': 8}\n"
          ],
          "name": "stdout"
        },
        {
          "output_type": "stream",
          "text": [
            "/usr/local/lib/python3.7/dist-packages/albumentations/augmentations/transforms.py:645: FutureWarning: This class has been deprecated. Please use CoarseDropout\n",
            "  FutureWarning,\n"
          ],
          "name": "stderr"
        },
        {
          "output_type": "stream",
          "text": [
            "Files already downloaded and verified\n",
            "Transforms :  {'train': False, 'mean': (0.5, 0.5, 0.5), 'std': (0.5, 0.5, 0.5), 'padding': (36, 36), 'crop': (32, 32), 'rotation': 0, 'horizontal_flip': 0.5, 'vertical_flip': 0.0, 'cutout': 0.5, 'cutout_height': 8, 'cutout_width': 8}\n",
            "Files already downloaded and verified\n"
          ],
          "name": "stdout"
        },
        {
          "output_type": "stream",
          "text": [
            "/usr/local/lib/python3.7/dist-packages/torch/utils/data/dataloader.py:477: UserWarning: This DataLoader will create 16 worker processes in total. Our suggested max number of worker in current system is 2, which is smaller than what this DataLoader is going to create. Please be aware that excessive worker creation might get DataLoader running slow or even freeze, lower the worker number to avoid potential slowness/freeze if necessary.\n",
            "  cpuset_checked))\n"
          ],
          "name": "stderr"
        }
      ]
    },
    {
      "cell_type": "markdown",
      "metadata": {
        "id": "7MSRYI0UhPdi"
      },
      "source": [
        "## Import model architecture"
      ]
    },
    {
      "cell_type": "code",
      "metadata": {
        "id": "KwZcsCvxhO6Z",
        "colab": {
          "base_uri": "https://localhost:8080/"
        },
        "outputId": "7bf5f32f-7e09-4b3e-b8c1-758a3088e9af"
      },
      "source": [
        "model = ResModel(num_classes=10, in_planes=3)\r\n",
        "model.name = 'ResidualModel' # Giving my model a name\r\n",
        "model.summary(input_size=(3, 32, 32), device=device)"
      ],
      "execution_count": 36,
      "outputs": [
        {
          "output_type": "stream",
          "text": [
            "----------------------------------------------------------------\n",
            "        Layer (type)               Output Shape         Param #\n",
            "================================================================\n",
            "            Conv2d-1           [-1, 64, 32, 32]           1,728\n",
            "       BatchNorm2d-2           [-1, 64, 32, 32]             128\n",
            "              ReLU-3           [-1, 64, 32, 32]               0\n",
            "            Conv2d-4          [-1, 128, 32, 32]          73,728\n",
            "         MaxPool2d-5          [-1, 128, 16, 16]               0\n",
            "       BatchNorm2d-6          [-1, 128, 16, 16]             256\n",
            "            Conv2d-7          [-1, 128, 16, 16]         147,456\n",
            "       BatchNorm2d-8          [-1, 128, 16, 16]             256\n",
            "            Conv2d-9          [-1, 128, 16, 16]         147,456\n",
            "      BatchNorm2d-10          [-1, 128, 16, 16]             256\n",
            "    ResidualBlock-11          [-1, 128, 16, 16]               0\n",
            "       BasicBlock-12          [-1, 128, 16, 16]               0\n",
            "           Conv2d-13          [-1, 256, 16, 16]         294,912\n",
            "        MaxPool2d-14            [-1, 256, 8, 8]               0\n",
            "      BatchNorm2d-15            [-1, 256, 8, 8]             512\n",
            "       BasicBlock-16            [-1, 256, 8, 8]               0\n",
            "           Conv2d-17            [-1, 512, 8, 8]       1,179,648\n",
            "        MaxPool2d-18            [-1, 512, 4, 4]               0\n",
            "      BatchNorm2d-19            [-1, 512, 4, 4]           1,024\n",
            "           Conv2d-20            [-1, 512, 4, 4]       2,359,296\n",
            "      BatchNorm2d-21            [-1, 512, 4, 4]           1,024\n",
            "           Conv2d-22            [-1, 512, 4, 4]       2,359,296\n",
            "      BatchNorm2d-23            [-1, 512, 4, 4]           1,024\n",
            "    ResidualBlock-24            [-1, 512, 4, 4]               0\n",
            "       BasicBlock-25            [-1, 512, 4, 4]               0\n",
            "        MaxPool2d-26            [-1, 512, 1, 1]               0\n",
            "           Linear-27                   [-1, 10]           5,130\n",
            "================================================================\n",
            "Total params: 6,573,130\n",
            "Trainable params: 6,573,130\n",
            "Non-trainable params: 0\n",
            "----------------------------------------------------------------\n",
            "Input size (MB): 0.01\n",
            "Forward/backward pass size (MB): 6.13\n",
            "Params size (MB): 25.07\n",
            "Estimated Total Size (MB): 31.22\n",
            "----------------------------------------------------------------\n",
            "None\n"
          ],
          "name": "stdout"
        }
      ]
    },
    {
      "cell_type": "markdown",
      "metadata": {
        "id": "CM9ljX5BiQ9s"
      },
      "source": [
        "## Setting up Training"
      ]
    },
    {
      "cell_type": "code",
      "metadata": {
        "colab": {
          "base_uri": "https://localhost:8080/"
        },
        "id": "tJRdwf-ZIKT2",
        "outputId": "76378e14-7c5c-4462-aef7-13d7abe2a6a8"
      },
      "source": [
        "'Total Images', len(train_loader)*512"
      ],
      "execution_count": 37,
      "outputs": [
        {
          "output_type": "execute_result",
          "data": {
            "text/plain": [
              "('Total Images', 50176)"
            ]
          },
          "metadata": {
            "tags": []
          },
          "execution_count": 37
        }
      ]
    },
    {
      "cell_type": "code",
      "metadata": {
        "id": "4X3IrIbUeJnh"
      },
      "source": [
        "results = {}  # empty dict to store results\r\n",
        "\r\n",
        "criterion = cross_entropy_loss()\r\n",
        "optimizer = sgd_optimizer(model, lr=0.005, l2_factor=0.01)"
      ],
      "execution_count": 38,
      "outputs": []
    },
    {
      "cell_type": "markdown",
      "metadata": {
        "id": "XAXAWW03evFg"
      },
      "source": [
        "#### Finding LR - using cyclic LR policy"
      ]
    },
    {
      "cell_type": "code",
      "metadata": {
        "colab": {
          "base_uri": "https://localhost:8080/",
          "height": 140,
          "referenced_widgets": [
            "223cbc19b794444b9925fd9038cf3ab7",
            "83ebc71e3f8c427c8b5d1023158233b4",
            "4a594c05849a491abf2c574ed6e99d53",
            "102ff75f785843e5afb83dc2202cf0a8",
            "8a89cefcb9834fffb8d1968a3400051a",
            "944721beab1a40bd814f655aed8c9ec7",
            "d3db35a7d2f64af1b99e7ef6deb7b31b",
            "baa1ae0988b0430aa9b5db05492fb901"
          ]
        },
        "id": "aS65CBoaeuj5",
        "outputId": "57792355-2897-4ffa-c092-f6b7d8a5df59"
      },
      "source": [
        "start_lr = 0.0001\r\n",
        "end_lr = 0.05\r\n",
        "num_iter = len(train_loader) * 10\r\n",
        "\r\n",
        "lr_finder = LRFinder(model, optimizer, criterion, device=\"cuda\", metric='accuracy')\r\n",
        "lr_finder.range_test(train_loader, start_lr=start_lr, end_lr=end_lr, num_iter=num_iter, step_mode='linear')"
      ],
      "execution_count": 39,
      "outputs": [
        {
          "output_type": "stream",
          "text": [
            "/usr/local/lib/python3.7/dist-packages/torch/utils/data/dataloader.py:477: UserWarning: This DataLoader will create 16 worker processes in total. Our suggested max number of worker in current system is 2, which is smaller than what this DataLoader is going to create. Please be aware that excessive worker creation might get DataLoader running slow or even freeze, lower the worker number to avoid potential slowness/freeze if necessary.\n",
            "  cpuset_checked))\n"
          ],
          "name": "stderr"
        },
        {
          "output_type": "display_data",
          "data": {
            "application/vnd.jupyter.widget-view+json": {
              "model_id": "223cbc19b794444b9925fd9038cf3ab7",
              "version_minor": 0,
              "version_major": 2
            },
            "text/plain": [
              "HBox(children=(FloatProgress(value=0.0, max=980.0), HTML(value='')))"
            ]
          },
          "metadata": {
            "tags": []
          }
        },
        {
          "output_type": "stream",
          "text": [
            "\n",
            "Learning rate search finished. See the graph with {finder_name}.plot()\n"
          ],
          "name": "stdout"
        }
      ]
    },
    {
      "cell_type": "code",
      "metadata": {
        "colab": {
          "base_uri": "https://localhost:8080/",
          "height": 315
        },
        "id": "Krz43iAz_F7h",
        "outputId": "2e1ae98b-f1ba-402f-c5ea-7f3385574d38"
      },
      "source": [
        "lr_finder.plot(skip_start=0, skip_end=0, log_lr=False)\r\n",
        "lr_finder.reset()"
      ],
      "execution_count": 40,
      "outputs": [
        {
          "output_type": "stream",
          "text": [
            "LR suggestion: steepest gradient\n",
            "Suggested LR: 1.72E-02\n"
          ],
          "name": "stdout"
        },
        {
          "output_type": "display_data",
          "data": {
            "image/png": "[encoded data removed]",
            "text/plain": [
              "<Figure size 432x288 with 1 Axes>"
            ]
          },
          "metadata": {
            "tags": [],
            "needs_background": "light"
          }
        }
      ]
    },
    {
      "cell_type": "code",
      "metadata": {
        "colab": {
          "base_uri": "https://localhost:8080/",
          "height": 318
        },
        "id": "_ffQ9dY03z0K",
        "outputId": "9621af3a-00a8-4653-e9b6-786822710312"
      },
      "source": [
        "lr_finder.plot(skip_start=0, skip_end=0, log_lr=True)\r\n",
        "lr_finder.reset()"
      ],
      "execution_count": 41,
      "outputs": [
        {
          "output_type": "stream",
          "text": [
            "LR suggestion: steepest gradient\n",
            "Suggested LR: 1.72E-02\n"
          ],
          "name": "stdout"
        },
        {
          "output_type": "display_data",
          "data": {
            "image/png": "[encoded data removed]",
            "text/plain": [
              "<Figure size 432x288 with 1 Axes>"
            ]
          },
          "metadata": {
            "tags": [],
            "needs_background": "light"
          }
        }
      ]
    },
    {
      "cell_type": "markdown",
      "metadata": {
        "id": "jbANPM2njAkw"
      },
      "source": [
        "Choosing the max LR from above as - **0.02**"
      ]
    },
    {
      "cell_type": "markdown",
      "metadata": {
        "id": "QHtjIxrRfNUu"
      },
      "source": [
        "#### Training Model"
      ]
    },
    {
      "cell_type": "code",
      "metadata": {
        "id": "tXJOGjZFN2fa"
      },
      "source": [
        "epochs = 24\r\n",
        "steps_per_epoch = len(train_loader)\r\n",
        "max_lr = 0.02\r\n",
        "\r\n",
        "scheduler = one_cycle_lr(optimizer, max_lr, epochs=epochs, steps_per_epoch=steps_per_epoch, \r\n",
        "                         pct_start=5/epochs, div_factor=5, final_div_factor=1)\r\n"
      ],
      "execution_count": 42,
      "outputs": []
    },
    {
      "cell_type": "code",
      "metadata": {
        "id": "9cTSFKGpfHJv",
        "colab": {
          "base_uri": "https://localhost:8080/"
        },
        "outputId": "635970fc-95b8-4510-f671-036ae6b2e3d3"
      },
      "source": [
        "# Setting up the trainer\r\n",
        "trainer = Trainer(model, optimizer, criterion, train_loader, valid_data_loader=test_loader,\r\n",
        "                  callbacks=[scheduler], l1_loss=False)\r\n",
        "\r\n",
        "results['resnet18'] = trainer.train(24)\r\n",
        "trainer.save('cifar10_model')"
      ],
      "execution_count": 43,
      "outputs": [
        {
          "output_type": "stream",
          "text": [
            "\r  0%|          | 0/98 [00:00<?, ?it/s]"
          ],
          "name": "stderr"
        },
        {
          "output_type": "stream",
          "text": [
            "------------ EPOCH 1 -------------\n"
          ],
          "name": "stdout"
        },
        {
          "output_type": "stream",
          "text": [
            "/usr/local/lib/python3.7/dist-packages/torch/utils/data/dataloader.py:477: UserWarning: This DataLoader will create 16 worker processes in total. Our suggested max number of worker in current system is 2, which is smaller than what this DataLoader is going to create. Please be aware that excessive worker creation might get DataLoader running slow or even freeze, lower the worker number to avoid potential slowness/freeze if necessary.\n",
            "  cpuset_checked))\n",
            "Loss=1.1470537185668945 Batch_id=97 Accuracy=45.97: 100%|██████████| 98/98 [00:28<00:00,  3.45it/s]\n",
            "  0%|          | 0/98 [00:00<?, ?it/s]"
          ],
          "name": "stderr"
        },
        {
          "output_type": "stream",
          "text": [
            "\n",
            "Test set: Average loss: 1.4459, Accuracy: 4983/10000 (50%)\n",
            "\n",
            "------------ EPOCH 2 -------------\n"
          ],
          "name": "stdout"
        },
        {
          "output_type": "stream",
          "text": [
            "Loss=0.8900521397590637 Batch_id=97 Accuracy=65.29: 100%|██████████| 98/98 [00:27<00:00,  3.56it/s]\n",
            "  0%|          | 0/98 [00:00<?, ?it/s]"
          ],
          "name": "stderr"
        },
        {
          "output_type": "stream",
          "text": [
            "\n",
            "Test set: Average loss: 0.9146, Accuracy: 6738/10000 (67%)\n",
            "\n",
            "------------ EPOCH 3 -------------\n"
          ],
          "name": "stdout"
        },
        {
          "output_type": "stream",
          "text": [
            "Loss=0.6655058860778809 Batch_id=97 Accuracy=73.82: 100%|██████████| 98/98 [00:27<00:00,  3.58it/s]\n",
            "  0%|          | 0/98 [00:00<?, ?it/s]"
          ],
          "name": "stderr"
        },
        {
          "output_type": "stream",
          "text": [
            "\n",
            "Test set: Average loss: 0.7134, Accuracy: 7486/10000 (75%)\n",
            "\n",
            "------------ EPOCH 4 -------------\n"
          ],
          "name": "stdout"
        },
        {
          "output_type": "stream",
          "text": [
            "Loss=0.5601049661636353 Batch_id=97 Accuracy=78.86: 100%|██████████| 98/98 [00:27<00:00,  3.52it/s]\n",
            "  0%|          | 0/98 [00:00<?, ?it/s]"
          ],
          "name": "stderr"
        },
        {
          "output_type": "stream",
          "text": [
            "\n",
            "Test set: Average loss: 0.5809, Accuracy: 7978/10000 (80%)\n",
            "\n",
            "------------ EPOCH 5 -------------\n"
          ],
          "name": "stdout"
        },
        {
          "output_type": "stream",
          "text": [
            "Loss=0.4991864562034607 Batch_id=97 Accuracy=81.66: 100%|██████████| 98/98 [00:27<00:00,  3.56it/s]\n",
            "  0%|          | 0/98 [00:00<?, ?it/s]"
          ],
          "name": "stderr"
        },
        {
          "output_type": "stream",
          "text": [
            "\n",
            "Test set: Average loss: 0.5422, Accuracy: 8163/10000 (82%)\n",
            "\n",
            "------------ EPOCH 6 -------------\n"
          ],
          "name": "stdout"
        },
        {
          "output_type": "stream",
          "text": [
            "Loss=0.46764373779296875 Batch_id=97 Accuracy=83.90: 100%|██████████| 98/98 [00:27<00:00,  3.58it/s]\n",
            "  0%|          | 0/98 [00:00<?, ?it/s]"
          ],
          "name": "stderr"
        },
        {
          "output_type": "stream",
          "text": [
            "\n",
            "Test set: Average loss: 0.5124, Accuracy: 8203/10000 (82%)\n",
            "\n",
            "------------ EPOCH 7 -------------\n"
          ],
          "name": "stdout"
        },
        {
          "output_type": "stream",
          "text": [
            "Loss=0.4634071886539459 Batch_id=97 Accuracy=85.97: 100%|██████████| 98/98 [00:27<00:00,  3.60it/s]\n",
            "  0%|          | 0/98 [00:00<?, ?it/s]"
          ],
          "name": "stderr"
        },
        {
          "output_type": "stream",
          "text": [
            "\n",
            "Test set: Average loss: 0.5097, Accuracy: 8259/10000 (83%)\n",
            "\n",
            "------------ EPOCH 8 -------------\n"
          ],
          "name": "stdout"
        },
        {
          "output_type": "stream",
          "text": [
            "Loss=0.3555653989315033 Batch_id=97 Accuracy=87.16: 100%|██████████| 98/98 [00:27<00:00,  3.59it/s]\n",
            "  0%|          | 0/98 [00:00<?, ?it/s]"
          ],
          "name": "stderr"
        },
        {
          "output_type": "stream",
          "text": [
            "\n",
            "Test set: Average loss: 0.5485, Accuracy: 8187/10000 (82%)\n",
            "\n",
            "------------ EPOCH 9 -------------\n"
          ],
          "name": "stdout"
        },
        {
          "output_type": "stream",
          "text": [
            "Loss=0.42975154519081116 Batch_id=97 Accuracy=88.73: 100%|██████████| 98/98 [00:27<00:00,  3.56it/s]\n",
            "  0%|          | 0/98 [00:00<?, ?it/s]"
          ],
          "name": "stderr"
        },
        {
          "output_type": "stream",
          "text": [
            "\n",
            "Test set: Average loss: 0.4153, Accuracy: 8572/10000 (86%)\n",
            "\n",
            "------------ EPOCH 10 -------------\n"
          ],
          "name": "stdout"
        },
        {
          "output_type": "stream",
          "text": [
            "Loss=0.3333973288536072 Batch_id=97 Accuracy=89.46: 100%|██████████| 98/98 [00:27<00:00,  3.57it/s]\n",
            "  0%|          | 0/98 [00:00<?, ?it/s]"
          ],
          "name": "stderr"
        },
        {
          "output_type": "stream",
          "text": [
            "\n",
            "Test set: Average loss: 0.4347, Accuracy: 8552/10000 (86%)\n",
            "\n",
            "------------ EPOCH 11 -------------\n"
          ],
          "name": "stdout"
        },
        {
          "output_type": "stream",
          "text": [
            "Loss=0.3864227831363678 Batch_id=97 Accuracy=90.28: 100%|██████████| 98/98 [00:27<00:00,  3.59it/s]\n",
            "  0%|          | 0/98 [00:00<?, ?it/s]"
          ],
          "name": "stderr"
        },
        {
          "output_type": "stream",
          "text": [
            "\n",
            "Test set: Average loss: 0.4586, Accuracy: 8433/10000 (84%)\n",
            "\n",
            "------------ EPOCH 12 -------------\n"
          ],
          "name": "stdout"
        },
        {
          "output_type": "stream",
          "text": [
            "Loss=0.250760555267334 Batch_id=97 Accuracy=90.57: 100%|██████████| 98/98 [00:27<00:00,  3.58it/s]\n",
            "  0%|          | 0/98 [00:00<?, ?it/s]"
          ],
          "name": "stderr"
        },
        {
          "output_type": "stream",
          "text": [
            "\n",
            "Test set: Average loss: 0.4230, Accuracy: 8586/10000 (86%)\n",
            "\n",
            "------------ EPOCH 13 -------------\n"
          ],
          "name": "stdout"
        },
        {
          "output_type": "stream",
          "text": [
            "Loss=0.3002587854862213 Batch_id=97 Accuracy=90.99: 100%|██████████| 98/98 [00:27<00:00,  3.56it/s]\n",
            "  0%|          | 0/98 [00:00<?, ?it/s]"
          ],
          "name": "stderr"
        },
        {
          "output_type": "stream",
          "text": [
            "\n",
            "Test set: Average loss: 0.4072, Accuracy: 8572/10000 (86%)\n",
            "\n",
            "------------ EPOCH 14 -------------\n"
          ],
          "name": "stdout"
        },
        {
          "output_type": "stream",
          "text": [
            "Loss=0.22057612240314484 Batch_id=97 Accuracy=91.90: 100%|██████████| 98/98 [00:27<00:00,  3.55it/s]\n",
            "  0%|          | 0/98 [00:00<?, ?it/s]"
          ],
          "name": "stderr"
        },
        {
          "output_type": "stream",
          "text": [
            "\n",
            "Test set: Average loss: 0.3868, Accuracy: 8701/10000 (87%)\n",
            "\n",
            "------------ EPOCH 15 -------------\n"
          ],
          "name": "stdout"
        },
        {
          "output_type": "stream",
          "text": [
            "Loss=0.2606865167617798 Batch_id=97 Accuracy=92.06: 100%|██████████| 98/98 [00:27<00:00,  3.58it/s]\n",
            "  0%|          | 0/98 [00:00<?, ?it/s]"
          ],
          "name": "stderr"
        },
        {
          "output_type": "stream",
          "text": [
            "\n",
            "Test set: Average loss: 0.3797, Accuracy: 8701/10000 (87%)\n",
            "\n",
            "------------ EPOCH 16 -------------\n"
          ],
          "name": "stdout"
        },
        {
          "output_type": "stream",
          "text": [
            "Loss=0.22081361711025238 Batch_id=97 Accuracy=92.65: 100%|██████████| 98/98 [00:27<00:00,  3.61it/s]\n",
            "  0%|          | 0/98 [00:00<?, ?it/s]"
          ],
          "name": "stderr"
        },
        {
          "output_type": "stream",
          "text": [
            "\n",
            "Test set: Average loss: 0.3383, Accuracy: 8836/10000 (88%)\n",
            "\n",
            "------------ EPOCH 17 -------------\n"
          ],
          "name": "stdout"
        },
        {
          "output_type": "stream",
          "text": [
            "Loss=0.2549535930156708 Batch_id=97 Accuracy=92.55: 100%|██████████| 98/98 [00:27<00:00,  3.57it/s]\n",
            "  0%|          | 0/98 [00:00<?, ?it/s]"
          ],
          "name": "stderr"
        },
        {
          "output_type": "stream",
          "text": [
            "\n",
            "Test set: Average loss: 0.3476, Accuracy: 8816/10000 (88%)\n",
            "\n",
            "------------ EPOCH 18 -------------\n"
          ],
          "name": "stdout"
        },
        {
          "output_type": "stream",
          "text": [
            "Loss=0.18400831520557404 Batch_id=97 Accuracy=93.33: 100%|██████████| 98/98 [00:27<00:00,  3.57it/s]\n",
            "  0%|          | 0/98 [00:00<?, ?it/s]"
          ],
          "name": "stderr"
        },
        {
          "output_type": "stream",
          "text": [
            "\n",
            "Test set: Average loss: 0.4224, Accuracy: 8600/10000 (86%)\n",
            "\n",
            "------------ EPOCH 19 -------------\n"
          ],
          "name": "stdout"
        },
        {
          "output_type": "stream",
          "text": [
            "Loss=0.22104176878929138 Batch_id=97 Accuracy=93.30: 100%|██████████| 98/98 [00:27<00:00,  3.57it/s]\n",
            "  0%|          | 0/98 [00:00<?, ?it/s]"
          ],
          "name": "stderr"
        },
        {
          "output_type": "stream",
          "text": [
            "\n",
            "Test set: Average loss: 0.3574, Accuracy: 8785/10000 (88%)\n",
            "\n",
            "------------ EPOCH 20 -------------\n"
          ],
          "name": "stdout"
        },
        {
          "output_type": "stream",
          "text": [
            "Loss=0.18974079191684723 Batch_id=97 Accuracy=93.84: 100%|██████████| 98/98 [00:27<00:00,  3.58it/s]\n",
            "  0%|          | 0/98 [00:00<?, ?it/s]"
          ],
          "name": "stderr"
        },
        {
          "output_type": "stream",
          "text": [
            "\n",
            "Test set: Average loss: 0.3818, Accuracy: 8737/10000 (87%)\n",
            "\n",
            "------------ EPOCH 21 -------------\n"
          ],
          "name": "stdout"
        },
        {
          "output_type": "stream",
          "text": [
            "Loss=0.24697932600975037 Batch_id=97 Accuracy=93.83: 100%|██████████| 98/98 [00:27<00:00,  3.57it/s]\n",
            "  0%|          | 0/98 [00:00<?, ?it/s]"
          ],
          "name": "stderr"
        },
        {
          "output_type": "stream",
          "text": [
            "\n",
            "Test set: Average loss: 0.4049, Accuracy: 8687/10000 (87%)\n",
            "\n",
            "------------ EPOCH 22 -------------\n"
          ],
          "name": "stdout"
        },
        {
          "output_type": "stream",
          "text": [
            "Loss=0.1736430525779724 Batch_id=97 Accuracy=93.86: 100%|██████████| 98/98 [00:27<00:00,  3.57it/s]\n",
            "  0%|          | 0/98 [00:00<?, ?it/s]"
          ],
          "name": "stderr"
        },
        {
          "output_type": "stream",
          "text": [
            "\n",
            "Test set: Average loss: 0.3426, Accuracy: 8819/10000 (88%)\n",
            "\n",
            "------------ EPOCH 23 -------------\n"
          ],
          "name": "stdout"
        },
        {
          "output_type": "stream",
          "text": [
            "Loss=0.18037928640842438 Batch_id=97 Accuracy=94.14: 100%|██████████| 98/98 [00:27<00:00,  3.57it/s]\n",
            "  0%|          | 0/98 [00:00<?, ?it/s]"
          ],
          "name": "stderr"
        },
        {
          "output_type": "stream",
          "text": [
            "\n",
            "Test set: Average loss: 0.3412, Accuracy: 8857/10000 (89%)\n",
            "\n",
            "------------ EPOCH 24 -------------\n"
          ],
          "name": "stdout"
        },
        {
          "output_type": "stream",
          "text": [
            "Loss=0.21087801456451416 Batch_id=97 Accuracy=94.30: 100%|██████████| 98/98 [00:27<00:00,  3.57it/s]\n"
          ],
          "name": "stderr"
        },
        {
          "output_type": "stream",
          "text": [
            "\n",
            "Test set: Average loss: 0.3142, Accuracy: 8951/10000 (90%)\n",
            "\n"
          ],
          "name": "stdout"
        }
      ]
    },
    {
      "cell_type": "markdown",
      "metadata": {
        "id": "hvgeAEUPlZMJ"
      },
      "source": [
        "## Analyzing results "
      ]
    },
    {
      "cell_type": "code",
      "metadata": {
        "colab": {
          "base_uri": "https://localhost:8080/"
        },
        "id": "d2q2zSySo4tK",
        "outputId": "f14bd55a-450a-4447-9419-ecd03d33b2af"
      },
      "source": [
        "from statistics import mean\r\n",
        "print('Train accuracy - ',  max(results['resnet18']['train_acc']))\r\n",
        "print('Test accuracy - ',  max(results['resnet18']['test_acc']))"
      ],
      "execution_count": 44,
      "outputs": [
        {
          "output_type": "stream",
          "text": [
            "Train accuracy -  94.296\n",
            "Test accuracy -  89.51\n"
          ],
          "name": "stdout"
        }
      ]
    },
    {
      "cell_type": "code",
      "metadata": {
        "id": "tiaOzVo8kRA7",
        "colab": {
          "base_uri": "https://localhost:8080/",
          "height": 676
        },
        "outputId": "69b80e0f-3c13-471e-8e9e-43b98adfa1ef"
      },
      "source": [
        "plot_metric({'train': results['resnet18']['train_acc'], 'test': results['resnet18']['test_acc']}, 'Accuracy')"
      ],
      "execution_count": 45,
      "outputs": [
        {
          "output_type": "display_data",
          "data": {
            "image/png": "[encoded data removed]",
            "text/plain": [
              "<Figure size 936x792 with 1 Axes>"
            ]
          },
          "metadata": {
            "tags": [],
            "needs_background": "light"
          }
        }
      ]
    },
    {
      "cell_type": "code",
      "metadata": {
        "id": "XDyYhzdedekT"
      },
      "source": [
        ""
      ],
      "execution_count": null,
      "outputs": []
    }
  ]
}